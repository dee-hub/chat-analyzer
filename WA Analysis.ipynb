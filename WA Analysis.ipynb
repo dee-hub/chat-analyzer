{
 "cells": [
  {
   "cell_type": "raw",
   "id": "21c87a3c",
   "metadata": {},
   "source": [
    "import re\n",
    "import pandas as pd\n",
    "\n",
    "DATE_TIME = re.compile(r\"([(\\[]).*?([)\\]])\")\n",
    "AUTHOR = re.compile(r\"((( [a-zA-ZöäüÖÄÜ]+)+):)\")\n",
    "LTR = chr(8206)\n",
    "\n",
    "\n",
    "def to_pd_row(s):\n",
    "    match = DATE_TIME.match(s)\n",
    "    if match:\n",
    "        g = match.group(0)\n",
    "        date = g[1:9]\n",
    "        time = g[11:-1]\n",
    "        author = re.search(AUTHOR, s).group(0)[1:-1]\n",
    "        message = s.split(': ')[1]\n",
    "        return date, time, author, message.replace(\"\\n\", \"\")\n",
    "\n",
    "\n",
    "def chat():\n",
    "    filename = \"C:/Users/Dee/Desktop/Portfolio/Chat Analysis/WhatsApp Chat - Engr.2021 Alumni(FET)/_chat.txt\"\n",
    "    try:\n",
    "        with open(filename) as f:\n",
    "            for l in f.readlines():\n",
    "                yield to_pd_row(l.replace(LTR, \"\"))\n",
    "            f.close()\n",
    "    except Exception as e:\n",
    "        print(f\"Could not process {filename}, because the following error occured: {type(e).__name__}: {str(e)}\")\n",
    "\n",
    "\n",
    "if __name__ == \"__main__\":\n",
    "    df = pd.DataFrame(data=list(chat()), columns=[\"Date\", \"Time\", \"Author\", \"Message\"])\n",
    "    # df = df[df.Message != \"Bild weggelassen\"]\n",
    "    # df = df[df.Message != \"Audio weggelassen\"]\n",
    "    print(df.groupby('Date').describe())\n",
    "    print(df.describe())"
   ]
  },
  {
   "cell_type": "raw",
   "id": "93beaf1f",
   "metadata": {},
   "source": [
    "import pandas as pd\n",
    "help(pd.read_csv)"
   ]
  },
  {
   "cell_type": "raw",
   "id": "0ea8a5ea",
   "metadata": {},
   "source": [
    "import pandas as pd\n",
    "filename=\"_chat.txt\"\n",
    "df=pd.read_csv(filename,header=None,error_bad_lines=False,encoding='utf8')"
   ]
  },
  {
   "cell_type": "raw",
   "id": "93396d8e",
   "metadata": {},
   "source": [
    "df"
   ]
  },
  {
   "cell_type": "raw",
   "id": "bca7fd7d",
   "metadata": {},
   "source": [
    "# Load chat\n",
    "from whatstk import WhatsAppChat\n",
    "filepath = '_chat.txt'\n",
    "chat = WhatsAppChat.from_source(filepath=filepath, hformat='[%d-%m-%y %H:%M] %name:')"
   ]
  },
  {
   "cell_type": "raw",
   "id": "04575795",
   "metadata": {},
   "source": [
    "def startsWithDateAndTime(s):\n",
    "    pattern = '^[\\d{2}/\\d{2}/\\d{4},\\s\\d{2}:\\d{2}:\\d{2}]$'\n",
    "    result = re.match(pattern, s)\n",
    "    if result:\n",
    "        return True\n",
    "    return False\n",
    "\n",
    "### Regex pattern to extract username of Author.\n",
    "def FindAuthor(s):\n",
    "    patterns = [\n",
    "        '([w]+):',                        # First Name\n",
    "        '([w]+[s]+[w]+):',              # First Name + Last Name\n",
    "        '([w]+[s]+[w]+[s]+[w]+):',    # First Name + Middle Name + Last Name\n",
    "        '([+]d{2} d{5} d{5}):',         # Mobile Number (India no.)\n",
    "        '([+]d{2} d{3} d{3} d{4}):',   # Mobile Number (US no.)\n",
    "        '([w]+)[u263a-U0001f999]+:',    # Name and Emoji              \n",
    "    ]\n",
    "    pattern = '^' + '|'.join(patterns)\n",
    "    result = re.match(pattern, s)\n",
    "    if result:\n",
    "        return True\n",
    "    return False\n",
    "\n",
    "\n",
    "### Extracting Date, Time, Author and message from the chat file.\n",
    "def getDataPoint(line):   \n",
    "    splitLine = line.split(' - ') \n",
    "    dateTime = splitLine[0]\n",
    "    date, time = dateTime.split(', ') \n",
    "    message = ' '.join(splitLine[1:])\n",
    "    if FindAuthor(message): \n",
    "        splitMessage = message.split(': ') \n",
    "        author = splitMessage[0] \n",
    "        message = ' '.join(splitMessage[1:])\n",
    "    else:\n",
    "        author = None\n",
    "    return date, time, author, message\n",
    "\n",
    "### Finally creating a dataframe and storing all data inside that dataframe.\n",
    "parsedData = [] # List to keep track of data so it can be used by a Pandas dataframe\n",
    "### Uploading exported chat file\n",
    "conversationPath = '_chat.txt' # chat file\n",
    "with open(conversationPath, encoding=\"utf-8\") as fp:\n",
    "    ### Skipping first line of the file because contains information related to something about end-to-end encryption\n",
    "    fp.readline() \n",
    "    messageBuffer = [] \n",
    "    date, time, author = None, None, None\n",
    "    while True:\n",
    "        line = fp.readline()\n",
    "        if not line:\n",
    "            break\n",
    "        line = line.strip() \n",
    "        if startsWithDateAndTime(line): \n",
    "            if len(messageBuffer) > 0: \n",
    "                parsedData.append([date, time, author, ' '.join(messageBuffer)]) \n",
    "            messageBuffer.clear() \n",
    "            date, time, author, message = getDataPoint(line) \n",
    "            messageBuffer.append(message) \n",
    "            print(message)\n",
    "        else:\n",
    "            messageBuffer.append(line)\n",
    "            print(line)\n",
    "\n",
    "df = pd.DataFrame(parsedData, columns=['Date', 'Time', 'Author', 'Message']) # Initialising a pandas Dataframe.\n",
    "### changing datatype of \"Date\" column.\n",
    "df[\"Date\"] = pd.to_datetime(df[\"Date\"])"
   ]
  },
  {
   "cell_type": "code",
   "execution_count": 1,
   "id": "7d5b4179",
   "metadata": {},
   "outputs": [],
   "source": [
    "#!pip install pandas"
   ]
  },
  {
   "cell_type": "code",
   "execution_count": 118,
   "id": "f1cd3513",
   "metadata": {},
   "outputs": [
    {
     "name": "stderr",
     "output_type": "stream",
     "text": [
      "<>:27: DeprecationWarning:\n",
      "\n",
      "invalid escape sequence \\[\n",
      "\n",
      "<>:27: DeprecationWarning:\n",
      "\n",
      "invalid escape sequence \\[\n",
      "\n",
      "C:\\Users\\Dee\\AppData\\Local\\Temp\\ipykernel_3276\\2091786194.py:27: DeprecationWarning:\n",
      "\n",
      "invalid escape sequence \\[\n",
      "\n",
      "[nltk_data] Downloading package stopwords to\n",
      "[nltk_data]     C:\\Users\\Dee\\AppData\\Roaming\\nltk_data...\n",
      "[nltk_data]   Package stopwords is already up-to-date!\n"
     ]
    }
   ],
   "source": [
    "import pandas as pd\n",
    "import re\n",
    "import pandas as pd\n",
    "import plotly.express as px\n",
    "import plotly.express as px\n",
    "import spacy\n",
    "import numpy as np\n",
    "import gensim.corpora as corpora\n",
    "import gensim\n",
    "import pyLDAvis.gensim_models\n",
    "import pickle \n",
    "import pyLDAvis\n",
    "import os\n",
    "from gensim.utils import simple_preprocess\n",
    "import nltk\n",
    "nltk.download('stopwords')\n",
    "from nltk.corpus import stopwords\n",
    "\n",
    "def import_chat(file):\n",
    "    # Read the file\n",
    "    with open(file, 'r', encoding='utf-8') as f:\n",
    "        lines = f.readlines()\n",
    "\n",
    "    # Extract the data using regular expressions\n",
    "    data = []\n",
    "    for line in lines:\n",
    "        match = re.findall('\\[(.*?)\\] (.*?): (.*)', line.strip())\n",
    "        if match:\n",
    "            data.append(match[0])\n",
    "        \n",
    "    # Create a pandas dataframe from the data\n",
    "    print()\n",
    "    df = pd.DataFrame(data, columns=['DateTime', 'Author', 'Message'])\n",
    "    df.drop([0, 1, 2], axis='index', inplace=True)\n",
    "    # Create a new dataframe with only valid rows\n",
    "    valid_rows = []\n",
    "    for i, row in df.iterrows():\n",
    "        try:\n",
    "            date_time = pd.to_datetime(row['DateTime'], format='%m/%d/%y, %I:%M:%S %p')\n",
    "            row['Date'] = date_time.date()\n",
    "            row['Time'] = date_time.time()\n",
    "            valid_rows.append(row)\n",
    "        except ValueError as e:\n",
    "            print(f\"Error on row {i}: {e}\")\n",
    "    df = pd.DataFrame(valid_rows)\n",
    "    df.reset_index(inplace=True, drop=True)\n",
    "    return df# Display the first 5 rows of the valid dataframe\n",
    "\n",
    "def plot_message(file):\n",
    "    data = import_chat(file)\n",
    "# Get the value counts for each author\n",
    "    author_freq = data['Author'].value_counts()\n",
    "# Get the top 10 authors by message count\n",
    "    top_authors = author_freq.iloc[:10]\n",
    "# Create a dataframe with the author and message count data\n",
    "    data_messages = pd.DataFrame({'Author': top_authors.index, 'Message Count': top_authors.values})\n",
    "# Create the plot using plotly.express\n",
    "    fig = px.bar(data_messages, x='Message Count', y='Author', orientation='h',\n",
    "                 labels={'Message Count': 'Message Count', 'Author': 'Author'},\n",
    "                 title='Top 10 Authors by Message Count')\n",
    "    fig.show()\n",
    "\n",
    "def character_count(data):\n",
    "    data = import_chat(file)\n",
    "    data['Message Character Count'] = data['Message'].apply(lambda x: len(x))\n",
    "    dataframe = data.copy()\n",
    "# Calculate the total character count for each author\n",
    "    author_character_counts = data.groupby('Author')['Message Character Count'].sum()\n",
    "# Sort the authors by their total character count in descending order\n",
    "    sorted_authors = author_character_counts.sort_values(ascending=False)\n",
    "    sorted_authors = sorted_authors.iloc[:10]\n",
    "# Create a dataframe with the author and message count data\n",
    "    data_character = pd.DataFrame({'Author': sorted_authors.index, 'Character Count': sorted_authors.values})\n",
    "# Create the plot using plotly.express\n",
    "    fig = px.bar(data_character, x='Character Count', y='Author', orientation='h',\n",
    "                 labels={'Character Count': 'Character Count', 'Author': 'Author'},\n",
    "                 title='Top 10 Authors by Message Count')\n",
    "    fig.show()\n",
    "    \n",
    "    return dataframe\n",
    "\n",
    "def pie_chart(data):\n",
    "# Calculate the total character count for each author\n",
    "    data = character_count(data)\n",
    "    author_character_counts = data.groupby('Author')['Message Character Count'].sum()\n",
    "# Sort the authors by their total character count in descending order\n",
    "    sorted_authors = author_character_counts.sort_values(ascending=False)\n",
    "    top_authors = sorted_authors.iloc[:10]\n",
    "# Calculate the sum of the character counts\n",
    "    total_character_count = top_authors.sum()\n",
    "# Calculate the percentage of character count for each author\n",
    "    author_percentages = [(count / total_character_count) * 100 for count in top_authors]\n",
    "# Calculate the total character count of the authors outside the top 10\n",
    "    other_authors = sorted_authors.iloc[10:]\n",
    "    other_character_count = other_authors.sum()\n",
    "# Calculate the percentage of character count for the other authors\n",
    "    other_percentage = (other_character_count / total_character_count) * 100\n",
    "# Create a dataframe with the author and percentage data, including 'others'\n",
    "    data = pd.DataFrame({'Author': list(top_authors.index) + ['Others'], 'Percentage': list(author_percentages) + [other_percentage]})\n",
    "# Create the plot using plotly.express\n",
    "    fig = px.pie(data, values='Percentage', names='Author',\n",
    "                 title='Top 10 Authors by Character Count (including Others)')\n",
    "    fig.show()\n",
    "\n",
    "def line_by_hour(data):\n",
    "    data = character_count(data)\n",
    "    data['DateTime'] = pd.to_datetime(data['DateTime'], format='%m/%d/%y, %I:%M:%S %p')\n",
    "# Group the messages by hour\n",
    "    hourly_counts = data.groupby(data['DateTime'].dt.hour)['Message'].count().reset_index(name='Message Count')\n",
    "    hourly_counts['DateTime'] = hourly_counts['DateTime'].map({0: '12AM', 1: '1AM', 2: '2AM', 3: '3AM', 4: '4AM', 5: '5AM',\n",
    "                                                               6: '6AM', 7: '7AM', 8: '8AM', 9: '9AM', 10: '10AM', 11: '11AM',\n",
    "                                                               12: '12PM', 13: '1PM', 14: '2PM', 15: '3PM', 16: '4PM', 17: '5PM',\n",
    "                                                               18: '6PM', 19: '7PM', 20: '8PM', 21: '9PM', 22: '10PM', 23: '11PM'})\n",
    "# Plot the chart using plotly.express\n",
    "    fig = px.line(hourly_counts, x='DateTime', y='Message Count', title='Messages by Hour')\n",
    "    fig.show()\n",
    "\n",
    "\n",
    "def pre_process(dataframe):\n",
    "    pattern = r'[^a-zA-Z\\s]|\\s+[a-zA-Z]\\s+|\\s+'\n",
    "# apply the regex pattern to the 'message' column, remove punctuations and emojis\n",
    "    dataframe['New Message'] = dataframe['Message'].apply(lambda x: re.sub(pattern, ' ', x))\n",
    "\n",
    "# convert the 'message' column to lowercase\n",
    "    dataframe['New Message'] = dataframe['New Message'].str.lower()\n",
    "\n",
    "    # Filter out the rows containing these texts\n",
    "    dataframe = dataframe[~dataframe['Message'].str.contains('omitted|deleted')]\n",
    "    filter_func = lambda s: ' '.join([w for w in s.split() if len(w) >= 6])\n",
    "# apply the filter function to the specified column\n",
    "    dataframe['New Message'] = dataframe['New Message'].apply(filter_func)\n",
    "    dataframe['New Message'].replace('',np.nan,regex = True, inplace=True)\n",
    "    dataframe.dropna(inplace=True)\n",
    "    data_new = dataframe.loc[dataframe[\"New Message\"].str.count(\" \") >= 10]\n",
    "    data_new.reset_index(inplace=True, drop=True)\n",
    "    print('Preprocessing done')\n",
    "    return data_new\n",
    "\n",
    "def topic_modelling():\n",
    "    stop_words = stopwords.words('english')\n",
    "    stop_words.extend(['from', 'subject', 're', 'edu', 'use', 'dey', 'go', 'na', 'people', 'even', 'make', 'know', 'one', 'still', 'like', 'say', 'time',\n",
    "                       'sha', 'ooo', 'sure', 'first', 'person', 'want', 'wey', 'take', 'give', 'ni', 'day', 'problem', \n",
    "                       'Abeg',    'Oya',    'Nawa',    'Chop',    'Shishi',    'Wahala',    'Sabi',\n",
    "                       'Jenifa',    'Soro',    'Kai',    'Banga',    'Wetin',    'Gbege',    'Kolo',    'Belle',    'Pikin',    'Gist',    'Ehen', \n",
    "                       'Shine',    'Oyinbo',    'Katakata',    'Hustle',    'Padi',    'Ikebe',    'Naija',    'Ojoro',    'Jollof',    'Jasi',   \n",
    "                       'Waka',    'Ogbonge',    'Kpatakpata',    'Mumu',    'Orobo',    'Skelewu',    'Amebo',    'Aproko',    'Sisi',    'Yawa',  \n",
    "                       'Chai',    'Abi',    'Gbese',    'Gbera',    'Go-slow',    'Gbe body e',    'Kpanlogo',    'Lai-lai',\n",
    "                       'Palava',    'Suo',    'Totori',    'Zobo'])\n",
    "    def sent_to_words(sentences):\n",
    "        for sentence in sentences:\n",
    "            # deacc=True removes punctuations\n",
    "            yield(gensim.utils.simple_preprocess(str(sentence), deacc=True))\n",
    "    def remove_stopwords(texts):\n",
    "        return [[word for word in simple_preprocess(str(doc)) \n",
    "                 if word not in stop_words] for doc in texts]\n",
    "    data = df['New Message'].tolist()\n",
    "    data_words = list(sent_to_words(data))\n",
    "    # remove stop words\n",
    "    data_words = remove_stopwords(data_words)\n",
    "    #print(data_words[:1][0][:30])\n",
    "# Create Dictionary\n",
    "    id2word = corpora.Dictionary(data_words)\n",
    "# Create Corpus\n",
    "    texts = data_words\n",
    "    # Term Document Frequency\n",
    "    corpus = [id2word.doc2bow(text) for text in texts]\n",
    "# View\n",
    "    num_topics = 10\n",
    "# Build LDA model\n",
    "    lda_model = gensim.models.LdaMulticore(corpus=corpus,\n",
    "                                           id2word=id2word,\n",
    "                                           num_topics=num_topics)\n",
    "    doc_lda = lda_model[corpus]\n",
    "    def get_topic_keywords(lda_model):\n",
    "        topic_keywords = {}\n",
    "        for topic_id in range(lda_model.num_topics):\n",
    "            topic_keywords[topic_id] = [word for word, prob in lda_model.show_topic(topic_id)]\n",
    "        print(topic_keywords)\n",
    "        return topic_keywords\n",
    "# Visualize the topics\n",
    "    # Visualize the topics\n",
    "    pyLDAvis.enable_notebook()\n",
    "    LDAvis_prepared = pyLDAvis.gensim_models.prepare(lda_model, corpus, id2word)\n",
    "    return LDAvis_prepared\n"
   ]
  },
  {
   "cell_type": "code",
   "execution_count": 137,
   "id": "aa0c23dd",
   "metadata": {},
   "outputs": [
    {
     "name": "stdout",
     "output_type": "stream",
     "text": [
      "\n",
      "Error on row 12670: time data 'Breaking' does not match format '%m/%d/%y, %I:%M:%S %p' (match)\n"
     ]
    }
   ],
   "source": [
    "file = \"C:/Users/Dee/Desktop/Portfolio/Chat Analysis/WhatsApp Chat - Engr.2021 Alumni(FET)/_chat.txt\"\n",
    "data = import_chat(file)"
   ]
  },
  {
   "cell_type": "code",
   "execution_count": 138,
   "id": "4ecabe70",
   "metadata": {},
   "outputs": [
    {
     "data": {
      "text/html": [
       "<div>\n",
       "<style scoped>\n",
       "    .dataframe tbody tr th:only-of-type {\n",
       "        vertical-align: middle;\n",
       "    }\n",
       "\n",
       "    .dataframe tbody tr th {\n",
       "        vertical-align: top;\n",
       "    }\n",
       "\n",
       "    .dataframe thead th {\n",
       "        text-align: right;\n",
       "    }\n",
       "</style>\n",
       "<table border=\"1\" class=\"dataframe\">\n",
       "  <thead>\n",
       "    <tr style=\"text-align: right;\">\n",
       "      <th></th>\n",
       "      <th>DateTime</th>\n",
       "      <th>Author</th>\n",
       "      <th>Message</th>\n",
       "      <th>Date</th>\n",
       "      <th>Time</th>\n",
       "    </tr>\n",
       "  </thead>\n",
       "  <tbody>\n",
       "    <tr>\n",
       "      <th>0</th>\n",
       "      <td>5/4/22, 10:28:20 AM</td>\n",
       "      <td>‪+234 903 410 3691‬</td>\n",
       "      <td>NYSC REGISTRATION FOR 2022 Batch B, STREAM 1 W...</td>\n",
       "      <td>2022-05-04</td>\n",
       "      <td>10:28:20</td>\n",
       "    </tr>\n",
       "    <tr>\n",
       "      <th>1</th>\n",
       "      <td>5/4/22, 10:30:15 AM</td>\n",
       "      <td>Samuel Alabo | Makyr</td>\n",
       "      <td>001!!!!</td>\n",
       "      <td>2022-05-04</td>\n",
       "      <td>10:30:15</td>\n",
       "    </tr>\n",
       "    <tr>\n",
       "      <th>2</th>\n",
       "      <td>5/4/22, 10:31:27 AM</td>\n",
       "      <td>‪+234 903 410 3691‬</td>\n",
       "      <td>How far</td>\n",
       "      <td>2022-05-04</td>\n",
       "      <td>10:31:27</td>\n",
       "    </tr>\n",
       "    <tr>\n",
       "      <th>3</th>\n",
       "      <td>5/4/22, 10:33:17 AM</td>\n",
       "      <td>‪+234 903 410 3691‬</td>\n",
       "      <td>You know my name guy, everytime shouldn't be a...</td>\n",
       "      <td>2022-05-04</td>\n",
       "      <td>10:33:17</td>\n",
       "    </tr>\n",
       "    <tr>\n",
       "      <th>4</th>\n",
       "      <td>5/4/22, 10:33:54 AM</td>\n",
       "      <td>Quadri</td>\n",
       "      <td>‎sticker omitted</td>\n",
       "      <td>2022-05-04</td>\n",
       "      <td>10:33:54</td>\n",
       "    </tr>\n",
       "    <tr>\n",
       "      <th>...</th>\n",
       "      <td>...</td>\n",
       "      <td>...</td>\n",
       "      <td>...</td>\n",
       "      <td>...</td>\n",
       "      <td>...</td>\n",
       "    </tr>\n",
       "    <tr>\n",
       "      <th>20379</th>\n",
       "      <td>2/19/23, 11:16:50 AM</td>\n",
       "      <td>Gbogo</td>\n",
       "      <td>We can't blame God. We can only blame ourselves.</td>\n",
       "      <td>2023-02-19</td>\n",
       "      <td>11:16:50</td>\n",
       "    </tr>\n",
       "    <tr>\n",
       "      <th>20380</th>\n",
       "      <td>2/19/23, 11:16:50 AM</td>\n",
       "      <td>Dee 🏡Aero Dee</td>\n",
       "      <td>Just go to settings and click chat then export</td>\n",
       "      <td>2023-02-19</td>\n",
       "      <td>11:16:50</td>\n",
       "    </tr>\n",
       "    <tr>\n",
       "      <th>20381</th>\n",
       "      <td>2/19/23, 11:17:08 AM</td>\n",
       "      <td>‪+234 803 887 9196‬</td>\n",
       "      <td>Ú can blame Buhari and also his advisers</td>\n",
       "      <td>2023-02-19</td>\n",
       "      <td>11:17:08</td>\n",
       "    </tr>\n",
       "    <tr>\n",
       "      <th>20382</th>\n",
       "      <td>2/19/23, 11:17:09 AM</td>\n",
       "      <td>‪+234 810 413 0059‬</td>\n",
       "      <td>Blame humans simple</td>\n",
       "      <td>2023-02-19</td>\n",
       "      <td>11:17:09</td>\n",
       "    </tr>\n",
       "    <tr>\n",
       "      <th>20383</th>\n",
       "      <td>2/19/23, 11:17:17 AM</td>\n",
       "      <td>Gbogo</td>\n",
       "      <td>To the maximum extent 😭</td>\n",
       "      <td>2023-02-19</td>\n",
       "      <td>11:17:17</td>\n",
       "    </tr>\n",
       "  </tbody>\n",
       "</table>\n",
       "<p>20384 rows × 5 columns</p>\n",
       "</div>"
      ],
      "text/plain": [
       "                   DateTime                Author  \\\n",
       "0       5/4/22, 10:28:20 AM   ‪+234 903 410 3691‬   \n",
       "1       5/4/22, 10:30:15 AM  Samuel Alabo | Makyr   \n",
       "2       5/4/22, 10:31:27 AM   ‪+234 903 410 3691‬   \n",
       "3       5/4/22, 10:33:17 AM   ‪+234 903 410 3691‬   \n",
       "4       5/4/22, 10:33:54 AM                Quadri   \n",
       "...                     ...                   ...   \n",
       "20379  2/19/23, 11:16:50 AM                 Gbogo   \n",
       "20380  2/19/23, 11:16:50 AM         Dee 🏡Aero Dee   \n",
       "20381  2/19/23, 11:17:08 AM   ‪+234 803 887 9196‬   \n",
       "20382  2/19/23, 11:17:09 AM   ‪+234 810 413 0059‬   \n",
       "20383  2/19/23, 11:17:17 AM                 Gbogo   \n",
       "\n",
       "                                                 Message        Date      Time  \n",
       "0      NYSC REGISTRATION FOR 2022 Batch B, STREAM 1 W...  2022-05-04  10:28:20  \n",
       "1                                                001!!!!  2022-05-04  10:30:15  \n",
       "2                                                How far  2022-05-04  10:31:27  \n",
       "3      You know my name guy, everytime shouldn't be a...  2022-05-04  10:33:17  \n",
       "4                                       ‎sticker omitted  2022-05-04  10:33:54  \n",
       "...                                                  ...         ...       ...  \n",
       "20379   We can't blame God. We can only blame ourselves.  2023-02-19  11:16:50  \n",
       "20380     Just go to settings and click chat then export  2023-02-19  11:16:50  \n",
       "20381           Ú can blame Buhari and also his advisers  2023-02-19  11:17:08  \n",
       "20382                                Blame humans simple  2023-02-19  11:17:09  \n",
       "20383                            To the maximum extent 😭  2023-02-19  11:17:17  \n",
       "\n",
       "[20384 rows x 5 columns]"
      ]
     },
     "execution_count": 138,
     "metadata": {},
     "output_type": "execute_result"
    }
   ],
   "source": [
    "data"
   ]
  },
  {
   "cell_type": "code",
   "execution_count": 140,
   "id": "fdd681bd",
   "metadata": {},
   "outputs": [
    {
     "name": "stderr",
     "output_type": "stream",
     "text": [
      "<>:1: DeprecationWarning:\n",
      "\n",
      "invalid escape sequence \\w\n",
      "\n",
      "<>:1: DeprecationWarning:\n",
      "\n",
      "invalid escape sequence \\w\n",
      "\n",
      "C:\\Users\\Dee\\AppData\\Local\\Temp\\ipykernel_3276\\3229005799.py:1: DeprecationWarning:\n",
      "\n",
      "invalid escape sequence \\w\n",
      "\n"
     ]
    }
   ],
   "source": [
    "data['Author'] = data['Author'].str.replace('[^\\w\\s]+|\\s+', '', regex=True)\n",
    "data['Author'] = data['Author'].astype(str)\n",
    "radio_list = data['Author'].unique()\n",
    "tuple(radio_list)"
   ]
  },
  {
   "cell_type": "code",
   "execution_count": 145,
   "id": "77a994e6",
   "metadata": {},
   "outputs": [
    {
     "data": {
      "text/plain": [
       "('2349034103691',\n",
       " 'SamuelAlaboMakyr',\n",
       " 'Quadri',\n",
       " 'JamoVillaBaba',\n",
       " '2348146864224',\n",
       " 'AyoCivil',\n",
       " 'Mama',\n",
       " 'LateeYekini',\n",
       " 'TeslimCyborg',\n",
       " '2348104130059',\n",
       " '2348125759082',\n",
       " 'Asiyanbolatayo',\n",
       " 'DVGlory',\n",
       " 'DeeAeroDee',\n",
       " 'Habeebulah',\n",
       " 'Gold',\n",
       " '2348167564278',\n",
       " '2347039610666',\n",
       " '2349065425811',\n",
       " '2347036125979',\n",
       " 'EgeOla',\n",
       " 'Ridwan',\n",
       " 'Kemi',\n",
       " 'KyrexAERO',\n",
       " '2348139433878',\n",
       " '2349079605713',\n",
       " '2348026026177',\n",
       " '2348143768841',\n",
       " 'BoluMSE',\n",
       " 'Gbogo',\n",
       " 'Abhey',\n",
       " '2348111966849',\n",
       " '2349077095333',\n",
       " 'KunmiMech',\n",
       " 'Winnifred2',\n",
       " '2349029946259',\n",
       " '2347068878478',\n",
       " '2347032737892',\n",
       " '2348139426301',\n",
       " 'FrancisAdedeji',\n",
       " '2347036248418',\n",
       " '2349054703681',\n",
       " '2348156165537',\n",
       " '2348159206302',\n",
       " 'BolajiSmall',\n",
       " 'DurosinlorunAkeem',\n",
       " 'Walex',\n",
       " '2348156119190',\n",
       " '2348100158195',\n",
       " '2347018069372',\n",
       " 'BoogieMan',\n",
       " 'OlaMse',\n",
       " '2348135426805',\n",
       " 'Engr2021AlumniFET',\n",
       " '2348026610695',\n",
       " '2347035800917',\n",
       " 'ALSHShenko',\n",
       " 'Afronasent',\n",
       " 'Taiwo',\n",
       " 'SulaMania',\n",
       " '2348140851696',\n",
       " 'Westbrown',\n",
       " 'AyodejiA',\n",
       " '2347033180186',\n",
       " 'IbrahimOmoMech',\n",
       " 'Victoria',\n",
       " 'MiamiSheriff',\n",
       " '2348138473940',\n",
       " '2349026548456',\n",
       " 'SamuelOshadare',\n",
       " '2349072216093',\n",
       " '2348135449590',\n",
       " 'Food',\n",
       " '2347061840835',\n",
       " '2348155746370',\n",
       " 'Aerololo',\n",
       " '2349024591058',\n",
       " '2347068387468',\n",
       " '2348106809265',\n",
       " '2349032870522',\n",
       " '2347032743119',\n",
       " '2348189292759',\n",
       " '2349156216135',\n",
       " '2348064384606',\n",
       " '2349075149452',\n",
       " '2349071867741',\n",
       " '2349070877654',\n",
       " 'MallamShekau',\n",
       " '2348037094550',\n",
       " 'SamuelKayode',\n",
       " '2348038879196',\n",
       " '2348063457982',\n",
       " 'Yemi',\n",
       " 'AyOlood',\n",
       " 'Hussein',\n",
       " 'RaymhooKeroJesu',\n",
       " '13156019236',\n",
       " '2347010122158',\n",
       " '2349076826505',\n",
       " '2349022451300',\n",
       " 'DhammieeId',\n",
       " '2349077986641',\n",
       " '2347068247781',\n",
       " '2348153856808',\n",
       " '2349050652495',\n",
       " '2348144283049',\n",
       " 'Abdulraheem',\n",
       " 'FlyiinWingz',\n",
       " '2347086295731',\n",
       " '2348105232077',\n",
       " 'Edogi',\n",
       " '2349055847709',\n",
       " '2348148250467',\n",
       " '2347084459026',\n",
       " 'BraceCULTURERidwanullah',\n",
       " '2348161687726',\n",
       " '2348121899576',\n",
       " 'BukunmiMyLover',\n",
       " '2347064341526',\n",
       " '2348107724825',\n",
       " '2348085275617',\n",
       " '2348100439994',\n",
       " '2349076443585',\n",
       " '2349039954703',\n",
       " 'Adewara',\n",
       " '2348147038111',\n",
       " '2347038650332',\n",
       " '2347064247309',\n",
       " '2348160600975',\n",
       " '2348153818002',\n",
       " '2348149388007',\n",
       " 'DrkMaiyaki',\n",
       " '2349063315741',\n",
       " '2347061084488',\n",
       " '2349031849893',\n",
       " '2349050587511',\n",
       " '2349024169714',\n",
       " '2347062699365',\n",
       " 'Fuaddd',\n",
       " 'DemiladeGggg',\n",
       " '2349029132070',\n",
       " 'EdogiLaPioche',\n",
       " '2348051117107',\n",
       " '2347034829515',\n",
       " '2349132452474',\n",
       " '2348127829242',\n",
       " '2348084425332',\n",
       " '2347067761729',\n",
       " '2347019358100',\n",
       " '2348100961457',\n",
       " 'Fawwaz',\n",
       " '2348153926014',\n",
       " '2348023580926',\n",
       " '2349064636835',\n",
       " 'AsanbeSamuelElectEngr',\n",
       " '2349033822819',\n",
       " '2348100939595',\n",
       " '2349076155372',\n",
       " '2348027007153',\n",
       " '2347012399712',\n",
       " '2348141905596',\n",
       " '2349028035757',\n",
       " 'Seun',\n",
       " '2347031917530',\n",
       " '2349027213862',\n",
       " '2348126038785',\n",
       " '2348132258358',\n",
       " '2349075107305',\n",
       " 'BilalMechJumia')"
      ]
     },
     "execution_count": 145,
     "metadata": {},
     "output_type": "execute_result"
    }
   ],
   "source": []
  },
  {
   "cell_type": "code",
   "execution_count": 7,
   "id": "186cdec3",
   "metadata": {},
   "outputs": [
    {
     "data": {
      "application/vnd.plotly.v1+json": {
       "config": {
        "plotlyServerURL": "https://plot.ly"
       },
       "data": [
        {
         "hovertemplate": "DateTime=%{x}<br>Message Count=%{y}<extra></extra>",
         "legendgroup": "",
         "line": {
          "color": "#636efa",
          "dash": "solid"
         },
         "mode": "lines",
         "name": "",
         "orientation": "v",
         "showlegend": false,
         "type": "scatter",
         "x": [
          0,
          1,
          2,
          3,
          4,
          5,
          6,
          7,
          8,
          9,
          10,
          11,
          12,
          13,
          14,
          15,
          16,
          17,
          18,
          19,
          20,
          21,
          22,
          23
         ],
         "xaxis": "x",
         "y": [
          240,
          4,
          3,
          5,
          5,
          34,
          102,
          327,
          1055,
          1413,
          1948,
          1518,
          813,
          779,
          1569,
          1104,
          885,
          758,
          1340,
          1327,
          972,
          1524,
          1766,
          893
         ],
         "yaxis": "y"
        }
       ],
       "layout": {
        "legend": {
         "tracegroupgap": 0
        },
        "template": {
         "data": {
          "bar": [
           {
            "error_x": {
             "color": "#2a3f5f"
            },
            "error_y": {
             "color": "#2a3f5f"
            },
            "marker": {
             "line": {
              "color": "#E5ECF6",
              "width": 0.5
             }
            },
            "type": "bar"
           }
          ],
          "barpolar": [
           {
            "marker": {
             "line": {
              "color": "#E5ECF6",
              "width": 0.5
             }
            },
            "type": "barpolar"
           }
          ],
          "carpet": [
           {
            "aaxis": {
             "endlinecolor": "#2a3f5f",
             "gridcolor": "white",
             "linecolor": "white",
             "minorgridcolor": "white",
             "startlinecolor": "#2a3f5f"
            },
            "baxis": {
             "endlinecolor": "#2a3f5f",
             "gridcolor": "white",
             "linecolor": "white",
             "minorgridcolor": "white",
             "startlinecolor": "#2a3f5f"
            },
            "type": "carpet"
           }
          ],
          "choropleth": [
           {
            "colorbar": {
             "outlinewidth": 0,
             "ticks": ""
            },
            "type": "choropleth"
           }
          ],
          "contour": [
           {
            "colorbar": {
             "outlinewidth": 0,
             "ticks": ""
            },
            "colorscale": [
             [
              0,
              "#0d0887"
             ],
             [
              0.1111111111111111,
              "#46039f"
             ],
             [
              0.2222222222222222,
              "#7201a8"
             ],
             [
              0.3333333333333333,
              "#9c179e"
             ],
             [
              0.4444444444444444,
              "#bd3786"
             ],
             [
              0.5555555555555556,
              "#d8576b"
             ],
             [
              0.6666666666666666,
              "#ed7953"
             ],
             [
              0.7777777777777778,
              "#fb9f3a"
             ],
             [
              0.8888888888888888,
              "#fdca26"
             ],
             [
              1,
              "#f0f921"
             ]
            ],
            "type": "contour"
           }
          ],
          "contourcarpet": [
           {
            "colorbar": {
             "outlinewidth": 0,
             "ticks": ""
            },
            "type": "contourcarpet"
           }
          ],
          "heatmap": [
           {
            "colorbar": {
             "outlinewidth": 0,
             "ticks": ""
            },
            "colorscale": [
             [
              0,
              "#0d0887"
             ],
             [
              0.1111111111111111,
              "#46039f"
             ],
             [
              0.2222222222222222,
              "#7201a8"
             ],
             [
              0.3333333333333333,
              "#9c179e"
             ],
             [
              0.4444444444444444,
              "#bd3786"
             ],
             [
              0.5555555555555556,
              "#d8576b"
             ],
             [
              0.6666666666666666,
              "#ed7953"
             ],
             [
              0.7777777777777778,
              "#fb9f3a"
             ],
             [
              0.8888888888888888,
              "#fdca26"
             ],
             [
              1,
              "#f0f921"
             ]
            ],
            "type": "heatmap"
           }
          ],
          "heatmapgl": [
           {
            "colorbar": {
             "outlinewidth": 0,
             "ticks": ""
            },
            "colorscale": [
             [
              0,
              "#0d0887"
             ],
             [
              0.1111111111111111,
              "#46039f"
             ],
             [
              0.2222222222222222,
              "#7201a8"
             ],
             [
              0.3333333333333333,
              "#9c179e"
             ],
             [
              0.4444444444444444,
              "#bd3786"
             ],
             [
              0.5555555555555556,
              "#d8576b"
             ],
             [
              0.6666666666666666,
              "#ed7953"
             ],
             [
              0.7777777777777778,
              "#fb9f3a"
             ],
             [
              0.8888888888888888,
              "#fdca26"
             ],
             [
              1,
              "#f0f921"
             ]
            ],
            "type": "heatmapgl"
           }
          ],
          "histogram": [
           {
            "marker": {
             "colorbar": {
              "outlinewidth": 0,
              "ticks": ""
             }
            },
            "type": "histogram"
           }
          ],
          "histogram2d": [
           {
            "colorbar": {
             "outlinewidth": 0,
             "ticks": ""
            },
            "colorscale": [
             [
              0,
              "#0d0887"
             ],
             [
              0.1111111111111111,
              "#46039f"
             ],
             [
              0.2222222222222222,
              "#7201a8"
             ],
             [
              0.3333333333333333,
              "#9c179e"
             ],
             [
              0.4444444444444444,
              "#bd3786"
             ],
             [
              0.5555555555555556,
              "#d8576b"
             ],
             [
              0.6666666666666666,
              "#ed7953"
             ],
             [
              0.7777777777777778,
              "#fb9f3a"
             ],
             [
              0.8888888888888888,
              "#fdca26"
             ],
             [
              1,
              "#f0f921"
             ]
            ],
            "type": "histogram2d"
           }
          ],
          "histogram2dcontour": [
           {
            "colorbar": {
             "outlinewidth": 0,
             "ticks": ""
            },
            "colorscale": [
             [
              0,
              "#0d0887"
             ],
             [
              0.1111111111111111,
              "#46039f"
             ],
             [
              0.2222222222222222,
              "#7201a8"
             ],
             [
              0.3333333333333333,
              "#9c179e"
             ],
             [
              0.4444444444444444,
              "#bd3786"
             ],
             [
              0.5555555555555556,
              "#d8576b"
             ],
             [
              0.6666666666666666,
              "#ed7953"
             ],
             [
              0.7777777777777778,
              "#fb9f3a"
             ],
             [
              0.8888888888888888,
              "#fdca26"
             ],
             [
              1,
              "#f0f921"
             ]
            ],
            "type": "histogram2dcontour"
           }
          ],
          "mesh3d": [
           {
            "colorbar": {
             "outlinewidth": 0,
             "ticks": ""
            },
            "type": "mesh3d"
           }
          ],
          "parcoords": [
           {
            "line": {
             "colorbar": {
              "outlinewidth": 0,
              "ticks": ""
             }
            },
            "type": "parcoords"
           }
          ],
          "pie": [
           {
            "automargin": true,
            "type": "pie"
           }
          ],
          "scatter": [
           {
            "marker": {
             "colorbar": {
              "outlinewidth": 0,
              "ticks": ""
             }
            },
            "type": "scatter"
           }
          ],
          "scatter3d": [
           {
            "line": {
             "colorbar": {
              "outlinewidth": 0,
              "ticks": ""
             }
            },
            "marker": {
             "colorbar": {
              "outlinewidth": 0,
              "ticks": ""
             }
            },
            "type": "scatter3d"
           }
          ],
          "scattercarpet": [
           {
            "marker": {
             "colorbar": {
              "outlinewidth": 0,
              "ticks": ""
             }
            },
            "type": "scattercarpet"
           }
          ],
          "scattergeo": [
           {
            "marker": {
             "colorbar": {
              "outlinewidth": 0,
              "ticks": ""
             }
            },
            "type": "scattergeo"
           }
          ],
          "scattergl": [
           {
            "marker": {
             "colorbar": {
              "outlinewidth": 0,
              "ticks": ""
             }
            },
            "type": "scattergl"
           }
          ],
          "scattermapbox": [
           {
            "marker": {
             "colorbar": {
              "outlinewidth": 0,
              "ticks": ""
             }
            },
            "type": "scattermapbox"
           }
          ],
          "scatterpolar": [
           {
            "marker": {
             "colorbar": {
              "outlinewidth": 0,
              "ticks": ""
             }
            },
            "type": "scatterpolar"
           }
          ],
          "scatterpolargl": [
           {
            "marker": {
             "colorbar": {
              "outlinewidth": 0,
              "ticks": ""
             }
            },
            "type": "scatterpolargl"
           }
          ],
          "scatterternary": [
           {
            "marker": {
             "colorbar": {
              "outlinewidth": 0,
              "ticks": ""
             }
            },
            "type": "scatterternary"
           }
          ],
          "surface": [
           {
            "colorbar": {
             "outlinewidth": 0,
             "ticks": ""
            },
            "colorscale": [
             [
              0,
              "#0d0887"
             ],
             [
              0.1111111111111111,
              "#46039f"
             ],
             [
              0.2222222222222222,
              "#7201a8"
             ],
             [
              0.3333333333333333,
              "#9c179e"
             ],
             [
              0.4444444444444444,
              "#bd3786"
             ],
             [
              0.5555555555555556,
              "#d8576b"
             ],
             [
              0.6666666666666666,
              "#ed7953"
             ],
             [
              0.7777777777777778,
              "#fb9f3a"
             ],
             [
              0.8888888888888888,
              "#fdca26"
             ],
             [
              1,
              "#f0f921"
             ]
            ],
            "type": "surface"
           }
          ],
          "table": [
           {
            "cells": {
             "fill": {
              "color": "#EBF0F8"
             },
             "line": {
              "color": "white"
             }
            },
            "header": {
             "fill": {
              "color": "#C8D4E3"
             },
             "line": {
              "color": "white"
             }
            },
            "type": "table"
           }
          ]
         },
         "layout": {
          "annotationdefaults": {
           "arrowcolor": "#2a3f5f",
           "arrowhead": 0,
           "arrowwidth": 1
          },
          "autotypenumbers": "strict",
          "coloraxis": {
           "colorbar": {
            "outlinewidth": 0,
            "ticks": ""
           }
          },
          "colorscale": {
           "diverging": [
            [
             0,
             "#8e0152"
            ],
            [
             0.1,
             "#c51b7d"
            ],
            [
             0.2,
             "#de77ae"
            ],
            [
             0.3,
             "#f1b6da"
            ],
            [
             0.4,
             "#fde0ef"
            ],
            [
             0.5,
             "#f7f7f7"
            ],
            [
             0.6,
             "#e6f5d0"
            ],
            [
             0.7,
             "#b8e186"
            ],
            [
             0.8,
             "#7fbc41"
            ],
            [
             0.9,
             "#4d9221"
            ],
            [
             1,
             "#276419"
            ]
           ],
           "sequential": [
            [
             0,
             "#0d0887"
            ],
            [
             0.1111111111111111,
             "#46039f"
            ],
            [
             0.2222222222222222,
             "#7201a8"
            ],
            [
             0.3333333333333333,
             "#9c179e"
            ],
            [
             0.4444444444444444,
             "#bd3786"
            ],
            [
             0.5555555555555556,
             "#d8576b"
            ],
            [
             0.6666666666666666,
             "#ed7953"
            ],
            [
             0.7777777777777778,
             "#fb9f3a"
            ],
            [
             0.8888888888888888,
             "#fdca26"
            ],
            [
             1,
             "#f0f921"
            ]
           ],
           "sequentialminus": [
            [
             0,
             "#0d0887"
            ],
            [
             0.1111111111111111,
             "#46039f"
            ],
            [
             0.2222222222222222,
             "#7201a8"
            ],
            [
             0.3333333333333333,
             "#9c179e"
            ],
            [
             0.4444444444444444,
             "#bd3786"
            ],
            [
             0.5555555555555556,
             "#d8576b"
            ],
            [
             0.6666666666666666,
             "#ed7953"
            ],
            [
             0.7777777777777778,
             "#fb9f3a"
            ],
            [
             0.8888888888888888,
             "#fdca26"
            ],
            [
             1,
             "#f0f921"
            ]
           ]
          },
          "colorway": [
           "#636efa",
           "#EF553B",
           "#00cc96",
           "#ab63fa",
           "#FFA15A",
           "#19d3f3",
           "#FF6692",
           "#B6E880",
           "#FF97FF",
           "#FECB52"
          ],
          "font": {
           "color": "#2a3f5f"
          },
          "geo": {
           "bgcolor": "white",
           "lakecolor": "white",
           "landcolor": "#E5ECF6",
           "showlakes": true,
           "showland": true,
           "subunitcolor": "white"
          },
          "hoverlabel": {
           "align": "left"
          },
          "hovermode": "closest",
          "mapbox": {
           "style": "light"
          },
          "paper_bgcolor": "white",
          "plot_bgcolor": "#E5ECF6",
          "polar": {
           "angularaxis": {
            "gridcolor": "white",
            "linecolor": "white",
            "ticks": ""
           },
           "bgcolor": "#E5ECF6",
           "radialaxis": {
            "gridcolor": "white",
            "linecolor": "white",
            "ticks": ""
           }
          },
          "scene": {
           "xaxis": {
            "backgroundcolor": "#E5ECF6",
            "gridcolor": "white",
            "gridwidth": 2,
            "linecolor": "white",
            "showbackground": true,
            "ticks": "",
            "zerolinecolor": "white"
           },
           "yaxis": {
            "backgroundcolor": "#E5ECF6",
            "gridcolor": "white",
            "gridwidth": 2,
            "linecolor": "white",
            "showbackground": true,
            "ticks": "",
            "zerolinecolor": "white"
           },
           "zaxis": {
            "backgroundcolor": "#E5ECF6",
            "gridcolor": "white",
            "gridwidth": 2,
            "linecolor": "white",
            "showbackground": true,
            "ticks": "",
            "zerolinecolor": "white"
           }
          },
          "shapedefaults": {
           "line": {
            "color": "#2a3f5f"
           }
          },
          "ternary": {
           "aaxis": {
            "gridcolor": "white",
            "linecolor": "white",
            "ticks": ""
           },
           "baxis": {
            "gridcolor": "white",
            "linecolor": "white",
            "ticks": ""
           },
           "bgcolor": "#E5ECF6",
           "caxis": {
            "gridcolor": "white",
            "linecolor": "white",
            "ticks": ""
           }
          },
          "title": {
           "x": 0.05
          },
          "xaxis": {
           "automargin": true,
           "gridcolor": "white",
           "linecolor": "white",
           "ticks": "",
           "title": {
            "standoff": 15
           },
           "zerolinecolor": "white",
           "zerolinewidth": 2
          },
          "yaxis": {
           "automargin": true,
           "gridcolor": "white",
           "linecolor": "white",
           "ticks": "",
           "title": {
            "standoff": 15
           },
           "zerolinecolor": "white",
           "zerolinewidth": 2
          }
         }
        },
        "title": {
         "text": "Messages by Hour"
        },
        "xaxis": {
         "anchor": "y",
         "domain": [
          0,
          1
         ],
         "title": {
          "text": "DateTime"
         }
        },
        "yaxis": {
         "anchor": "x",
         "domain": [
          0,
          1
         ],
         "title": {
          "text": "Message Count"
         }
        }
       }
      },
      "text/html": [
       "<div>                            <div id=\"e66ddc71-e675-411a-93ea-a1864acc9d1d\" class=\"plotly-graph-div\" style=\"height:525px; width:100%;\"></div>            <script type=\"text/javascript\">                require([\"plotly\"], function(Plotly) {                    window.PLOTLYENV=window.PLOTLYENV || {};                                    if (document.getElementById(\"e66ddc71-e675-411a-93ea-a1864acc9d1d\")) {                    Plotly.newPlot(                        \"e66ddc71-e675-411a-93ea-a1864acc9d1d\",                        [{\"hovertemplate\": \"DateTime=%{x}<br>Message Count=%{y}<extra></extra>\", \"legendgroup\": \"\", \"line\": {\"color\": \"#636efa\", \"dash\": \"solid\"}, \"mode\": \"lines\", \"name\": \"\", \"orientation\": \"v\", \"showlegend\": false, \"type\": \"scatter\", \"x\": [0, 1, 2, 3, 4, 5, 6, 7, 8, 9, 10, 11, 12, 13, 14, 15, 16, 17, 18, 19, 20, 21, 22, 23], \"xaxis\": \"x\", \"y\": [240, 4, 3, 5, 5, 34, 102, 327, 1055, 1413, 1948, 1518, 813, 779, 1569, 1104, 885, 758, 1340, 1327, 972, 1524, 1766, 893], \"yaxis\": \"y\"}],                        {\"legend\": {\"tracegroupgap\": 0}, \"template\": {\"data\": {\"bar\": [{\"error_x\": {\"color\": \"#2a3f5f\"}, \"error_y\": {\"color\": \"#2a3f5f\"}, \"marker\": {\"line\": {\"color\": \"#E5ECF6\", \"width\": 0.5}}, \"type\": \"bar\"}], \"barpolar\": [{\"marker\": {\"line\": {\"color\": \"#E5ECF6\", \"width\": 0.5}}, \"type\": \"barpolar\"}], \"carpet\": [{\"aaxis\": {\"endlinecolor\": \"#2a3f5f\", \"gridcolor\": \"white\", \"linecolor\": \"white\", \"minorgridcolor\": \"white\", \"startlinecolor\": \"#2a3f5f\"}, \"baxis\": {\"endlinecolor\": \"#2a3f5f\", \"gridcolor\": \"white\", \"linecolor\": \"white\", \"minorgridcolor\": \"white\", \"startlinecolor\": \"#2a3f5f\"}, \"type\": \"carpet\"}], \"choropleth\": [{\"colorbar\": {\"outlinewidth\": 0, \"ticks\": \"\"}, \"type\": \"choropleth\"}], \"contour\": [{\"colorbar\": {\"outlinewidth\": 0, \"ticks\": \"\"}, \"colorscale\": [[0.0, \"#0d0887\"], [0.1111111111111111, \"#46039f\"], [0.2222222222222222, \"#7201a8\"], [0.3333333333333333, \"#9c179e\"], [0.4444444444444444, \"#bd3786\"], [0.5555555555555556, \"#d8576b\"], [0.6666666666666666, \"#ed7953\"], [0.7777777777777778, \"#fb9f3a\"], [0.8888888888888888, \"#fdca26\"], [1.0, \"#f0f921\"]], \"type\": \"contour\"}], \"contourcarpet\": [{\"colorbar\": {\"outlinewidth\": 0, \"ticks\": \"\"}, \"type\": \"contourcarpet\"}], \"heatmap\": [{\"colorbar\": {\"outlinewidth\": 0, \"ticks\": \"\"}, \"colorscale\": [[0.0, \"#0d0887\"], [0.1111111111111111, \"#46039f\"], [0.2222222222222222, \"#7201a8\"], [0.3333333333333333, \"#9c179e\"], [0.4444444444444444, \"#bd3786\"], [0.5555555555555556, \"#d8576b\"], [0.6666666666666666, \"#ed7953\"], [0.7777777777777778, \"#fb9f3a\"], [0.8888888888888888, \"#fdca26\"], [1.0, \"#f0f921\"]], \"type\": \"heatmap\"}], \"heatmapgl\": [{\"colorbar\": {\"outlinewidth\": 0, \"ticks\": \"\"}, \"colorscale\": [[0.0, \"#0d0887\"], [0.1111111111111111, \"#46039f\"], [0.2222222222222222, \"#7201a8\"], [0.3333333333333333, \"#9c179e\"], [0.4444444444444444, \"#bd3786\"], [0.5555555555555556, \"#d8576b\"], [0.6666666666666666, \"#ed7953\"], [0.7777777777777778, \"#fb9f3a\"], [0.8888888888888888, \"#fdca26\"], [1.0, \"#f0f921\"]], \"type\": \"heatmapgl\"}], \"histogram\": [{\"marker\": {\"colorbar\": {\"outlinewidth\": 0, \"ticks\": \"\"}}, \"type\": \"histogram\"}], \"histogram2d\": [{\"colorbar\": {\"outlinewidth\": 0, \"ticks\": \"\"}, \"colorscale\": [[0.0, \"#0d0887\"], [0.1111111111111111, \"#46039f\"], [0.2222222222222222, \"#7201a8\"], [0.3333333333333333, \"#9c179e\"], [0.4444444444444444, \"#bd3786\"], [0.5555555555555556, \"#d8576b\"], [0.6666666666666666, \"#ed7953\"], [0.7777777777777778, \"#fb9f3a\"], [0.8888888888888888, \"#fdca26\"], [1.0, \"#f0f921\"]], \"type\": \"histogram2d\"}], \"histogram2dcontour\": [{\"colorbar\": {\"outlinewidth\": 0, \"ticks\": \"\"}, \"colorscale\": [[0.0, \"#0d0887\"], [0.1111111111111111, \"#46039f\"], [0.2222222222222222, \"#7201a8\"], [0.3333333333333333, \"#9c179e\"], [0.4444444444444444, \"#bd3786\"], [0.5555555555555556, \"#d8576b\"], [0.6666666666666666, \"#ed7953\"], [0.7777777777777778, \"#fb9f3a\"], [0.8888888888888888, \"#fdca26\"], [1.0, \"#f0f921\"]], \"type\": \"histogram2dcontour\"}], \"mesh3d\": [{\"colorbar\": {\"outlinewidth\": 0, \"ticks\": \"\"}, \"type\": \"mesh3d\"}], \"parcoords\": [{\"line\": {\"colorbar\": {\"outlinewidth\": 0, \"ticks\": \"\"}}, \"type\": \"parcoords\"}], \"pie\": [{\"automargin\": true, \"type\": \"pie\"}], \"scatter\": [{\"marker\": {\"colorbar\": {\"outlinewidth\": 0, \"ticks\": \"\"}}, \"type\": \"scatter\"}], \"scatter3d\": [{\"line\": {\"colorbar\": {\"outlinewidth\": 0, \"ticks\": \"\"}}, \"marker\": {\"colorbar\": {\"outlinewidth\": 0, \"ticks\": \"\"}}, \"type\": \"scatter3d\"}], \"scattercarpet\": [{\"marker\": {\"colorbar\": {\"outlinewidth\": 0, \"ticks\": \"\"}}, \"type\": \"scattercarpet\"}], \"scattergeo\": [{\"marker\": {\"colorbar\": {\"outlinewidth\": 0, \"ticks\": \"\"}}, \"type\": \"scattergeo\"}], \"scattergl\": [{\"marker\": {\"colorbar\": {\"outlinewidth\": 0, \"ticks\": \"\"}}, \"type\": \"scattergl\"}], \"scattermapbox\": [{\"marker\": {\"colorbar\": {\"outlinewidth\": 0, \"ticks\": \"\"}}, \"type\": \"scattermapbox\"}], \"scatterpolar\": [{\"marker\": {\"colorbar\": {\"outlinewidth\": 0, \"ticks\": \"\"}}, \"type\": \"scatterpolar\"}], \"scatterpolargl\": [{\"marker\": {\"colorbar\": {\"outlinewidth\": 0, \"ticks\": \"\"}}, \"type\": \"scatterpolargl\"}], \"scatterternary\": [{\"marker\": {\"colorbar\": {\"outlinewidth\": 0, \"ticks\": \"\"}}, \"type\": \"scatterternary\"}], \"surface\": [{\"colorbar\": {\"outlinewidth\": 0, \"ticks\": \"\"}, \"colorscale\": [[0.0, \"#0d0887\"], [0.1111111111111111, \"#46039f\"], [0.2222222222222222, \"#7201a8\"], [0.3333333333333333, \"#9c179e\"], [0.4444444444444444, \"#bd3786\"], [0.5555555555555556, \"#d8576b\"], [0.6666666666666666, \"#ed7953\"], [0.7777777777777778, \"#fb9f3a\"], [0.8888888888888888, \"#fdca26\"], [1.0, \"#f0f921\"]], \"type\": \"surface\"}], \"table\": [{\"cells\": {\"fill\": {\"color\": \"#EBF0F8\"}, \"line\": {\"color\": \"white\"}}, \"header\": {\"fill\": {\"color\": \"#C8D4E3\"}, \"line\": {\"color\": \"white\"}}, \"type\": \"table\"}]}, \"layout\": {\"annotationdefaults\": {\"arrowcolor\": \"#2a3f5f\", \"arrowhead\": 0, \"arrowwidth\": 1}, \"autotypenumbers\": \"strict\", \"coloraxis\": {\"colorbar\": {\"outlinewidth\": 0, \"ticks\": \"\"}}, \"colorscale\": {\"diverging\": [[0, \"#8e0152\"], [0.1, \"#c51b7d\"], [0.2, \"#de77ae\"], [0.3, \"#f1b6da\"], [0.4, \"#fde0ef\"], [0.5, \"#f7f7f7\"], [0.6, \"#e6f5d0\"], [0.7, \"#b8e186\"], [0.8, \"#7fbc41\"], [0.9, \"#4d9221\"], [1, \"#276419\"]], \"sequential\": [[0.0, \"#0d0887\"], [0.1111111111111111, \"#46039f\"], [0.2222222222222222, \"#7201a8\"], [0.3333333333333333, \"#9c179e\"], [0.4444444444444444, \"#bd3786\"], [0.5555555555555556, \"#d8576b\"], [0.6666666666666666, \"#ed7953\"], [0.7777777777777778, \"#fb9f3a\"], [0.8888888888888888, \"#fdca26\"], [1.0, \"#f0f921\"]], \"sequentialminus\": [[0.0, \"#0d0887\"], [0.1111111111111111, \"#46039f\"], [0.2222222222222222, \"#7201a8\"], [0.3333333333333333, \"#9c179e\"], [0.4444444444444444, \"#bd3786\"], [0.5555555555555556, \"#d8576b\"], [0.6666666666666666, \"#ed7953\"], [0.7777777777777778, \"#fb9f3a\"], [0.8888888888888888, \"#fdca26\"], [1.0, \"#f0f921\"]]}, \"colorway\": [\"#636efa\", \"#EF553B\", \"#00cc96\", \"#ab63fa\", \"#FFA15A\", \"#19d3f3\", \"#FF6692\", \"#B6E880\", \"#FF97FF\", \"#FECB52\"], \"font\": {\"color\": \"#2a3f5f\"}, \"geo\": {\"bgcolor\": \"white\", \"lakecolor\": \"white\", \"landcolor\": \"#E5ECF6\", \"showlakes\": true, \"showland\": true, \"subunitcolor\": \"white\"}, \"hoverlabel\": {\"align\": \"left\"}, \"hovermode\": \"closest\", \"mapbox\": {\"style\": \"light\"}, \"paper_bgcolor\": \"white\", \"plot_bgcolor\": \"#E5ECF6\", \"polar\": {\"angularaxis\": {\"gridcolor\": \"white\", \"linecolor\": \"white\", \"ticks\": \"\"}, \"bgcolor\": \"#E5ECF6\", \"radialaxis\": {\"gridcolor\": \"white\", \"linecolor\": \"white\", \"ticks\": \"\"}}, \"scene\": {\"xaxis\": {\"backgroundcolor\": \"#E5ECF6\", \"gridcolor\": \"white\", \"gridwidth\": 2, \"linecolor\": \"white\", \"showbackground\": true, \"ticks\": \"\", \"zerolinecolor\": \"white\"}, \"yaxis\": {\"backgroundcolor\": \"#E5ECF6\", \"gridcolor\": \"white\", \"gridwidth\": 2, \"linecolor\": \"white\", \"showbackground\": true, \"ticks\": \"\", \"zerolinecolor\": \"white\"}, \"zaxis\": {\"backgroundcolor\": \"#E5ECF6\", \"gridcolor\": \"white\", \"gridwidth\": 2, \"linecolor\": \"white\", \"showbackground\": true, \"ticks\": \"\", \"zerolinecolor\": \"white\"}}, \"shapedefaults\": {\"line\": {\"color\": \"#2a3f5f\"}}, \"ternary\": {\"aaxis\": {\"gridcolor\": \"white\", \"linecolor\": \"white\", \"ticks\": \"\"}, \"baxis\": {\"gridcolor\": \"white\", \"linecolor\": \"white\", \"ticks\": \"\"}, \"bgcolor\": \"#E5ECF6\", \"caxis\": {\"gridcolor\": \"white\", \"linecolor\": \"white\", \"ticks\": \"\"}}, \"title\": {\"x\": 0.05}, \"xaxis\": {\"automargin\": true, \"gridcolor\": \"white\", \"linecolor\": \"white\", \"ticks\": \"\", \"title\": {\"standoff\": 15}, \"zerolinecolor\": \"white\", \"zerolinewidth\": 2}, \"yaxis\": {\"automargin\": true, \"gridcolor\": \"white\", \"linecolor\": \"white\", \"ticks\": \"\", \"title\": {\"standoff\": 15}, \"zerolinecolor\": \"white\", \"zerolinewidth\": 2}}}, \"title\": {\"text\": \"Messages by Hour\"}, \"xaxis\": {\"anchor\": \"y\", \"domain\": [0.0, 1.0], \"title\": {\"text\": \"DateTime\"}}, \"yaxis\": {\"anchor\": \"x\", \"domain\": [0.0, 1.0], \"title\": {\"text\": \"Message Count\"}}},                        {\"responsive\": true}                    ).then(function(){\n",
       "                            \n",
       "var gd = document.getElementById('e66ddc71-e675-411a-93ea-a1864acc9d1d');\n",
       "var x = new MutationObserver(function (mutations, observer) {{\n",
       "        var display = window.getComputedStyle(gd).display;\n",
       "        if (!display || display === 'none') {{\n",
       "            console.log([gd, 'removed!']);\n",
       "            Plotly.purge(gd);\n",
       "            observer.disconnect();\n",
       "        }}\n",
       "}});\n",
       "\n",
       "// Listen for the removal of the full notebook cells\n",
       "var notebookContainer = gd.closest('#notebook-container');\n",
       "if (notebookContainer) {{\n",
       "    x.observe(notebookContainer, {childList: true});\n",
       "}}\n",
       "\n",
       "// Listen for the clearing of the current output cell\n",
       "var outputEl = gd.closest('.output');\n",
       "if (outputEl) {{\n",
       "    x.observe(outputEl, {childList: true});\n",
       "}}\n",
       "\n",
       "                        })                };                });            </script>        </div>"
      ]
     },
     "metadata": {},
     "output_type": "display_data"
    }
   ],
   "source": [
    "df['DateTime'] = pd.to_datetime(df['DateTime'], format='%m/%d/%y, %I:%M:%S %p')\n",
    "\n",
    "# Group the messages by hour\n",
    "hourly_counts = df.groupby(df['DateTime'].dt.hour).size().reset_index(name='Message Count')\n",
    "\n",
    "# Plot the chart using plotly.express\n",
    "fig = px.line(hourly_counts, x='DateTime', y='Message Count', title='Messages by Hour')\n",
    "fig.show()"
   ]
  },
  {
   "cell_type": "code",
   "execution_count": 9,
   "id": "ba09aa42",
   "metadata": {},
   "outputs": [],
   "source": [
    "#!pip install spacy"
   ]
  },
  {
   "cell_type": "code",
   "execution_count": 10,
   "id": "21b0a4c0",
   "metadata": {},
   "outputs": [],
   "source": [
    "#!python -m spacy download en_core_web_sm"
   ]
  },
  {
   "cell_type": "code",
   "execution_count": 43,
   "id": "f6957141",
   "metadata": {},
   "outputs": [
    {
     "name": "stdout",
     "output_type": "stream",
     "text": [
      "Preprocessing done\n"
     ]
    }
   ],
   "source": []
  },
  {
   "cell_type": "code",
   "execution_count": 74,
   "id": "d20267db",
   "metadata": {},
   "outputs": [
    {
     "name": "stderr",
     "output_type": "stream",
     "text": [
      "[nltk_data] Error loading stopwords: <urlopen error [Errno 11001]\n",
      "[nltk_data]     getaddrinfo failed>\n"
     ]
    }
   ],
   "source": []
  },
  {
   "cell_type": "raw",
   "id": "bee24d08",
   "metadata": {},
   "source": [
    "df.reset_index(inplace=True, drop=True)"
   ]
  },
  {
   "cell_type": "code",
   "execution_count": 75,
   "id": "bedc24d4",
   "metadata": {},
   "outputs": [
    {
     "name": "stdout",
     "output_type": "stream",
     "text": [
      "['wallohi', 'islamic', 'country', 'judgement', 'carried', 'muslim', 'leader', 'country', 'admonish', 'islamic', 'country', 'report', 'ignorance', 'criminal', 'extent', 'burning', 'forbidden', 'anybody', 'purnish', 'someone', 'except', 'interest', 'defense', 'ignorance']\n",
      "[(0, 1), (1, 1), (2, 1), (3, 1), (4, 3), (5, 1), (6, 1), (7, 1), (8, 1), (9, 1), (10, 2), (11, 1), (12, 2), (13, 1), (14, 1), (15, 1), (16, 1), (17, 1), (18, 1), (19, 1)]\n",
      "[(0,\n",
      "  '0.012*\"nigeria\" + 0.012*\"protest\" + 0.012*\"buhari\" + 0.010*\"government\" + '\n",
      "  '0.010*\"country\" + 0.010*\"enough\" + 0.008*\"fulani\" + 0.008*\"remain\" + '\n",
      "  '0.008*\"arrested\" + 0.008*\"nirsal\"'),\n",
      " (1,\n",
      "  '0.013*\"system\" + 0.012*\"matter\" + 0.012*\"mistake\" + 0.012*\"someone\" + '\n",
      "  '0.012*\"country\" + 0.008*\"checks\" + 0.008*\"dollars\" + 0.008*\"studies\" + '\n",
      "  '0.008*\"memory\" + 0.008*\"months\"'),\n",
      " (2,\n",
      "  '0.029*\"actually\" + 0.021*\"tinubu\" + 0.013*\"concerned\" + 0.013*\"nigeria\" + '\n",
      "  '0.009*\"saying\" + 0.009*\"campaign\" + 0.009*\"normal\" + 0.009*\"finished\" + '\n",
      "  '0.009*\"change\" + 0.009*\"candidate\"'),\n",
      " (3,\n",
      "  '0.021*\"nobody\" + 0.021*\"country\" + 0.021*\"sacked\" + 0.011*\"appreciate\" + '\n",
      "  '0.011*\"believe\" + 0.011*\"corrupt\" + 0.011*\"buhari\" + 0.011*\"office\" + '\n",
      "  '0.011*\"considered\" + 0.008*\"enough\"'),\n",
      " (4,\n",
      "  '0.012*\"statistics\" + 0.011*\"tinubu\" + 0.009*\"adeniyanisrael\" + '\n",
      "  '0.009*\"manifesto\" + 0.009*\"talking\" + 0.009*\"currency\" + 0.009*\"believe\" + '\n",
      "  '0.009*\"country\" + 0.008*\"present\" + 0.008*\"become\"'),\n",
      " (5,\n",
      "  '0.022*\"tinubu\" + 0.016*\"reason\" + 0.014*\"election\" + 0.011*\"basically\" + '\n",
      "  '0.011*\"service\" + 0.011*\"corruption\" + 0.011*\"commission\" + 0.009*\"matter\" '\n",
      "  '+ 0.009*\"candidate\" + 0.008*\"saying\"'),\n",
      " (6,\n",
      "  '0.024*\"country\" + 0.016*\"prayer\" + 0.012*\"individual\" + 0.012*\"tinubu\" + '\n",
      "  '0.012*\"passed\" + 0.012*\"judgement\" + 0.011*\"nigeria\" + 0.008*\"saying\" + '\n",
      "  '0.008*\"covetousness\" + 0.008*\"killing\"'),\n",
      " (7,\n",
      "  '0.016*\"president\" + 0.012*\"buhari\" + 0.012*\"ambition\" + 0.011*\"corruption\" '\n",
      "  '+ 0.011*\"source\" + 0.011*\"things\" + 0.010*\"happened\" + 0.009*\"tinubu\" + '\n",
      "  '0.009*\"issues\" + 0.008*\"country\"'),\n",
      " (8,\n",
      "  '0.023*\"buhari\" + 0.019*\"nigeria\" + 0.017*\"country\" + 0.016*\"tinubu\" + '\n",
      "  '0.016*\"president\" + 0.012*\"structure\" + 0.012*\"government\" + 0.011*\"killed\" '\n",
      "  '+ 0.010*\"politics\" + 0.010*\"believe\"'),\n",
      " (9,\n",
      "  '0.017*\"governor\" + 0.014*\"country\" + 0.011*\"tinubu\" + 0.011*\"enough\" + '\n",
      "  '0.009*\"interest\" + 0.008*\"buhari\" + 0.007*\"system\" + 0.007*\"government\" + '\n",
      "  '0.007*\"positive\" + 0.006*\"activated\"')]\n"
     ]
    },
    {
     "name": "stderr",
     "output_type": "stream",
     "text": [
      "C:\\Users\\Dee\\anaconda3\\lib\\site-packages\\pyLDAvis\\_prepare.py:243: FutureWarning:\n",
      "\n",
      "In a future version of pandas all arguments of DataFrame.drop except for the argument 'labels' will be keyword-only.\n",
      "\n"
     ]
    },
    {
     "data": {
      "text/html": [
       "\n",
       "<link rel=\"stylesheet\" type=\"text/css\" href=\"https://cdn.jsdelivr.net/gh/bmabey/pyLDAvis@3.4.0/pyLDAvis/js/ldavis.v1.0.0.css\">\n",
       "\n",
       "\n",
       "<div id=\"ldavis_el327617435963616489174226089\" style=\"background-color:white;\"></div>\n",
       "<script type=\"text/javascript\">\n",
       "\n",
       "var ldavis_el327617435963616489174226089_data = {\"mdsDat\": {\"x\": [0.12737901607756033, -0.08584711586554647, 0.06745545794103192, 0.008097856813002525, 0.028193693702694273, 0.057550098857559295, -0.1053578256555973, -0.08149602492104575, -0.010261998964753372, -0.005713157984905504], \"y\": [0.06746060419910632, -0.08323093458000849, 0.049796187585555055, -0.04849217783331031, -0.126208616810941, -0.0391389534511627, 0.07296065223345886, 0.05874392291333989, 0.031783319428454554, 0.01632599631550779], \"topics\": [1, 2, 3, 4, 5, 6, 7, 8, 9, 10], \"cluster\": [1, 1, 1, 1, 1, 1, 1, 1, 1, 1], \"Freq\": [13.312335073347658, 12.91170241579034, 12.481162660946865, 11.61120519495281, 9.505032592071029, 9.436121512513669, 8.498300789796348, 7.935483046709102, 7.433734070614685, 6.874922643257491]}, \"tinfo\": {\"Term\": [\"actually\", \"nobody\", \"sacked\", \"governor\", \"tinubu\", \"prayer\", \"president\", \"nigeria\", \"reason\", \"matter\", \"enough\", \"someone\", \"mistake\", \"country\", \"concerned\", \"buhari\", \"individual\", \"passed\", \"election\", \"judgement\", \"system\", \"ambition\", \"statistics\", \"protest\", \"corruption\", \"support\", \"corrupt\", \"service\", \"appreciate\", \"office\", \"activated\", \"paying\", \"counterfeit\", \"remote\", \"parents\", \"senior\", \"research\", \"samris\", \"ignorance\", \"governor\", \"interest\", \"miscarriages\", \"microsoft\", \"intentionally\", \"malfunction\", \"zuckerberg\", \"pregnant\", \"printed\", \"greatest\", \"impeached\", \"children\", \"increased\", \"childbirth\", \"improved\", \"inherit\", \"zenith\", \"oblivious\", \"expectancy\", \"claimed\", \"collectively\", \"negative\", \"positive\", \"enough\", \"anybody\", \"nirsal\", \"islamic\", \"choice\", \"business\", \"anambra\", \"country\", \"comprehensive\", \"social\", \"system\", \"tinubu\", \"leader\", \"buhari\", \"government\", \"corrupt\", \"believe\", \"someone\", \"candidate\", \"corruption\", \"leaders\", \"proxies\", \"choose\", \"interviews\", \"running\", \"governors\", \"peoples\", \"crypto\", \"killed\", \"limelight\", \"strong\", \"traditional\", \"presence\", \"capping\", \"powers\", \"interferes\", \"alliance\", \"aspiring\", \"choices\", \"smoothly\", \"ambitious\", \"realise\", \"difference\", \"calibre\", \"vehemently\", \"guarantee\", \"beyond\", \"whoever\", \"creative\", \"faithful\", \"dollar\", \"asiwaju\", \"question\", \"structure\", \"buhari\", \"president\", \"nigeria\", \"wanted\", \"politics\", \"remember\", \"brought\", \"government\", \"tinubu\", \"grammar\", \"country\", \"impact\", \"believe\", \"affairs\", \"campaign\", \"opposition\", \"nigerians\", \"someone\", \"remain\", \"arrested\", \"shepherd\", \"protest\", \"regions\", \"consider\", \"evident\", \"understandable\", \"information\", \"officer\", \"alleged\", \"purists\", \"beaten\", \"countries\", \"generated\", \"mentally\", \"pushed\", \"factions\", \"denouncing\", \"sacrificed\", \"factual\", \"injured\", \"unfortunately\", \"outside\", \"sentimental\", \"treason\", \"families\", \"guevara\", \"confess\", \"helped\", \"candidates\", \"convincing\", \"fulani\", \"nirsal\", \"support\", \"enough\", \"nigeria\", \"government\", \"buhari\", \"friend\", \"country\", \"opposition\", \"nigerian\", \"candidate\", \"jonathan\", \"tinubu\", \"either\", \"america\", \"president\", \"business\", \"available\", \"lunched\", \"ambition\", \"source\", \"engineering\", \"governorship\", \"charges\", \"contest\", \"comments\", \"invested\", \"content\", \"taught\", \"suprise\", \"preparing\", \"courses\", \"begging\", \"straight\", \"google\", \"offngefd\", \"bearing\", \"biafra\", \"gsrjrpyb\", \"transform\", \"stealing\", \"feeding\", \"processes\", \"latter\", \"scheduling\", \"registration\", \"seamlessly\", \"postgraduate\", \"transfer\", \"happened\", \"particular\", \"america\", \"things\", \"trained\", \"difficult\", \"issues\", \"president\", \"corruption\", \"remember\", \"better\", \"buhari\", \"politics\", \"election\", \"candidate\", \"structure\", \"tinubu\", \"system\", \"country\", \"government\", \"ground\", \"almost\", \"leader\", \"forget\", \"favorite\", \"concerned\", \"finished\", \"ticket\", \"though\", \"change\", \"actually\", \"presidents\", \"working\", \"denied\", \"prominent\", \"muzzle\", \"politician\", \"enable\", \"example\", \"coming\", \"typical\", \"debaters\", \"confirmation\", \"discussions\", \"listen\", \"anyway\", \"importantly\", \"outmatched\", \"govern\", \"station\", \"thought\", \"voluntarily\", \"destiny\", \"reasons\", \"ability\", \"normal\", \"landing\", \"economy\", \"transactions\", \"elections\", \"tinubu\", \"million\", \"campaign\", \"nigeria\", \"saying\", \"someone\", \"candidate\", \"country\", \"police\", \"governor\", \"prayer\", \"individual\", \"passed\", \"shareeha\", \"judgement\", \"adultery\", \"connectivity\", \"commits\", \"murderer\", \"expendable\", \"comfort\", \"seeking\", \"opportunities\", \"committed\", \"connects\", \"reiterate\", \"necessarily\", \"including\", \"experiences\", \"majority\", \"tomorrow\", \"konnekt\", \"apostasy\", \"defect\", \"income\", \"prayed\", \"blasphemy\", \"unjustly\", \"layoffs\", \"cultural\", \"science\", \"covetousness\", \"something\", \"towards\", \"killing\", \"islamic\", \"country\", \"always\", \"support\", \"everyone\", \"saying\", \"nigeria\", \"tinubu\", \"someone\", \"government\", \"governor\", \"record\", \"opposition\", \"candidate\", \"president\", \"system\", \"checks\", \"memory\", \"mistake\", \"clapped\", \"transacting\", \"terrorism\", \"ungoing\", \"wallets\", \"double\", \"records\", \"refuse\", \"reduce\", \"certificates\", \"parameters\", \"update\", \"background\", \"faulty\", \"cognitive\", \"sensitization\", \"honestly\", \"validate\", \"upright\", \"electoral\", \"requires\", \"skyrocketing\", \"showed\", \"leverage\", \"bothered\", \"chatgp\", \"billion\", \"months\", \"matter\", \"official\", \"dollars\", \"surveillance\", \"system\", \"studies\", \"someone\", \"country\", \"anyone\", \"choice\", \"falling\", \"international\", \"sending\", \"entire\", \"platforms\", \"market\", \"regional\", \"helping\", \"nobody\", \"sacked\", \"appreciate\", \"office\", \"considered\", \"lastly\", \"supreme\", \"crumbling\", \"strike\", \"favour\", \"outcome\", \"prison\", \"holders\", \"africa\", \"speculations\", \"waiting\", \"animal\", \"talkless\", \"specific\", \"defend\", \"rulings\", \"counts\", \"calibrate\", \"materials\", \"connect\", \"economic\", \"behaviour\", \"treating\", \"instruments\", \"technical\", \"abroad\", \"corrupt\", \"country\", \"believe\", \"buhari\", \"better\", \"enough\", \"anyone\", \"survey\", \"months\", \"environmental\", \"opinion\", \"architecture\", \"helping\", \"studies\", \"regional\", \"kindly\", \"punishment\", \"expect\", \"adeniyanisrael\", \"manifesto\", \"present\", \"become\", \"introducing\", \"honourable\", \"secured\", \"invited\", \"custody\", \"evening\", \"aggressive\", \"advisable\", \"claims\", \"december\", \"interrogate\", \"bearue\", \"conduct\", \"random\", \"declare\", \"partially\", \"majorly\", \"trying\", \"overseas\", \"pandora\", \"youruba\", \"declaration\", \"accepted\", \"talking\", \"currency\", \"statistics\", \"grammar\", \"social\", \"believe\", \"southeast\", \"tinubu\", \"record\", \"country\", \"senate\", \"impact\", \"favorite\", \"government\", \"saying\", \"always\", \"politics\", \"support\", \"another\", \"available\", \"million\", \"almost\", \"basically\", \"commission\", \"reason\", \"combine\", \"computer\", \"afternoon\", \"omooooo\", \"satisfactory\", \"addition\", \"flexiblehr\", \"corpers\", \"policy\", \"cybersecurity\", \"unborn\", \"generation\", \"result\", \"apparent\", \"combatants\", \"confusing\", \"independent\", \"direct\", \"flowing\", \"officers\", \"initial\", \"returned\", \"chance\", \"commissioned\", \"regular\", \"letter\", \"allegations\", \"service\", \"election\", \"tinubu\", \"corruption\", \"matter\", \"started\", \"candidate\", \"performance\", \"saying\", \"president\", \"career\", \"statement\", \"health\", \"interest\", \"purpose\", \"system\", \"another\"], \"Freq\": [6.0, 3.0, 3.0, 5.0, 18.0, 3.0, 9.0, 11.0, 2.0, 4.0, 6.0, 7.0, 3.0, 20.0, 2.0, 14.0, 2.0, 2.0, 5.0, 3.0, 6.0, 2.0, 3.0, 3.0, 6.0, 3.0, 3.0, 2.0, 1.0, 1.0, 1.3852767300312607, 1.3852726431287743, 1.3852570929632164, 1.3852561958382803, 1.3852282852847149, 1.3852170213827404, 1.3851976833563413, 1.3851765510800704, 1.3135916629759496, 3.660857854247873, 2.007923700190261, 0.7256286891702679, 0.7256287390105421, 0.7256205652055694, 0.7256191696778911, 0.7256175249488417, 0.7256141856504686, 0.7256161792614376, 0.7256154316573243, 0.7256155313378727, 0.7256092514633206, 0.7256127901227905, 0.7256088527411267, 0.7256110457131926, 0.7256079057759165, 0.7256093013035947, 0.725608703220304, 0.7256084540189329, 0.7256085536994814, 0.7256118431575802, 1.3852540028662146, 1.4985975647289305, 2.413886689021686, 1.3380905500902183, 1.3852726431287743, 1.2964883747926865, 1.385192499967822, 1.3852045613141843, 1.0504526585301992, 3.064188033736626, 0.9173657691585738, 1.2195498437925183, 1.603072448515676, 2.4543185149998896, 0.9715345715184015, 1.8129650943969366, 1.5566273934523445, 1.017388321568339, 1.2859116705190587, 1.212676172213187, 1.2370037084646732, 1.076476458674626, 1.4026681206875309, 1.4026713111498987, 1.4026395032068972, 1.4025938699269682, 1.3070754872197536, 1.2963139609720638, 1.274808891082758, 1.258335953793093, 2.344556904349821, 0.7347631932911585, 0.7347573924504895, 0.734756135601678, 0.7347497546769421, 0.7347474343406745, 0.7347513499081261, 0.7347489812315195, 0.7347405216722107, 0.7347410050755998, 0.7347442438783066, 0.7347342374281527, 0.7347357359786588, 0.7347425036261059, 0.7347367027854369, 0.7347374762308595, 0.7347289683312117, 0.7347313370078181, 0.7347257778688437, 0.7347251494444379, 0.7347236992342707, 0.7347232158308816, 1.4026304152231825, 1.9691719361736235, 1.4027020556054441, 2.4844695074192598, 4.742165977121638, 3.3686166263820936, 4.035229899922846, 1.402657582493649, 2.034752760272428, 1.4026488812326454, 1.4026735348054886, 2.445114090623446, 3.406328665016393, 1.050712554611887, 3.446412860761584, 1.3241799426969123, 2.0316379021945545, 1.058342303663086, 1.4026705377044761, 1.3648914026797727, 1.0727611632718739, 1.3968922236334522, 1.5770767940690986, 1.5770554859032357, 1.5770126826577746, 2.328056371237068, 0.8261099270351525, 0.8261039457956121, 0.826108618639003, 0.8260981514698073, 0.8261031046838017, 0.8260884319555541, 0.8260870301025368, 0.8260941328244911, 0.8260866562750655, 0.8260884319555541, 0.8260903010929105, 0.826080768492393, 0.826084880594577, 0.8260837591121631, 0.8260841329396345, 0.8260831983709562, 0.8260816096042033, 0.8260731050292318, 0.8260711424350076, 0.8260765629333411, 0.8260700209525937, 0.8260645069973924, 0.8260640397130533, 0.8260699274957259, 0.8260668434190879, 0.826061142550151, 1.576998477213866, 1.1529965369411768, 1.6310529949917103, 1.577025018964327, 1.5068204067724131, 1.9078402752228591, 2.4755460748406, 2.0309414746003394, 2.3202037513754425, 1.0359276045539432, 1.9148755213185396, 1.1646607951568009, 1.0565061526496171, 1.3190172421233357, 0.9650414114250254, 1.507802171168852, 0.9698744398874183, 0.8847412145438297, 0.9677653052944786, 0.8261020766582556, 0.8261012355464453, 0.8260990860384855, 2.1538830013761427, 2.0410434563898145, 1.4591137532787386, 1.459048198429279, 1.3156593980525881, 1.2733524370035056, 0.7643225086602291, 0.7643044245638264, 0.7642997296541835, 0.7642985993981583, 0.7642914700909226, 0.7642854710397121, 0.7642868621240507, 0.76428903569333, 0.7642833844132041, 0.7642767767625954, 0.7642767767625954, 0.7642836452415176, 0.7642758203921126, 0.7642722557384948, 0.7642692996842751, 0.7642778200758494, 0.7642711254824696, 0.7642726035095795, 0.7642766898198242, 0.7642758203921126, 0.7642735598800623, 0.7642686910848769, 0.7642576493529387, 0.7642583448951081, 1.8841334901268312, 1.459017942344913, 1.4047688700194663, 2.0026350961426154, 1.2597468496864102, 1.2701805908258044, 1.649498077525215, 2.914947677457987, 2.098939517137388, 1.339077868180177, 1.4590250716521487, 2.1831319406809375, 1.3444567566039431, 1.2996024593024493, 1.4722932340743464, 1.2875927934928886, 1.7226277289799794, 1.229592401419915, 1.5174947808038797, 1.2484399422961894, 0.8228047375710081, 0.8252915616546873, 0.8112552598492324, 0.8075784500565953, 0.8080219451323164, 1.9189699552345723, 1.2999063342067314, 1.2998854096089179, 1.2998996440291992, 1.2999026332574584, 4.394915694770036, 0.6809249881281161, 0.6809276926679695, 0.680920077253119, 0.6809196502205106, 0.6809165898201501, 0.6809160204433389, 0.6809187961552937, 0.6809146681734122, 0.6809173727132656, 0.6809125330103699, 0.6809133870755868, 0.6809169456806571, 0.6809126753545728, 0.6809089744052996, 0.6809131023871812, 0.6809081915121842, 0.6809073374469673, 0.6809077644795757, 0.6809085473726912, 0.6809083338563869, 0.6809052022839251, 0.6809050599397223, 0.6809025689161731, 0.6809021418835647, 1.2999101775002073, 1.2998281872393873, 1.2998764419241409, 1.2998932385400725, 1.2998775806777634, 3.156910014663556, 1.299839717119815, 1.2999148748589002, 1.9188444076476918, 1.299935514768308, 1.2998829897574702, 1.2999014945038359, 1.2998496812140121, 0.6809225682766682, 0.680918155606381, 2.4476289988325868, 1.850664031916762, 1.8506103332756574, 1.253588417537819, 1.8505727442268842, 0.6566873943985725, 0.6566856986520112, 0.6566819538783553, 0.6566794102585135, 0.6566821658466754, 0.6566791276340866, 0.6566763013898179, 0.6566758067970709, 0.656671779398988, 0.6566731218650157, 0.6566763720459247, 0.6566754535165373, 0.6566770079508851, 0.6566698716841067, 0.6566760187653911, 0.6566713554623478, 0.6566668334715179, 0.6566635832906089, 0.6566711434940277, 0.6566677520009052, 0.6566662682226642, 0.6566599091730597, 0.6566601211413798, 0.6566630180417552, 0.6566619582001545, 1.2536161147316518, 1.2536414096178563, 1.2536118753652488, 1.2535987333293994, 1.2536381594369475, 1.2535874283523247, 3.6415535628001265, 1.2536179517904265, 1.2536268544598728, 0.9777888053313528, 1.2536418335544965, 1.6262230718726784, 1.850624181872574, 1.2536288328308607, 1.2536158321072248, 0.9850509812918994, 0.8308681927713969, 0.690356442371171, 0.6933137537177947, 0.6905874171840276, 0.6566862639008649, 1.146171582477983, 1.1461143120028154, 1.691891886201428, 0.6003841450308693, 0.6003829359875047, 0.6003812178732497, 0.6003819178457239, 0.600381281507111, 0.6003795633928559, 0.6003756817273168, 0.600377018038404, 0.6003748544871199, 0.6003695728766323, 0.6003707819199969, 0.600371227357026, 0.6003672820576256, 0.600367154789903, 0.6003695728766323, 0.6003700819475226, 0.6003630185889186, 0.6003637185613929, 0.6003655639433705, 0.6003621277148604, 0.6003634640259476, 0.6003642276322833, 0.6003632094905025, 0.6003625731518896, 0.6003600914312989, 0.6003613641085249, 0.6003613004746636, 1.146112530254699, 1.6919732102761662, 0.6003623186164443, 1.1461603829183948, 0.8001617617003272, 1.8232992460092852, 1.1461194027117192, 1.674411791770726, 1.6495533511225784, 0.8081327937018977, 0.7956270854765444, 0.6476464137614747, 0.6374292337238247, 0.6311275088056715, 0.6003852904403727, 0.6003777816447396, 0.6003766362352363, 0.600375936262762, 0.6003751726564265, 2.7426823601401855, 2.742426142929553, 1.4047535205490547, 1.4047027762313644, 1.404677225813792, 0.7358376465468767, 0.7358370523511192, 0.7358229699116665, 0.7358213061635455, 0.7358246336597875, 0.7358267133449388, 0.7358170279540915, 0.7358235046878482, 0.7358158395625766, 0.7358164931779098, 0.7358141163948798, 0.7358071048849413, 0.7358110859965166, 0.7358090657309411, 0.7357990238226394, 0.7358076990806989, 0.7358062730108809, 0.7358099570245773, 0.7358052628780931, 0.7358025889971843, 0.7357973600745183, 0.7357918340539736, 0.7357911804386404, 0.7358017571231239, 0.7357940919978522, 0.7357961716830034, 1.4047355758371782, 2.7425901409586224, 1.4047462713608132, 1.4047255933484524, 1.023653593367486, 1.0808536102846258, 0.7358412711409974, 0.7358396073928765, 0.7358381219034826, 0.7358356857008769, 0.735830219099908, 0.7358286741909384, 0.7358248713380905, 0.7358232670095453, 0.7358218409397272, 0.7358206525482123, 0.7358198206741517, 0.735819523576273, 1.1193780375215072, 1.1193340640967682, 0.9709763010619155, 0.9125288844136022, 0.586363520857712, 0.5863620179685121, 0.5863562290619642, 0.586353668584068, 0.5863463767883201, 0.5863397529433277, 0.586339530293076, 0.5863346319875353, 0.586336524514676, 0.5863298450071207, 0.5863339640367798, 0.5863311252460688, 0.5863307356081281, 0.5863245570636395, 0.5863282307927948, 0.5863257816400246, 0.5863162633417583, 0.5863187124945286, 0.5863171539427656, 0.586313869851551, 0.5863034052897144, 0.5863056317922328, 0.5862952228929591, 1.1193336187962644, 1.119332839520383, 1.3977961658947313, 0.867221395028072, 0.8862227571583184, 1.1108762489799973, 0.7462621927091723, 1.374225964934098, 0.8964613846518947, 1.0867294951922157, 0.7110522818826757, 0.7287217502063955, 0.7033503643709128, 0.7932727338710517, 0.7084416520172502, 0.671188090191647, 0.687976642793949, 0.6362140773069784, 0.5863617396556973, 0.5863575093009122, 0.5863566186999049, 0.5863541695471346, 1.1645542241902873, 1.1644804043424486, 1.789686949608891, 0.6100138131375876, 0.6100061428744579, 0.6100039807868644, 0.6100034145258278, 0.6100006861771978, 0.6100032600909998, 0.6099990388723646, 0.6099948691320055, 0.6099967738282189, 0.6099921922616516, 0.6099950750451097, 0.6099944058275212, 0.6099875592168081, 0.6099912656526829, 0.6099917804354432, 0.6099884858257768, 0.6099897213044018, 0.6099904934785423, 0.6099883828692247, 0.6099894639130216, 0.6099845219985219, 0.6099822569543762, 0.6099787564316056, 0.6099827202588606, 0.6099813818236836, 0.6099726819950331, 0.6099783960836733, 1.1645204544412062, 1.5357234048631103, 2.4569106815169603, 1.1644999660873432, 0.9653414294903715, 0.8210457626244758, 0.9504427927525226, 0.6723098370589119, 0.847861980613082, 0.6706440000463183, 0.6100059369613537, 0.6100043926130726, 0.6100003773075416, 0.6099984726113282, 0.6099980093068439, 0.6099956927844221, 0.6099948176537295], \"Total\": [6.0, 3.0, 3.0, 5.0, 18.0, 3.0, 9.0, 11.0, 2.0, 4.0, 6.0, 7.0, 3.0, 20.0, 2.0, 14.0, 2.0, 2.0, 5.0, 3.0, 6.0, 2.0, 3.0, 3.0, 6.0, 3.0, 3.0, 2.0, 1.0, 1.0, 1.9485886809272994, 1.9485899181976682, 1.9485751118467594, 1.9485748240612604, 1.948548274985404, 1.9485392630484701, 1.9485233203748489, 1.948503563622217, 1.9523633595069732, 5.768574902281287, 3.164728850482525, 1.2889342801013806, 1.28893624825143, 1.2889285907494794, 1.2889265535136871, 1.2889258373188783, 1.288920012131572, 1.2889244987779747, 1.2889246584221266, 1.2889251951596035, 1.2889154809762147, 1.288921925200396, 1.288915204037578, 1.2889194688919872, 1.2889151946339377, 1.2889179305332814, 1.288917157893076, 1.2889173905874058, 1.28891795409561, 1.2889238922754305, 2.4982774077090166, 3.3062634552033616, 6.707172690982451, 3.1670003208807036, 3.450525576594886, 3.147190372901981, 3.6700643987309896, 3.8515416220399405, 2.5357247021283937, 20.41874160791224, 2.013282520745916, 3.6813358269227496, 6.754258218167172, 18.205952688728754, 2.6106557657274054, 14.112690373674818, 9.835933625378292, 3.305928906905228, 8.312790758714133, 7.367797086754539, 8.343929220882723, 6.400448072987512, 1.9651486977852777, 1.9651598417124372, 1.9651361075600218, 1.9650895371452413, 1.9549869945133531, 1.9538662591853482, 1.959181012782227, 1.9542423759477356, 3.895545198905739, 1.297236052673461, 1.2972317938312388, 1.2972296877976925, 1.297223530057459, 1.2972221939652926, 1.2972310004365657, 1.2972288333419713, 1.2972152215980088, 1.297216707079389, 1.2972247940523243, 1.2972084722396358, 1.2972119700759204, 1.2972241911019544, 1.297214910750545, 1.2972177824500857, 1.2972051940546252, 1.2972103769347094, 1.2972022526438733, 1.2972013421419923, 1.2972001482324838, 1.2971997215919695, 2.5109112389659627, 3.861300568269051, 2.6599777628500143, 5.819952923362429, 14.112690373674818, 9.28113431783017, 11.824041382101823, 3.205741708703026, 5.771287737615678, 3.3644691211039275, 3.8075940513195823, 9.835933625378292, 18.205952688728754, 2.4271078143270026, 20.41874160791224, 3.725711436467666, 8.312790758714133, 2.5645178244105806, 4.540972426671345, 4.652429923923225, 3.309056550731953, 7.367797086754539, 2.131260539764889, 2.1312355675149135, 2.131206353861115, 3.55016380799811, 1.3802802429431233, 1.3802742064095361, 1.3802835749198377, 1.3802678203276577, 1.3802775334347992, 1.3802593317421379, 1.380257988988023, 1.3802701668432094, 1.380258191364523, 1.3802629828962028, 1.3802662972364104, 1.3802519053983413, 1.380260201706281, 1.3802583344875383, 1.3802601280734825, 1.3802592685994417, 1.380257437015136, 1.3802450227329965, 1.380242829175683, 1.3802523564820894, 1.380242211288787, 1.3802371062684797, 1.3802370130085801, 1.3802469775256039, 1.380242321299505, 1.380234391868813, 2.6769542968077125, 2.0796478952968074, 3.2764551322993083, 3.450525576594886, 3.837848747006072, 6.707172690982451, 11.824041382101823, 9.835933625378292, 14.112690373674818, 2.6583093078419897, 20.41874160791224, 4.652429923923225, 3.284902577042724, 8.343929220882723, 2.5455140670031002, 18.205952688728754, 3.340460622311679, 2.774212543020892, 9.28113431783017, 3.8515416220399405, 2.5729367316508767, 2.0398451222889658, 2.713698057573048, 2.722854330327444, 2.01891370779465, 2.018860813959632, 2.0304947265208195, 2.0338362876834672, 1.3241115298004678, 1.3240936335354425, 1.3240906282842442, 1.3240889218832388, 1.324084510713045, 1.3240752977117196, 1.3240783201908943, 1.3240827325796003, 1.3240743943225475, 1.324068983877367, 1.3240692840058357, 1.324081747348551, 1.3240694815938236, 1.3240654844340864, 1.3240605108602852, 1.3240755252050551, 1.3240652149706051, 1.3240678191436737, 1.3240755992960496, 1.3240747536989654, 1.3240729010884442, 1.3240645769930979, 1.3240510901873361, 1.3240545190677748, 3.2684914083295338, 2.678445648850639, 2.774212543020892, 4.558606578690996, 2.5569329051276704, 2.5852101371633633, 3.92803261578023, 9.28113431783017, 6.400448072987512, 3.3644691211039275, 4.502485354937864, 14.112690373674818, 5.771287737615678, 5.626149392967183, 8.343929220882723, 5.819952923362429, 18.205952688728754, 6.754258218167172, 20.41874160791224, 9.835933625378292, 1.987518240474879, 3.0787605283025075, 2.6106557657274054, 2.6059636060810356, 3.7286831738714157, 2.486362298194226, 1.8672936824177393, 1.8672666699838134, 1.8672871763121983, 1.8672927144747886, 6.321730738383481, 1.2482968326618131, 1.2483018514090078, 1.248290413535283, 1.2482923956644296, 1.2482874769220926, 1.2482870944846785, 1.2482925569872607, 1.2482854777420715, 1.2482910697896141, 1.2482840755348916, 1.248285752401542, 1.2482923482818793, 1.2482863940110682, 1.2482797205378207, 1.2482885007027071, 1.2482815436188233, 1.2482803471337403, 1.2482825586099189, 1.2482840805358961, 1.2482846823606832, 1.248280546435652, 1.2482816753021628, 1.2482776760804033, 1.2482770515096353, 2.4642658927214214, 2.464188693791009, 2.5269158162449217, 2.535193549581551, 2.6182066500912793, 18.205952688728754, 4.2735949894945, 4.540972426671345, 11.824041382101823, 6.063363381114042, 7.367797086754539, 8.343929220882723, 20.41874160791224, 1.9992416107624627, 5.768574902281287, 3.0172329757941356, 2.4202466841562056, 2.4202052202414674, 1.823192008388227, 3.0820059968477365, 1.226259750636398, 1.226261364697657, 1.226254850397499, 1.2262524786667908, 1.2262589275747147, 1.226255221823724, 1.2262529227866317, 1.2262521670120425, 1.2262451341256264, 1.2262493951668985, 1.2262565765068147, 1.2262551283088685, 1.2262590091848542, 1.2262464256381005, 1.2262580742050089, 1.2262498105853246, 1.2262430230210752, 1.226237613339928, 1.226252056534895, 1.226246011652548, 1.2262443599078436, 1.226233412993118, 1.2262339030558762, 1.2262415937545748, 1.2262396627647323, 2.3777398992396592, 2.4422324453757835, 3.067885316917451, 3.1072101497196707, 3.1199263098662895, 3.147190372901981, 20.41874160791224, 3.7134759689639414, 3.837848747006072, 2.5200970420115723, 6.063363381114042, 11.824041382101823, 18.205952688728754, 7.367797086754539, 9.835933625378292, 5.768574902281287, 5.005827866117403, 4.652429923923225, 8.343929220882723, 9.28113431783017, 6.754258218167172, 1.7208727751984962, 1.7208252973430158, 3.017573140860685, 1.1750801280081233, 1.1750785385012308, 1.1750767457163236, 1.175078184393119, 1.175077001520033, 1.1750753876532116, 1.1750698062195655, 1.1750736766397867, 1.1750720329916493, 1.1750644318831096, 1.1750671599560885, 1.1750682518093107, 1.1750618720461805, 1.17506212231118, 1.1750679269755828, 1.1750704959553038, 1.175057649876778, 1.1750592448728545, 1.175063183697027, 1.1750571505911211, 1.175060449464991, 1.1750627704656826, 1.1750611888996705, 1.1750604122152923, 1.175055740417657, 1.1750586114150023, 1.1750587135888415, 2.3897609357483685, 4.035963642893163, 1.1750611086693403, 3.0077783090258126, 1.7982885301962335, 6.754258218167172, 3.6751857080928674, 7.367797086754539, 20.41874160791224, 3.664189304501503, 3.6700643987309896, 1.8349533975880823, 2.5868456391061434, 2.3704094147507133, 1.7295917090884192, 2.439509876909575, 1.7720301651290766, 2.428992688885556, 2.437345584201153, 3.305077357202823, 3.3048399041063443, 1.9671402076217357, 1.9671091260461746, 1.967081426778055, 1.2982155574508194, 1.2982175148773696, 1.2982014710485978, 1.298199737513544, 1.2982068086474439, 1.2982109247152243, 1.2981955205209892, 1.2982078795029819, 1.2981956550430462, 1.2982006912310464, 1.2981990103790022, 1.2981872110499095, 1.2981949167603077, 1.2981950138569842, 1.2981781864171977, 1.2981935132501723, 1.2981924480567615, 1.2981991079596014, 1.2981944668030916, 1.29819053943486, 1.298182020032223, 1.2981726426710256, 1.2981730052872598, 1.2981921927243247, 1.2981793194676636, 1.2981835880149204, 3.305928906905228, 20.41874160791224, 8.312790758714133, 14.112690373674818, 4.502485354937864, 6.707172690982451, 3.664189304501503, 2.437603823278432, 2.3897609357483685, 2.444631089310306, 2.717096725709418, 2.440586254252866, 2.437345584201153, 3.6751857080928674, 2.428992688885556, 2.9837682444202644, 1.8951758769212783, 2.0491913534354786, 1.695359421749987, 1.695320269129139, 1.7560637233592473, 1.7798997505171112, 1.1623324478828188, 1.1623310027420142, 1.162329674600934, 1.1623283814655043, 1.1623170507118714, 1.16231036768809, 1.1623132574888062, 1.1623055160317965, 1.1623121080906071, 1.1623009025904587, 1.1623105010077783, 1.162307984196744, 1.1623080885833152, 1.1622980179201243, 1.162305958218173, 1.1623022818450703, 1.162288922642631, 1.1622941848315114, 1.1622940483829363, 1.1622922884421336, 1.1622813983957092, 1.1622868280041376, 1.1622756821022517, 2.2974958064302697, 2.3549503353545043, 3.584502173182562, 2.4271078143270026, 3.6813358269227496, 8.312790758714133, 2.479238034425269, 18.205952688728754, 5.005827866117403, 20.41874160791224, 3.1826691714872517, 3.725711436467666, 3.7286831738714157, 9.835933625378292, 6.063363381114042, 3.7134759689639414, 5.771287737615678, 3.837848747006072, 2.3358693869379246, 2.5729367316508767, 4.2735949894945, 3.0787605283025075, 1.7383867807467066, 1.7383244991071267, 2.9364820426251317, 1.1838350428949558, 1.1838239045754735, 1.1838222899466857, 1.1838236623643383, 1.1838188430436913, 1.1838239093276353, 1.183817415602006, 1.1838131464979256, 1.1838184991651537, 1.183810557751324, 1.1838170330013693, 1.1838169107462098, 1.1838069473484532, 1.1838154567599108, 1.1838170588475223, 1.1838106998046047, 1.1838134392930106, 1.1838158220631319, 1.1838123760198571, 1.1838153708872516, 1.1838079696946817, 1.1838053176881547, 1.1837986338585695, 1.183808464257715, 1.1838077023415994, 1.1837928225558736, 1.1838043528951463, 2.4893307976349566, 5.626149392967183, 18.205952688728754, 6.400448072987512, 4.035963642893163, 3.0115241497543552, 8.343929220882723, 1.8384862363141896, 6.063363381114042, 9.28113431783017, 1.78077166214728, 1.8780498844728832, 1.7296016029496166, 3.164728850482525, 1.8837805212399976, 6.754258218167172, 2.3358693869379246], \"Category\": [\"Default\", \"Default\", \"Default\", \"Default\", \"Default\", \"Default\", \"Default\", \"Default\", \"Default\", \"Default\", \"Default\", \"Default\", \"Default\", \"Default\", \"Default\", \"Default\", \"Default\", \"Default\", \"Default\", \"Default\", \"Default\", \"Default\", \"Default\", \"Default\", \"Default\", \"Default\", \"Default\", \"Default\", \"Default\", \"Default\", \"Topic1\", \"Topic1\", \"Topic1\", \"Topic1\", \"Topic1\", \"Topic1\", \"Topic1\", \"Topic1\", \"Topic1\", \"Topic1\", \"Topic1\", \"Topic1\", \"Topic1\", \"Topic1\", \"Topic1\", \"Topic1\", \"Topic1\", \"Topic1\", \"Topic1\", \"Topic1\", \"Topic1\", \"Topic1\", \"Topic1\", \"Topic1\", \"Topic1\", \"Topic1\", \"Topic1\", \"Topic1\", \"Topic1\", \"Topic1\", \"Topic1\", \"Topic1\", \"Topic1\", \"Topic1\", \"Topic1\", \"Topic1\", \"Topic1\", \"Topic1\", \"Topic1\", \"Topic1\", \"Topic1\", \"Topic1\", \"Topic1\", \"Topic1\", \"Topic1\", \"Topic1\", \"Topic1\", \"Topic1\", \"Topic1\", \"Topic1\", \"Topic1\", \"Topic1\", \"Topic2\", \"Topic2\", \"Topic2\", \"Topic2\", \"Topic2\", \"Topic2\", \"Topic2\", \"Topic2\", \"Topic2\", \"Topic2\", \"Topic2\", \"Topic2\", \"Topic2\", \"Topic2\", \"Topic2\", \"Topic2\", \"Topic2\", \"Topic2\", \"Topic2\", \"Topic2\", \"Topic2\", \"Topic2\", \"Topic2\", \"Topic2\", \"Topic2\", \"Topic2\", \"Topic2\", \"Topic2\", \"Topic2\", \"Topic2\", \"Topic2\", \"Topic2\", \"Topic2\", \"Topic2\", \"Topic2\", \"Topic2\", \"Topic2\", \"Topic2\", \"Topic2\", \"Topic2\", \"Topic2\", \"Topic2\", \"Topic2\", \"Topic2\", \"Topic2\", \"Topic2\", \"Topic2\", \"Topic2\", \"Topic2\", \"Topic2\", \"Topic2\", \"Topic2\", \"Topic3\", \"Topic3\", \"Topic3\", \"Topic3\", \"Topic3\", \"Topic3\", \"Topic3\", \"Topic3\", \"Topic3\", \"Topic3\", \"Topic3\", \"Topic3\", \"Topic3\", \"Topic3\", \"Topic3\", \"Topic3\", \"Topic3\", \"Topic3\", \"Topic3\", \"Topic3\", \"Topic3\", \"Topic3\", \"Topic3\", \"Topic3\", \"Topic3\", \"Topic3\", \"Topic3\", \"Topic3\", \"Topic3\", \"Topic3\", \"Topic3\", \"Topic3\", \"Topic3\", \"Topic3\", \"Topic3\", \"Topic3\", \"Topic3\", \"Topic3\", \"Topic3\", \"Topic3\", \"Topic3\", \"Topic3\", \"Topic3\", \"Topic3\", \"Topic3\", \"Topic3\", \"Topic3\", \"Topic3\", \"Topic3\", \"Topic3\", \"Topic3\", \"Topic3\", \"Topic4\", \"Topic4\", \"Topic4\", \"Topic4\", \"Topic4\", \"Topic4\", \"Topic4\", \"Topic4\", \"Topic4\", \"Topic4\", \"Topic4\", \"Topic4\", \"Topic4\", \"Topic4\", \"Topic4\", \"Topic4\", \"Topic4\", \"Topic4\", \"Topic4\", \"Topic4\", \"Topic4\", \"Topic4\", \"Topic4\", \"Topic4\", \"Topic4\", \"Topic4\", \"Topic4\", \"Topic4\", \"Topic4\", \"Topic4\", \"Topic4\", \"Topic4\", \"Topic4\", \"Topic4\", \"Topic4\", \"Topic4\", \"Topic4\", \"Topic4\", \"Topic4\", \"Topic4\", \"Topic4\", \"Topic4\", \"Topic4\", \"Topic4\", \"Topic4\", \"Topic4\", \"Topic4\", \"Topic4\", \"Topic4\", \"Topic4\", \"Topic4\", \"Topic4\", \"Topic4\", \"Topic4\", \"Topic4\", \"Topic5\", \"Topic5\", \"Topic5\", \"Topic5\", \"Topic5\", \"Topic5\", \"Topic5\", \"Topic5\", \"Topic5\", \"Topic5\", \"Topic5\", \"Topic5\", \"Topic5\", \"Topic5\", \"Topic5\", \"Topic5\", \"Topic5\", \"Topic5\", \"Topic5\", \"Topic5\", \"Topic5\", \"Topic5\", \"Topic5\", \"Topic5\", \"Topic5\", \"Topic5\", \"Topic5\", \"Topic5\", \"Topic5\", \"Topic5\", \"Topic5\", \"Topic5\", \"Topic5\", \"Topic5\", \"Topic5\", \"Topic5\", \"Topic5\", \"Topic5\", \"Topic5\", \"Topic5\", \"Topic5\", \"Topic5\", \"Topic5\", \"Topic5\", \"Topic5\", \"Topic6\", \"Topic6\", \"Topic6\", \"Topic6\", \"Topic6\", \"Topic6\", \"Topic6\", \"Topic6\", \"Topic6\", \"Topic6\", \"Topic6\", \"Topic6\", \"Topic6\", \"Topic6\", \"Topic6\", \"Topic6\", \"Topic6\", \"Topic6\", \"Topic6\", \"Topic6\", \"Topic6\", \"Topic6\", \"Topic6\", \"Topic6\", \"Topic6\", \"Topic6\", \"Topic6\", \"Topic6\", \"Topic6\", \"Topic6\", \"Topic6\", \"Topic6\", \"Topic6\", \"Topic6\", \"Topic6\", \"Topic6\", \"Topic6\", \"Topic6\", \"Topic6\", \"Topic6\", \"Topic6\", \"Topic6\", \"Topic6\", \"Topic6\", \"Topic6\", \"Topic6\", \"Topic6\", \"Topic6\", \"Topic6\", \"Topic6\", \"Topic6\", \"Topic7\", \"Topic7\", \"Topic7\", \"Topic7\", \"Topic7\", \"Topic7\", \"Topic7\", \"Topic7\", \"Topic7\", \"Topic7\", \"Topic7\", \"Topic7\", \"Topic7\", \"Topic7\", \"Topic7\", \"Topic7\", \"Topic7\", \"Topic7\", \"Topic7\", \"Topic7\", \"Topic7\", \"Topic7\", \"Topic7\", \"Topic7\", \"Topic7\", \"Topic7\", \"Topic7\", \"Topic7\", \"Topic7\", \"Topic7\", \"Topic7\", \"Topic7\", \"Topic7\", \"Topic7\", \"Topic7\", \"Topic7\", \"Topic7\", \"Topic7\", \"Topic7\", \"Topic7\", \"Topic7\", \"Topic7\", \"Topic7\", \"Topic7\", \"Topic7\", \"Topic7\", \"Topic7\", \"Topic7\", \"Topic7\", \"Topic8\", \"Topic8\", \"Topic8\", \"Topic8\", \"Topic8\", \"Topic8\", \"Topic8\", \"Topic8\", \"Topic8\", \"Topic8\", \"Topic8\", \"Topic8\", \"Topic8\", \"Topic8\", \"Topic8\", \"Topic8\", \"Topic8\", \"Topic8\", \"Topic8\", \"Topic8\", \"Topic8\", \"Topic8\", \"Topic8\", \"Topic8\", \"Topic8\", \"Topic8\", \"Topic8\", \"Topic8\", \"Topic8\", \"Topic8\", \"Topic8\", \"Topic8\", \"Topic8\", \"Topic8\", \"Topic8\", \"Topic8\", \"Topic8\", \"Topic8\", \"Topic8\", \"Topic8\", \"Topic8\", \"Topic8\", \"Topic8\", \"Topic8\", \"Topic8\", \"Topic8\", \"Topic8\", \"Topic8\", \"Topic8\", \"Topic9\", \"Topic9\", \"Topic9\", \"Topic9\", \"Topic9\", \"Topic9\", \"Topic9\", \"Topic9\", \"Topic9\", \"Topic9\", \"Topic9\", \"Topic9\", \"Topic9\", \"Topic9\", \"Topic9\", \"Topic9\", \"Topic9\", \"Topic9\", \"Topic9\", \"Topic9\", \"Topic9\", \"Topic9\", \"Topic9\", \"Topic9\", \"Topic9\", \"Topic9\", \"Topic9\", \"Topic9\", \"Topic9\", \"Topic9\", \"Topic9\", \"Topic9\", \"Topic9\", \"Topic9\", \"Topic9\", \"Topic9\", \"Topic9\", \"Topic9\", \"Topic9\", \"Topic9\", \"Topic9\", \"Topic9\", \"Topic9\", \"Topic9\", \"Topic9\", \"Topic9\", \"Topic9\", \"Topic9\", \"Topic9\", \"Topic10\", \"Topic10\", \"Topic10\", \"Topic10\", \"Topic10\", \"Topic10\", \"Topic10\", \"Topic10\", \"Topic10\", \"Topic10\", \"Topic10\", \"Topic10\", \"Topic10\", \"Topic10\", \"Topic10\", \"Topic10\", \"Topic10\", \"Topic10\", \"Topic10\", \"Topic10\", \"Topic10\", \"Topic10\", \"Topic10\", \"Topic10\", \"Topic10\", \"Topic10\", \"Topic10\", \"Topic10\", \"Topic10\", \"Topic10\", \"Topic10\", \"Topic10\", \"Topic10\", \"Topic10\", \"Topic10\", \"Topic10\", \"Topic10\", \"Topic10\", \"Topic10\", \"Topic10\", \"Topic10\", \"Topic10\", \"Topic10\", \"Topic10\", \"Topic10\", \"Topic10\", \"Topic10\"], \"logprob\": [30.0, 29.0, 28.0, 27.0, 26.0, 25.0, 24.0, 23.0, 22.0, 21.0, 20.0, 19.0, 18.0, 17.0, 16.0, 15.0, 14.0, 13.0, 12.0, 11.0, 10.0, 9.0, 8.0, 7.0, 6.0, 5.0, 4.0, 3.0, 2.0, 1.0, -5.0404, -5.0404, -5.0404, -5.0404, -5.0404, -5.0404, -5.0404, -5.0404, -5.0935, -4.0686, -4.6692, -5.687, -5.687, -5.687, -5.687, -5.687, -5.687, -5.687, -5.687, -5.687, -5.687, -5.687, -5.687, -5.687, -5.687, -5.687, -5.687, -5.687, -5.687, -5.687, -5.0404, -4.9617, -4.485, -5.075, -5.0404, -5.1066, -5.0404, -5.0404, -5.317, -4.2465, -5.4525, -5.1678, -4.8943, -4.4684, -5.3951, -4.7713, -4.9237, -5.349, -5.1148, -5.1734, -5.1536, -5.2926, -4.9973, -4.9973, -4.9974, -4.9974, -5.0679, -5.0762, -5.0929, -5.1059, -4.4836, -5.6439, -5.6439, -5.6439, -5.6439, -5.6439, -5.6439, -5.6439, -5.6439, -5.6439, -5.6439, -5.644, -5.644, -5.6439, -5.644, -5.644, -5.644, -5.644, -5.644, -5.644, -5.644, -5.644, -4.9974, -4.6581, -4.9973, -4.4257, -3.7792, -4.1212, -3.9406, -4.9973, -4.6253, -4.9973, -4.9973, -4.4416, -4.1101, -5.2862, -4.0984, -5.0549, -4.6269, -5.279, -4.9973, -5.0246, -5.2655, -5.0015, -4.8462, -4.8462, -4.8463, -4.4568, -5.4928, -5.4928, -5.4928, -5.4928, -5.4928, -5.4929, -5.4929, -5.4928, -5.4929, -5.4929, -5.4928, -5.4929, -5.4929, -5.4929, -5.4929, -5.4929, -5.4929, -5.4929, -5.4929, -5.4929, -5.4929, -5.4929, -5.4929, -5.4929, -5.4929, -5.4929, -4.8463, -5.1594, -4.8126, -4.8463, -4.8918, -4.6558, -4.3953, -4.5933, -4.4601, -5.2665, -4.6521, -5.1494, -5.2468, -5.0249, -5.3374, -4.8911, -5.3324, -5.4243, -5.3346, -5.4928, -5.4928, -5.4928, -4.4623, -4.5161, -4.8517, -4.8518, -4.9552, -4.9879, -5.4983, -5.4983, -5.4983, -5.4983, -5.4984, -5.4984, -5.4984, -5.4984, -5.4984, -5.4984, -5.4984, -5.4984, -5.4984, -5.4984, -5.4984, -5.4984, -5.4984, -5.4984, -5.4984, -5.4984, -5.4984, -5.4984, -5.4984, -5.4984, -4.5961, -4.8518, -4.8897, -4.5351, -4.9986, -4.9904, -4.7291, -4.1597, -4.4881, -4.9376, -4.8518, -4.4488, -4.9336, -4.9675, -4.8427, -4.9768, -4.6857, -5.0229, -4.8125, -5.0077, -5.4246, -5.4216, -5.4387, -5.4433, -5.4427, -4.3776, -4.7671, -4.7671, -4.7671, -4.7671, -3.5489, -5.4137, -5.4137, -5.4137, -5.4137, -5.4137, -5.4137, -5.4137, -5.4137, -5.4137, -5.4137, -5.4137, -5.4137, -5.4137, -5.4137, -5.4137, -5.4137, -5.4137, -5.4137, -5.4137, -5.4137, -5.4137, -5.4137, -5.4137, -5.4137, -4.7671, -4.7672, -4.7671, -4.7671, -4.7671, -3.8798, -4.7672, -4.7671, -4.3777, -4.7671, -4.7671, -4.7671, -4.7671, -5.4137, -5.4137, -4.127, -4.4066, -4.4066, -4.7961, -4.4066, -5.4427, -5.4427, -5.4427, -5.4427, -5.4427, -5.4427, -5.4427, -5.4427, -5.4427, -5.4427, -5.4427, -5.4427, -5.4427, -5.4427, -5.4427, -5.4427, -5.4427, -5.4427, -5.4427, -5.4427, -5.4427, -5.4427, -5.4427, -5.4427, -5.4427, -4.7961, -4.7961, -4.7961, -4.7961, -4.7961, -4.7961, -3.7297, -4.7961, -4.7961, -5.0446, -4.7961, -4.5359, -4.4066, -4.7961, -4.7961, -5.0372, -5.2074, -5.3927, -5.3884, -5.3923, -5.4427, -4.781, -4.7811, -4.3916, -5.4276, -5.4276, -5.4276, -5.4276, -5.4276, -5.4276, -5.4276, -5.4276, -5.4276, -5.4277, -5.4277, -5.4276, -5.4277, -5.4277, -5.4277, -5.4277, -5.4277, -5.4277, -5.4277, -5.4277, -5.4277, -5.4277, -5.4277, -5.4277, -5.4277, -5.4277, -5.4277, -4.7811, -4.3915, -5.4277, -4.781, -5.1404, -4.3168, -4.7811, -4.402, -4.4169, -5.1305, -5.1461, -5.3519, -5.3678, -5.3777, -5.4276, -5.4276, -5.4276, -5.4276, -5.4276, -3.84, -3.8401, -4.5091, -4.5091, -4.5091, -5.1557, -5.1557, -5.1557, -5.1557, -5.1557, -5.1557, -5.1557, -5.1557, -5.1557, -5.1557, -5.1557, -5.1557, -5.1557, -5.1557, -5.1557, -5.1557, -5.1557, -5.1557, -5.1557, -5.1557, -5.1557, -5.1557, -5.1557, -5.1557, -5.1557, -5.1557, -4.5091, -3.84, -4.5091, -4.5091, -4.8255, -4.7712, -5.1557, -5.1557, -5.1557, -5.1557, -5.1557, -5.1557, -5.1557, -5.1557, -5.1557, -5.1557, -5.1557, -5.1557, -4.6708, -4.6709, -4.8131, -4.8751, -5.3174, -5.3174, -5.3174, -5.3174, -5.3174, -5.3175, -5.3175, -5.3175, -5.3175, -5.3175, -5.3175, -5.3175, -5.3175, -5.3175, -5.3175, -5.3175, -5.3175, -5.3175, -5.3175, -5.3175, -5.3175, -5.3175, -5.3175, -4.6709, -4.6709, -4.4487, -4.9261, -4.9044, -4.6785, -5.0763, -4.4657, -4.8929, -4.7004, -5.1246, -5.1001, -5.1355, -5.0152, -5.1283, -5.1823, -5.1576, -5.2358, -5.3174, -5.3174, -5.3174, -5.3174, -4.5531, -4.5532, -4.1234, -5.1997, -5.1997, -5.1997, -5.1997, -5.1998, -5.1997, -5.1998, -5.1998, -5.1998, -5.1998, -5.1998, -5.1998, -5.1998, -5.1998, -5.1998, -5.1998, -5.1998, -5.1998, -5.1998, -5.1998, -5.1998, -5.1998, -5.1998, -5.1998, -5.1998, -5.1998, -5.1998, -4.5531, -4.2765, -3.8066, -4.5532, -4.7407, -4.9026, -4.7563, -5.1025, -4.8705, -5.105, -5.1997, -5.1997, -5.1998, -5.1998, -5.1998, -5.1998, -5.1998], \"loglift\": [30.0, 29.0, 28.0, 27.0, 26.0, 25.0, 24.0, 23.0, 22.0, 21.0, 20.0, 19.0, 18.0, 17.0, 16.0, 15.0, 14.0, 13.0, 12.0, 11.0, 10.0, 9.0, 8.0, 7.0, 6.0, 5.0, 4.0, 3.0, 2.0, 1.0, 1.6753, 1.6753, 1.6753, 1.6753, 1.6753, 1.6753, 1.6753, 1.6752, 1.6202, 1.5618, 1.5615, 1.4419, 1.4419, 1.4419, 1.4419, 1.4419, 1.4419, 1.4419, 1.4419, 1.4419, 1.4419, 1.4419, 1.4419, 1.4419, 1.4419, 1.4419, 1.4419, 1.4419, 1.4419, 1.4419, 1.4268, 1.2252, 0.9945, 1.1549, 1.1038, 1.1296, 1.0421, 0.9939, 1.1352, 0.1198, 1.2305, 0.9117, 0.5782, 0.0126, 1.028, -0.0356, 0.173, 0.838, 0.1502, 0.2122, 0.1076, 0.2338, 1.7098, 1.7098, 1.7098, 1.7098, 1.6444, 1.6368, 1.6173, 1.6068, 1.5393, 1.4786, 1.4786, 1.4786, 1.4786, 1.4786, 1.4786, 1.4786, 1.4786, 1.4786, 1.4786, 1.4786, 1.4786, 1.4786, 1.4786, 1.4786, 1.4786, 1.4786, 1.4786, 1.4786, 1.4786, 1.4786, 1.4647, 1.3736, 1.4071, 1.1958, 0.9565, 1.0336, 0.972, 1.2205, 1.0045, 1.1721, 1.0484, 0.6551, 0.3709, 1.2098, 0.2679, 1.0126, 0.6381, 1.162, 0.8723, 0.8207, 0.9206, 0.3842, 1.7798, 1.7798, 1.7798, 1.659, 1.5676, 1.5676, 1.5676, 1.5676, 1.5676, 1.5676, 1.5676, 1.5676, 1.5676, 1.5676, 1.5676, 1.5676, 1.5676, 1.5676, 1.5676, 1.5676, 1.5676, 1.5676, 1.5676, 1.5676, 1.5676, 1.5676, 1.5676, 1.5676, 1.5676, 1.5676, 1.5518, 1.4911, 1.3834, 1.298, 1.146, 0.8237, 0.5173, 0.5034, 0.2755, 1.1386, -0.2859, 0.696, 0.9466, 0.2363, 1.111, -0.4101, 0.8443, 0.9381, -0.1798, 0.5414, 0.9449, 1.177, 1.9222, 1.865, 1.8285, 1.8285, 1.7193, 1.6849, 1.6037, 1.6037, 1.6037, 1.6037, 1.6037, 1.6037, 1.6037, 1.6037, 1.6037, 1.6037, 1.6037, 1.6037, 1.6037, 1.6037, 1.6037, 1.6037, 1.6037, 1.6037, 1.6037, 1.6037, 1.6037, 1.6037, 1.6037, 1.6037, 1.6023, 1.5457, 1.4727, 1.3306, 1.4453, 1.4426, 1.2855, 0.9951, 1.0383, 1.2319, 1.0263, 0.2869, 0.6963, 0.6878, 0.4185, 0.6447, -0.2047, 0.4497, -0.4462, 0.0891, 1.2713, 0.8367, 0.9844, 0.9817, 0.624, 2.0943, 1.9912, 1.9911, 1.9911, 1.9911, 1.9898, 1.7473, 1.7473, 1.7473, 1.7473, 1.7473, 1.7473, 1.7473, 1.7473, 1.7473, 1.7473, 1.7473, 1.7473, 1.7473, 1.7473, 1.7473, 1.7473, 1.7473, 1.7473, 1.7473, 1.7473, 1.7472, 1.7472, 1.7472, 1.7472, 1.7137, 1.7137, 1.6886, 1.6854, 1.6531, 0.6012, 1.1631, 1.1025, 0.5349, 0.8134, 0.6185, 0.4941, -0.4009, 1.2763, 0.2166, 2.1514, 2.0923, 2.0923, 1.986, 1.8505, 1.7361, 1.7361, 1.7361, 1.7361, 1.7361, 1.7361, 1.7361, 1.7361, 1.7361, 1.7361, 1.7361, 1.7361, 1.7361, 1.7361, 1.7361, 1.7361, 1.7361, 1.7361, 1.7361, 1.7361, 1.7361, 1.7361, 1.7361, 1.7361, 1.7361, 1.7205, 1.6938, 1.4657, 1.4529, 1.4489, 1.4401, 0.6366, 1.2747, 1.2418, 1.4139, 0.7844, 0.3768, 0.0744, 0.5895, 0.3006, 0.5931, 0.5647, 0.4527, -0.1272, -0.2376, 0.0299, 2.0589, 2.0589, 1.8867, 1.7938, 1.7938, 1.7938, 1.7938, 1.7938, 1.7938, 1.7938, 1.7938, 1.7938, 1.7938, 1.7938, 1.7938, 1.7938, 1.7938, 1.7938, 1.7938, 1.7938, 1.7938, 1.7938, 1.7938, 1.7938, 1.7938, 1.7938, 1.7938, 1.7938, 1.7938, 1.7938, 1.7305, 1.596, 1.7938, 1.5005, 1.6555, 1.1558, 1.3001, 0.9836, -0.0506, 0.9537, 0.9365, 1.4239, 1.0646, 1.142, 1.4072, 1.0633, 1.383, 1.0676, 1.0642, 2.3473, 2.3473, 2.1971, 2.1971, 2.1971, 1.9661, 1.9661, 1.9661, 1.9661, 1.9661, 1.9661, 1.9661, 1.9661, 1.9661, 1.9661, 1.9661, 1.9661, 1.9661, 1.9661, 1.9661, 1.9661, 1.9661, 1.9661, 1.9661, 1.9661, 1.9661, 1.9661, 1.9661, 1.9661, 1.9661, 1.9661, 1.678, 0.5263, 0.7559, 0.2266, 1.0526, 0.7084, 0.9285, 1.3361, 1.3559, 1.3332, 1.2275, 1.3348, 1.3362, 0.9255, 1.3396, 1.1339, 1.5877, 1.5096, 2.184, 2.184, 2.0066, 1.931, 1.9149, 1.9149, 1.9149, 1.9149, 1.9149, 1.9149, 1.9149, 1.9149, 1.9149, 1.9149, 1.9149, 1.9149, 1.9149, 1.9149, 1.9149, 1.9149, 1.9149, 1.9149, 1.9149, 1.9148, 1.9148, 1.9148, 1.9148, 1.8801, 1.8554, 1.6574, 1.57, 1.1751, 0.5865, 1.3985, 0.0153, 0.8792, -0.3341, 1.1004, 0.9674, 0.9312, 0.0815, 0.4522, 0.8885, 0.4722, 0.802, 1.2169, 1.1203, 0.6129, 0.9408, 2.2767, 2.2766, 2.1821, 2.0143, 2.0143, 2.0143, 2.0142, 2.0142, 2.0142, 2.0142, 2.0142, 2.0142, 2.0142, 2.0142, 2.0142, 2.0142, 2.0142, 2.0142, 2.0142, 2.0142, 2.0142, 2.0142, 2.0142, 2.0142, 2.0142, 2.0142, 2.0142, 2.0142, 2.0142, 2.0142, 1.9176, 1.3789, 0.6744, 0.9732, 1.2468, 1.3777, 0.5049, 1.6713, 0.71, 0.0498, 1.606, 1.5528, 1.6351, 1.0309, 1.5497, 0.2728, 1.3346]}, \"token.table\": {\"Topic\": [5, 8, 9, 1, 2, 4, 5, 10, 9, 6, 9, 2, 8, 8, 10, 9, 10, 3, 2, 1, 4, 7, 9, 4, 6, 9, 4, 2, 3, 4, 1, 5, 8, 5, 9, 10, 1, 5, 6, 2, 7, 8, 5, 6, 10, 8, 7, 8, 3, 1, 2, 5, 2, 1, 3, 9, 7, 10, 4, 9, 3, 9, 4, 8, 1, 2, 3, 4, 5, 8, 9, 4, 5, 6, 8, 2, 4, 7, 6, 7, 2, 4, 5, 9, 1, 2, 3, 4, 5, 8, 1, 3, 5, 9, 8, 2, 2, 4, 5, 1, 2, 3, 4, 5, 6, 10, 3, 7, 2, 6, 10, 7, 10, 5, 4, 7, 7, 1, 1, 1, 5, 7, 2, 2, 1, 9, 7, 7, 1, 10, 10, 6, 5, 4, 10, 10, 6, 6, 1, 3, 10, 5, 9, 3, 5, 10, 8, 6, 6, 3, 8, 4, 4, 3, 10, 1, 8, 1, 4, 5, 10, 1, 3, 1, 2, 3, 4, 5, 6, 7, 8, 9, 8, 4, 5, 6, 2, 8, 2, 6, 1, 9, 9, 10, 5, 9, 9, 9, 6, 8, 5, 3, 5, 2, 4, 10, 5, 2, 7, 2, 5, 7, 7, 8, 1, 5, 1, 3, 4, 2, 3, 4, 5, 10, 3, 5, 7, 5, 4, 1, 3, 5, 8, 7, 10, 7, 8, 9, 2, 6, 3, 5, 3, 8, 1, 6, 6, 3, 3, 2, 7, 3, 7, 1, 2, 4, 9, 8, 4, 5, 10, 10, 2, 4, 5, 1, 3, 3, 3, 10, 4, 5, 1, 2, 3, 4, 6, 9, 1, 5, 6, 2, 4, 2, 9, 1, 1, 4, 4, 2, 3, 4, 9, 7, 10, 3, 7, 8, 8, 7, 9, 1, 2, 4, 9, 1, 5, 1, 6, 6, 1, 10, 6, 3, 1, 10, 3, 8, 1, 1, 10, 2, 2, 3, 7, 9, 2, 9, 4, 9, 1, 6, 3, 4, 5, 10, 3, 1, 6, 1, 2, 3, 6, 7, 7, 8, 10, 6, 5, 6, 8, 4, 6, 1, 4, 2, 10, 7, 2, 5, 1, 3, 6, 9, 1, 9, 6, 7, 8, 2, 7, 10, 7, 3, 1, 1, 2, 5, 7, 9, 1, 3, 7, 7, 8, 6, 5, 6, 1, 2, 3, 4, 5, 6, 1, 3, 4, 9, 1, 2, 3, 1, 3, 8, 5, 6, 1, 8, 3, 10, 7, 4, 10, 2, 3, 8, 6, 2, 3, 4, 6, 8, 5, 3, 9, 9, 7, 1, 9, 1, 4, 6, 1, 2, 10, 7, 8, 3, 5, 10, 5, 1, 2, 4, 9, 10, 1, 4, 8, 4, 2, 6, 6, 1, 4, 2, 9, 2, 3, 4, 6, 10, 5, 1, 8, 4, 5, 2, 3, 2, 6, 8, 3, 10, 3, 2, 4, 9, 2, 10, 5, 1, 2, 4, 5, 6, 9, 7, 7, 7, 7, 8, 3, 4, 10, 6, 3, 2, 4, 1, 7, 1, 10, 10, 8, 2, 8, 3, 1, 10, 2, 4, 5, 6, 9, 10, 4, 6, 10, 4, 9, 6, 2, 3, 4, 9, 2, 7, 9, 1, 7, 3, 3, 10, 6, 3, 7, 7, 2, 1, 6, 9, 1, 2, 5, 6, 7, 6, 7, 4, 3, 9, 8, 8, 1, 5, 10, 10, 5, 4, 6, 9, 4, 4, 8, 2, 2, 4, 6, 9, 4, 7, 8, 3, 6, 9, 8, 4, 7, 7, 8, 1, 4, 6, 7, 10, 9, 8, 4, 8, 7, 2, 4, 5, 7, 5, 5, 5, 1, 2, 3, 4, 5, 6, 9, 10, 6, 3, 6, 9, 2, 4, 7, 7, 2, 5, 4, 4, 3, 8, 9, 5, 10, 3, 3, 7, 6, 7, 7, 7, 2, 5, 8, 7, 2, 4, 7, 2, 5, 9, 1, 1], \"Freq\": [0.8011042090300585, 0.770307073076714, 0.8603810743000855, 0.5131919372148449, 0.15818452910819614, 0.15818452910819614, 0.6327381164327845, 0.8447202258044949, 0.5898454257963649, 0.8154879090511005, 0.8603589901337468, 0.38993684913452936, 0.38993684913452936, 0.7702999128947489, 0.8447213813190118, 0.8603532598092478, 0.8447341805716214, 0.7245022365225935, 0.7708821044885086, 0.32480603502843913, 0.32480603502843913, 0.32480603502843913, 0.32480603502843913, 0.26928947658681085, 0.26928947658681085, 0.26928947658681085, 0.7370016698868361, 0.7708840367403287, 0.36046264822632557, 0.36046264822632557, 0.3943645771801004, 0.3943645771801004, 0.7703049232716208, 0.4281061285326802, 0.4281061285326802, 0.4281061285326802, 0.31575620419321976, 0.31575620419321976, 0.31575620419321976, 0.2729116639174421, 0.2729116639174421, 0.2729116639174421, 0.8010968613722417, 0.8155026310734996, 0.844726257196361, 0.5083521734370912, 0.4097376186797089, 0.4097376186797089, 0.9384227771367676, 0.258980098109348, 0.517960196218696, 0.258980098109348, 0.7708812217285146, 0.38866093662488493, 0.38866093662488493, 0.38866093662488493, 0.8510190176272688, 0.5752459757951335, 0.7552403784754841, 0.8603571631585125, 0.7245021302944779, 0.561829395003551, 0.7552398165119056, 0.7703135678028715, 0.12029654408800317, 0.24059308817600633, 0.12029654408800317, 0.12029654408800317, 0.12029654408800317, 0.12029654408800317, 0.12029654408800317, 0.22209955639351556, 0.22209955639351556, 0.22209955639351556, 0.22209955639351556, 0.7708898114861156, 0.7552473747799616, 0.8510213050936147, 0.8155054245007857, 0.8510234583804205, 0.2626330397941015, 0.2626330397941015, 0.2626330397941015, 0.2626330397941015, 0.1417164230946858, 0.3542910577367145, 0.1417164230946858, 0.1417164230946858, 0.0708582115473429, 0.0708582115473429, 0.2596362958347981, 0.2596362958347981, 0.2596362958347981, 0.2596362958347981, 0.770297864070878, 0.7708805826815576, 0.22021714867205808, 0.22021714867205808, 0.22021714867205808, 0.11984761298037566, 0.11984761298037566, 0.11984761298037566, 0.11984761298037566, 0.11984761298037566, 0.11984761298037566, 0.11984761298037566, 0.7471177234460127, 0.37355886172300634, 0.7708779611172418, 0.5615543088742695, 0.5615543088742695, 0.8510171637119859, 0.8447382615576423, 0.5355346766193906, 0.4924908136616855, 0.8510213790917227, 0.5811004825064152, 0.7758462285707084, 0.7758460618710296, 0.2724747828255475, 0.2724747828255475, 0.2724747828255475, 0.7708764160112596, 0.5088706050196357, 0.7758445732115401, 0.8603541106035228, 0.8510057962558677, 0.8510146324679487, 0.7758409988309145, 0.8447251140083476, 0.844712281497087, 0.8154909208156274, 0.801095212648232, 0.7552233913035191, 0.5752665860221381, 0.8447312468128292, 0.8154911678235915, 0.8154976294467008, 0.49670127748861725, 0.49670127748861725, 0.8447202291954107, 0.8043880014801315, 0.8603570858900713, 0.7245104606403425, 0.8010943921721357, 0.8447296515946816, 0.7703029483139886, 0.8154868356686397, 0.8154947957090696, 0.7244937240414486, 0.508367364150213, 0.7552353129300517, 0.49168165896921656, 0.4808506296962736, 0.8447279057157796, 0.30248684353473526, 0.30248684353473526, 0.15623906148389918, 0.31247812296779837, 0.15623906148389918, 0.15623906148389918, 0.513195510873713, 0.7244996152122418, 0.14692384367298636, 0.14692384367298636, 0.09794922911532425, 0.09794922911532425, 0.048974614557662124, 0.1958984582306485, 0.09794922911532425, 0.14692384367298636, 0.048974614557662124, 0.7703018158031039, 0.7552423332902456, 0.40946143430918636, 0.40946143430918636, 0.7708910620790188, 0.7702964619137804, 0.5117072540784695, 0.8155012681169987, 0.4246374052935024, 0.4246374052935024, 0.8603504520453702, 0.8447297529593953, 0.8010986251153857, 0.8603624050977391, 0.8603728235629976, 0.8603586628197367, 0.8154930258186631, 0.7703102782522246, 0.8010956338019934, 0.724501113710909, 0.8011012416391813, 0.7708822892125239, 0.3868157507293607, 0.8447259965297802, 0.8010982133569048, 0.39826178818324837, 0.39826178818324837, 0.33247131179820544, 0.33247131179820544, 0.33247131179820544, 0.8510092292862491, 0.7703080034764141, 0.39573934104620556, 0.39573934104620556, 0.2993599126182712, 0.2993599126182712, 0.2993599126182712, 0.1777414587053133, 0.1777414587053133, 0.1777414587053133, 0.1777414587053133, 0.3554829174106266, 0.3819408219611453, 0.3819408219611453, 0.8510224370763095, 0.8010942582350151, 0.4953158701826562, 0.2981882370031902, 0.2981882370031902, 0.1490941185015951, 0.1490941185015951, 0.5781711341152588, 0.5781711341152588, 0.4090596754548049, 0.4090596754548049, 0.8603553988673992, 0.39681011616988676, 0.39681011616988676, 0.7244888066266214, 0.8010988013806135, 0.4879973743415887, 0.4879973743415887, 0.7758449124068876, 0.8154884564043845, 0.8154967705448203, 0.7245020551687373, 0.7245025262552046, 0.7708913156200531, 0.5449729684222117, 0.7245132470547532, 0.8510188363770439, 0.2681911960253036, 0.2681911960253036, 0.2681911960253036, 0.2681911960253036, 0.7702932948270892, 0.755249808463702, 0.5355343990160227, 0.84472485944251, 0.8447284555025011, 0.3837352132111487, 0.3837352132111487, 0.3837352132111487, 0.3761789484203394, 0.3761789484203394, 0.6104158058762935, 0.7244978755202636, 0.8447252196876102, 0.755247658676837, 0.8011006747651709, 0.20333606103641022, 0.20333606103641022, 0.20333606103641022, 0.10166803051820511, 0.10166803051820511, 0.10166803051820511, 0.6934121629274724, 0.1733530407318681, 0.1733530407318681, 0.5118057570721056, 0.4953288473803601, 0.4120130115757893, 0.4120130115757893, 0.7758405376650782, 0.503140036471348, 0.503140036471348, 0.755249654761151, 0.7708849834850894, 0.7245080165237673, 0.6119030923266717, 0.30595154616333586, 0.5781678267958509, 0.5781678267958509, 0.7245146229445983, 0.41028240167581853, 0.41028240167581853, 0.770292659433595, 0.8510220754742244, 0.860340124836157, 0.5121997373749773, 0.2684051132387474, 0.2684051132387474, 0.2684051132387474, 0.775840214587607, 0.8011013261487115, 0.7758436614039547, 0.815488402131897, 0.815497045859788, 0.7758421828727324, 0.8447276967874376, 0.8263620452793967, 0.724491977719521, 0.775846234231111, 0.8447315997187551, 0.7245090426190556, 0.7703019673084363, 0.7758381706922377, 0.6319656736769284, 0.3159828368384642, 0.7708740156690483, 0.3865711911382309, 0.3865711911382309, 0.3865711911382309, 0.8603553001826556, 0.5088826646813952, 0.860339055165752, 0.7552335987976281, 0.8603420650704279, 0.31774372742438, 0.31774372742438, 0.25458037084077745, 0.5091607416815549, 0.25458037084077745, 0.25458037084077745, 0.39284795671049894, 0.32446400202426473, 0.6489280040485295, 0.2567034776751918, 0.5134069553503836, 0.32052039076617067, 0.32052039076617067, 0.32052039076617067, 0.33514667295961403, 0.33514667295961403, 0.33514667295961403, 0.815499033410454, 0.405813078568086, 0.405813078568086, 0.7702881037441913, 0.7552438852673172, 0.8154999839290595, 0.38304552179110085, 0.38304552179110085, 0.5088673448105987, 0.8447424084232452, 0.8510200748868237, 0.7708697256286625, 0.801102496136964, 0.49023329716222414, 0.49023329716222414, 0.8154890239139151, 0.8603712730276705, 0.7758393969570594, 0.589859047997866, 0.5643244791643595, 0.5643244791643595, 0.7703006179517777, 0.2477723013587789, 0.4955446027175578, 0.2477723013587789, 0.5811165151651463, 0.7245054298341284, 0.775833561478777, 0.23399503286067933, 0.23399503286067933, 0.23399503286067933, 0.23399503286067933, 0.23399503286067933, 0.7758347461449667, 0.33139213312151095, 0.6627842662430219, 0.4184518982802955, 0.4184518982802955, 0.81549274508886, 0.8010975183903182, 0.8154909830053901, 0.4002758048062506, 0.338293809260076, 0.169146904630038, 0.084573452315019, 0.169146904630038, 0.169146904630038, 0.3044230312913155, 0.3044230312913155, 0.3044230312913155, 0.3044230312913155, 0.30220093995637615, 0.30220093995637615, 0.30220093995637615, 0.2898109223658731, 0.5796218447317462, 0.9076943368547905, 0.40580036551804327, 0.40580036551804327, 0.7758450524738506, 0.5083602057248179, 0.7245015317069572, 0.8447263184718705, 0.8510195704906083, 0.7552474874838896, 0.8447204020257504, 0.36803989734259673, 0.36803989734259673, 0.36803989734259673, 0.8154929523481766, 0.21494144271962218, 0.21494144271962218, 0.21494144271962218, 0.21494144271962218, 0.7702908525587706, 0.8011020940097043, 0.7245051930566846, 0.8603674787729224, 0.8603687815397447, 0.8510151879636985, 0.5132025789853684, 0.8603613841423186, 0.3733508650545569, 0.3733508650545569, 0.8263762028413677, 0.5131916113601478, 0.5104173598435926, 0.5439257473065489, 0.4099184059327614, 0.4099184059327614, 0.5001896692309361, 0.5001896692309361, 0.8447240862558025, 0.8010977638223705, 0.17327155488752935, 0.3465431097750587, 0.17327155488752935, 0.17327155488752935, 0.17327155488752935, 0.30245623603473304, 0.30245623603473304, 0.30245623603473304, 0.7552578653581358, 0.7708727278822842, 0.8154981443300203, 0.6628589890290457, 0.7758433344100493, 0.7552440572890455, 0.7708771671415073, 0.5694554170773817, 0.3232363520735435, 0.10774545069118116, 0.3232363520735435, 0.10774545069118116, 0.10774545069118116, 0.801091514321673, 0.7758406337594614, 0.770299992715028, 0.7552483230403855, 0.8010943617642797, 0.281677143389022, 0.563354286778044, 0.5088644591518833, 0.5276555132310488, 0.5276555132310488, 0.7244958443802938, 0.530847404315313, 0.7245010750609179, 0.3759429924438756, 0.3759429924438756, 0.8603645404037179, 0.7708767743149539, 0.6810870868503786, 0.8011038082007553, 0.19976715675116, 0.19976715675116, 0.19976715675116, 0.19976715675116, 0.19976715675116, 0.19976715675116, 0.8510132714729518, 0.8510116587951392, 0.8510104684325639, 0.41169329351040945, 0.41169329351040945, 0.724490555532212, 0.7552454243100644, 0.8447317904943316, 0.8154900199179015, 0.9384117815181015, 0.2972237116778431, 0.2972237116778431, 0.5131955866676852, 0.8510200479092828, 0.5132091515371877, 0.8447323292364919, 0.8447334921192052, 0.7703011837552542, 0.5115123542031162, 0.9077595547888497, 0.7245015648507158, 0.5132143551952383, 0.8447238408783234, 0.16492496608644072, 0.16492496608644072, 0.16492496608644072, 0.16492496608644072, 0.16492496608644072, 0.16492496608644072, 0.7552443675905588, 0.4205674473981677, 0.4205674473981677, 0.7552501723676978, 0.8603411079075589, 0.8154924497366521, 0.3142016798223181, 0.3142016798223181, 0.3142016798223181, 0.3142016798223181, 0.42186805105360503, 0.42186805105360503, 0.42186805105360503, 0.5132049525322421, 0.8510127719503537, 0.7245105183866679, 0.4017143888430063, 0.4017143888430063, 0.5484885823320601, 0.9384356406298209, 0.8510195123850545, 0.8510183669623841, 0.7708861153778127, 0.2716405258891868, 0.2716405258891868, 0.2716405258891868, 0.13572577912029507, 0.13572577912029507, 0.13572577912029507, 0.13572577912029507, 0.27145155824059014, 0.3259574256200619, 0.3259574256200619, 0.7345233190493465, 0.40334973331103224, 0.40334973331103224, 0.7703002933503525, 0.7702969246239799, 0.33205777216880966, 0.33205777216880966, 0.33205777216880966, 0.53246721946402, 0.8010996980516597, 0.2789787679531891, 0.2789787679531891, 0.2789787679531891, 0.7552439275283284, 0.7552445725767867, 0.7702974905196875, 0.7708722564119435, 0.34364539135215494, 0.17182269567607747, 0.17182269567607747, 0.17182269567607747, 0.2720950938065444, 0.2720950938065444, 0.2720950938065444, 0.52112527924927, 0.260562639624635, 0.260562639624635, 0.7702869423191079, 0.7552388022887457, 0.5560842897056557, 0.41023893647125137, 0.41023893647125137, 0.296109496468543, 0.1480547482342715, 0.1480547482342715, 0.296109496468543, 0.1480547482342715, 0.4352565071941299, 0.7703003509638877, 0.7552362862289563, 0.7703096059256773, 0.8510082457553891, 0.219365278125657, 0.438730556251314, 0.219365278125657, 0.219365278125657, 0.535536264954677, 0.8010993118243335, 0.5355421462156065, 0.10985417979462253, 0.1647812696919338, 0.10985417979462253, 0.10985417979462253, 0.1647812696919338, 0.10985417979462253, 0.054927089897311265, 0.10985417979462253, 0.8154945194427153, 0.32183211041912274, 0.32183211041912274, 0.32183211041912274, 0.770873507911849, 0.39109356291461583, 0.39109356291461583, 0.8510069473955869, 0.3944472011476426, 0.3944472011476426, 0.7552559094802747, 0.7552524917084548, 0.7245131981008217, 0.7703133526326253, 0.8603673777693056, 0.801099701261108, 0.8447251324511423, 0.7244970760548579, 0.7245101940484097, 0.8510072038452999, 0.815505098585121, 0.8510143972150133, 0.8510180676870186, 0.8510209203181099, 0.7708880634946719, 0.8011019661048202, 0.7702979219711894, 0.8510080604985373, 0.3119402905371869, 0.3119402905371869, 0.3119402905371869, 0.7708903525714511, 0.801088293565583, 0.8603768428026936, 0.775844587394526, 0.7758398280541268], \"Term\": [\"ability\", \"abroad\", \"accepted\", \"activated\", \"actually\", \"actually\", \"actually\", \"addition\", \"adeniyanisrael\", \"adultery\", \"advisable\", \"affairs\", \"affairs\", \"africa\", \"afternoon\", \"aggressive\", \"allegations\", \"alleged\", \"alliance\", \"almost\", \"almost\", \"almost\", \"almost\", \"always\", \"always\", \"always\", \"ambition\", \"ambitious\", \"america\", \"america\", \"anambra\", \"anambra\", \"animal\", \"another\", \"another\", \"another\", \"anybody\", \"anybody\", \"anybody\", \"anyone\", \"anyone\", \"anyone\", \"anyway\", \"apostasy\", \"apparent\", \"appreciate\", \"architecture\", \"architecture\", \"arrested\", \"asiwaju\", \"asiwaju\", \"asiwaju\", \"aspiring\", \"available\", \"available\", \"available\", \"background\", \"basically\", \"bearing\", \"bearue\", \"beaten\", \"become\", \"begging\", \"behaviour\", \"believe\", \"believe\", \"believe\", \"believe\", \"believe\", \"believe\", \"believe\", \"better\", \"better\", \"better\", \"better\", \"beyond\", \"biafra\", \"billion\", \"blasphemy\", \"bothered\", \"brought\", \"brought\", \"brought\", \"brought\", \"buhari\", \"buhari\", \"buhari\", \"buhari\", \"buhari\", \"buhari\", \"business\", \"business\", \"business\", \"business\", \"calibrate\", \"calibre\", \"campaign\", \"campaign\", \"campaign\", \"candidate\", \"candidate\", \"candidate\", \"candidate\", \"candidate\", \"candidate\", \"candidate\", \"candidates\", \"candidates\", \"capping\", \"career\", \"career\", \"certificates\", \"chance\", \"change\", \"charges\", \"chatgp\", \"checks\", \"childbirth\", \"children\", \"choice\", \"choice\", \"choice\", \"choices\", \"choose\", \"claimed\", \"claims\", \"clapped\", \"cognitive\", \"collectively\", \"combatants\", \"combine\", \"comfort\", \"coming\", \"comments\", \"commission\", \"commissioned\", \"commits\", \"committed\", \"comprehensive\", \"comprehensive\", \"computer\", \"concerned\", \"conduct\", \"confess\", \"confirmation\", \"confusing\", \"connect\", \"connectivity\", \"connects\", \"consider\", \"considered\", \"content\", \"contest\", \"convincing\", \"corpers\", \"corrupt\", \"corrupt\", \"corruption\", \"corruption\", \"corruption\", \"corruption\", \"counterfeit\", \"countries\", \"country\", \"country\", \"country\", \"country\", \"country\", \"country\", \"country\", \"country\", \"country\", \"counts\", \"courses\", \"covetousness\", \"covetousness\", \"creative\", \"crumbling\", \"crypto\", \"cultural\", \"currency\", \"currency\", \"custody\", \"cybersecurity\", \"debaters\", \"december\", \"declaration\", \"declare\", \"defect\", \"defend\", \"denied\", \"denouncing\", \"destiny\", \"difference\", \"difficult\", \"direct\", \"discussions\", \"dollar\", \"dollar\", \"dollars\", \"dollars\", \"dollars\", \"double\", \"economic\", \"economy\", \"economy\", \"either\", \"either\", \"either\", \"election\", \"election\", \"election\", \"election\", \"election\", \"elections\", \"elections\", \"electoral\", \"enable\", \"engineering\", \"enough\", \"enough\", \"enough\", \"enough\", \"entire\", \"entire\", \"environmental\", \"environmental\", \"evening\", \"everyone\", \"everyone\", \"evident\", \"example\", \"expect\", \"expect\", \"expectancy\", \"expendable\", \"experiences\", \"factions\", \"factual\", \"faithful\", \"falling\", \"families\", \"faulty\", \"favorite\", \"favorite\", \"favorite\", \"favorite\", \"favour\", \"feeding\", \"finished\", \"flexiblehr\", \"flowing\", \"forget\", \"forget\", \"forget\", \"friend\", \"friend\", \"fulani\", \"generated\", \"generation\", \"google\", \"govern\", \"government\", \"government\", \"government\", \"government\", \"government\", \"government\", \"governor\", \"governor\", \"governor\", \"governors\", \"governorship\", \"grammar\", \"grammar\", \"greatest\", \"ground\", \"ground\", \"gsrjrpyb\", \"guarantee\", \"guevara\", \"happened\", \"happened\", \"health\", \"health\", \"helped\", \"helping\", \"helping\", \"holders\", \"honestly\", \"honourable\", \"ignorance\", \"impact\", \"impact\", \"impact\", \"impeached\", \"importantly\", \"improved\", \"including\", \"income\", \"increased\", \"independent\", \"individual\", \"information\", \"inherit\", \"initial\", \"injured\", \"instruments\", \"intentionally\", \"interest\", \"interest\", \"interferes\", \"international\", \"international\", \"international\", \"interrogate\", \"interviews\", \"introducing\", \"invested\", \"invited\", \"islamic\", \"islamic\", \"issues\", \"issues\", \"issues\", \"issues\", \"jonathan\", \"judgement\", \"judgement\", \"killed\", \"killed\", \"killing\", \"killing\", \"killing\", \"kindly\", \"kindly\", \"kindly\", \"konnekt\", \"landing\", \"landing\", \"lastly\", \"latter\", \"layoffs\", \"leader\", \"leader\", \"leaders\", \"letter\", \"leverage\", \"limelight\", \"listen\", \"lunched\", \"lunched\", \"majority\", \"majorly\", \"malfunction\", \"manifesto\", \"market\", \"market\", \"materials\", \"matter\", \"matter\", \"matter\", \"memory\", \"mentally\", \"microsoft\", \"million\", \"million\", \"million\", \"million\", \"million\", \"miscarriages\", \"mistake\", \"mistake\", \"months\", \"months\", \"murderer\", \"muzzle\", \"necessarily\", \"negative\", \"nigeria\", \"nigeria\", \"nigeria\", \"nigeria\", \"nigeria\", \"nigerian\", \"nigerian\", \"nigerian\", \"nigerian\", \"nigerians\", \"nigerians\", \"nigerians\", \"nirsal\", \"nirsal\", \"nobody\", \"normal\", \"normal\", \"oblivious\", \"office\", \"officer\", \"officers\", \"official\", \"offngefd\", \"omooooo\", \"opinion\", \"opinion\", \"opinion\", \"opportunities\", \"opposition\", \"opposition\", \"opposition\", \"opposition\", \"outcome\", \"outmatched\", \"outside\", \"overseas\", \"pandora\", \"parameters\", \"parents\", \"partially\", \"particular\", \"particular\", \"passed\", \"paying\", \"peoples\", \"performance\", \"platforms\", \"platforms\", \"police\", \"police\", \"policy\", \"politician\", \"politics\", \"politics\", \"politics\", \"politics\", \"politics\", \"positive\", \"positive\", \"positive\", \"postgraduate\", \"powers\", \"prayed\", \"prayer\", \"pregnant\", \"preparing\", \"presence\", \"present\", \"president\", \"president\", \"president\", \"president\", \"president\", \"presidents\", \"printed\", \"prison\", \"processes\", \"prominent\", \"protest\", \"protest\", \"proxies\", \"punishment\", \"punishment\", \"purists\", \"purpose\", \"pushed\", \"question\", \"question\", \"random\", \"realise\", \"reason\", \"reasons\", \"record\", \"record\", \"record\", \"record\", \"record\", \"record\", \"records\", \"reduce\", \"refuse\", \"regional\", \"regional\", \"regions\", \"registration\", \"regular\", \"reiterate\", \"remain\", \"remember\", \"remember\", \"remote\", \"requires\", \"research\", \"result\", \"returned\", \"rulings\", \"running\", \"sacked\", \"sacrificed\", \"samris\", \"satisfactory\", \"saying\", \"saying\", \"saying\", \"saying\", \"saying\", \"saying\", \"scheduling\", \"science\", \"science\", \"seamlessly\", \"secured\", \"seeking\", \"senate\", \"senate\", \"senate\", \"senate\", \"sending\", \"sending\", \"sending\", \"senior\", \"sensitization\", \"sentimental\", \"service\", \"service\", \"shareeha\", \"shepherd\", \"showed\", \"skyrocketing\", \"smoothly\", \"social\", \"social\", \"social\", \"someone\", \"someone\", \"someone\", \"someone\", \"someone\", \"something\", \"something\", \"source\", \"southeast\", \"southeast\", \"specific\", \"speculations\", \"started\", \"started\", \"started\", \"statement\", \"station\", \"statistics\", \"statistics\", \"statistics\", \"stealing\", \"straight\", \"strike\", \"strong\", \"structure\", \"structure\", \"structure\", \"structure\", \"studies\", \"studies\", \"studies\", \"support\", \"support\", \"support\", \"supreme\", \"suprise\", \"surveillance\", \"survey\", \"survey\", \"system\", \"system\", \"system\", \"system\", \"system\", \"talking\", \"talkless\", \"taught\", \"technical\", \"terrorism\", \"things\", \"things\", \"things\", \"things\", \"though\", \"thought\", \"ticket\", \"tinubu\", \"tinubu\", \"tinubu\", \"tinubu\", \"tinubu\", \"tinubu\", \"tinubu\", \"tinubu\", \"tomorrow\", \"towards\", \"towards\", \"towards\", \"traditional\", \"trained\", \"trained\", \"transacting\", \"transactions\", \"transactions\", \"transfer\", \"transform\", \"treason\", \"treating\", \"trying\", \"typical\", \"unborn\", \"understandable\", \"unfortunately\", \"ungoing\", \"unjustly\", \"update\", \"upright\", \"validate\", \"vehemently\", \"voluntarily\", \"waiting\", \"wallets\", \"wanted\", \"wanted\", \"wanted\", \"whoever\", \"working\", \"youruba\", \"zenith\", \"zuckerberg\"]}, \"R\": 30, \"lambda.step\": 0.01, \"plot.opts\": {\"xlab\": \"PC1\", \"ylab\": \"PC2\"}, \"topic.order\": [10, 9, 1, 8, 3, 7, 2, 4, 5, 6]};\n",
       "\n",
       "function LDAvis_load_lib(url, callback){\n",
       "  var s = document.createElement('script');\n",
       "  s.src = url;\n",
       "  s.async = true;\n",
       "  s.onreadystatechange = s.onload = callback;\n",
       "  s.onerror = function(){console.warn(\"failed to load library \" + url);};\n",
       "  document.getElementsByTagName(\"head\")[0].appendChild(s);\n",
       "}\n",
       "\n",
       "if(typeof(LDAvis) !== \"undefined\"){\n",
       "   // already loaded: just create the visualization\n",
       "   !function(LDAvis){\n",
       "       new LDAvis(\"#\" + \"ldavis_el327617435963616489174226089\", ldavis_el327617435963616489174226089_data);\n",
       "   }(LDAvis);\n",
       "}else if(typeof define === \"function\" && define.amd){\n",
       "   // require.js is available: use it to load d3/LDAvis\n",
       "   require.config({paths: {d3: \"https://d3js.org/d3.v5\"}});\n",
       "   require([\"d3\"], function(d3){\n",
       "      window.d3 = d3;\n",
       "      LDAvis_load_lib(\"https://cdn.jsdelivr.net/gh/bmabey/pyLDAvis@3.4.0/pyLDAvis/js/ldavis.v3.0.0.js\", function(){\n",
       "        new LDAvis(\"#\" + \"ldavis_el327617435963616489174226089\", ldavis_el327617435963616489174226089_data);\n",
       "      });\n",
       "    });\n",
       "}else{\n",
       "    // require.js not available: dynamically load d3 & LDAvis\n",
       "    LDAvis_load_lib(\"https://d3js.org/d3.v5.js\", function(){\n",
       "         LDAvis_load_lib(\"https://cdn.jsdelivr.net/gh/bmabey/pyLDAvis@3.4.0/pyLDAvis/js/ldavis.v3.0.0.js\", function(){\n",
       "                 new LDAvis(\"#\" + \"ldavis_el327617435963616489174226089\", ldavis_el327617435963616489174226089_data);\n",
       "            })\n",
       "         });\n",
       "}\n",
       "</script>"
      ],
      "text/plain": [
       "PreparedData(topic_coordinates=              x         y  topics  cluster       Freq\n",
       "topic                                                \n",
       "9      0.127379  0.067461       1        1  13.312335\n",
       "8     -0.085847 -0.083231       2        1  12.911702\n",
       "0      0.067455  0.049796       3        1  12.481163\n",
       "7      0.008098 -0.048492       4        1  11.611205\n",
       "2      0.028194 -0.126209       5        1   9.505033\n",
       "6      0.057550 -0.039139       6        1   9.436122\n",
       "1     -0.105358  0.072961       7        1   8.498301\n",
       "3     -0.081496  0.058744       8        1   7.935483\n",
       "4     -0.010262  0.031783       9        1   7.433734\n",
       "5     -0.005713  0.016326      10        1   6.874923, topic_info=         Term       Freq      Total Category  logprob  loglift\n",
       "397  actually   6.000000   6.000000  Default  30.0000  30.0000\n",
       "595    nobody   3.000000   3.000000  Default  29.0000  29.0000\n",
       "597    sacked   3.000000   3.000000  Default  28.0000  28.0000\n",
       "382  governor   5.000000   5.000000  Default  27.0000  27.0000\n",
       "179    tinubu  18.000000  18.000000  Default  26.0000  26.0000\n",
       "..        ...        ...        ...      ...      ...      ...\n",
       "84     health   0.610000   1.729602  Topic10  -5.1998   1.6351\n",
       "11   interest   0.609998   3.164729  Topic10  -5.1998   1.0309\n",
       "890   purpose   0.609998   1.883781  Topic10  -5.1998   1.5497\n",
       "90     system   0.609996   6.754258  Topic10  -5.1998   0.2728\n",
       "525   another   0.609995   2.335869  Topic10  -5.1998   1.3346\n",
       "\n",
       "[531 rows x 6 columns], token_table=      Topic      Freq        Term\n",
       "term                             \n",
       "694       5  0.801104     ability\n",
       "787       8  0.770307      abroad\n",
       "543       9  0.860381    accepted\n",
       "66        1  0.513192   activated\n",
       "397       2  0.158185    actually\n",
       "...     ...       ...         ...\n",
       "477       2  0.770890     whoever\n",
       "636       5  0.801088     working\n",
       "199       9  0.860377     youruba\n",
       "877       1  0.775845      zenith\n",
       "681       1  0.775840  zuckerberg\n",
       "\n",
       "[632 rows x 3 columns], R=30, lambda_step=0.01, plot_opts={'xlab': 'PC1', 'ylab': 'PC2'}, topic_order=[10, 9, 1, 8, 3, 7, 2, 4, 5, 6])"
      ]
     },
     "execution_count": 75,
     "metadata": {},
     "output_type": "execute_result"
    }
   ],
   "source": [
    "topic_modelling()"
   ]
  },
  {
   "cell_type": "raw",
   "id": "7fc8cad9",
   "metadata": {},
   "source": [
    "import numpy as np\n",
    "df['New Message'].replace('',np.nan,regex = True, inplace=True)"
   ]
  },
  {
   "cell_type": "raw",
   "id": "5c67f8ab",
   "metadata": {},
   "source": [
    "#!pip install wordcloud\n",
    "df.dropna(inplace=True)"
   ]
  },
  {
   "cell_type": "raw",
   "id": "f354d79b",
   "metadata": {},
   "source": [
    "df.loc[df[\"New Message\"].str.count(\" \") >= 2]"
   ]
  },
  {
   "cell_type": "raw",
   "id": "e068c90d",
   "metadata": {},
   "source": [
    "# Import the wordcloud library\n",
    "from wordcloud import WordCloud\n",
    "# Join the different processed titles together.\n",
    "long_string = ','.join(list(df['New Message'].values))\n",
    "# Create a WordCloud object\n",
    "wordcloud = WordCloud(background_color=\"white\", max_words=5000, contour_width=3, contour_color='steelblue')\n",
    "# Generate a word cloud\n",
    "wordcloud.generate(long_string)\n",
    "# Visualize the word cloud\n",
    "wordcloud.to_image()"
   ]
  },
  {
   "cell_type": "raw",
   "id": "ecadcfe1",
   "metadata": {},
   "source": [
    "!pip install nltk"
   ]
  },
  {
   "cell_type": "code",
   "execution_count": 45,
   "id": "065af370",
   "metadata": {},
   "outputs": [
    {
     "name": "stdout",
     "output_type": "stream",
     "text": [
      "['wallohi', 'islamic', 'country', 'judgement', 'carried', 'muslim', 'leader', 'country', 'admonish', 'islamic', 'country', 'report', 'ignorance', 'criminal', 'extent', 'burning', 'forbidden', 'anybody', 'purnish', 'someone', 'except', 'interest', 'defense', 'ignorance']\n"
     ]
    },
    {
     "name": "stderr",
     "output_type": "stream",
     "text": [
      "[nltk_data] Downloading package stopwords to\n",
      "[nltk_data]     C:\\Users\\Dee\\AppData\\Roaming\\nltk_data...\n",
      "[nltk_data]   Package stopwords is already up-to-date!\n"
     ]
    }
   ],
   "source": [
    "import gensim\n",
    "from gensim.utils import simple_preprocess\n",
    "import nltk\n",
    "nltk.download('stopwords')\n",
    "from nltk.corpus import stopwords\n",
    "stop_words = stopwords.words('english')\n",
    "stop_words.extend(['from', 'subject', 're', 'edu', 'use', 'dey', 'go', 'na', 'people', 'even', 'make', 'know', 'one', 'still', 'like', 'say', 'time',\n",
    "                   'sha', 'ooo', 'sure', 'first', 'person', 'want', 'wey', 'take', 'give', 'ni', 'day', 'problem', \n",
    "                   'Abeg',    'Oya',    'Nawa',    'Chop',    'Shishi',    'Wahala',    'Sabi',\n",
    "                   'Jenifa',    'Soro',    'Kai',    'Banga',    'Wetin',    'Gbege',    'Kolo',    'Belle',    'Pikin',    'Gist',    'Ehen', \n",
    "                   'Shine',    'Oyinbo',    'Katakata',    'Hustle',    'Padi',    'Ikebe',    'Naija',    'Ojoro',    'Jollof',    'Jasi',   \n",
    "                   'Waka',    'Ogbonge',    'Kpatakpata',    'Mumu',    'Orobo',    'Skelewu',    'Amebo',    'Aproko',    'Sisi',    'Yawa',  \n",
    "                   'Chai',    'Abi',    'Gbese',    'Gbera',    'Go-slow',    'Gbe body e',    'Kpanlogo',    'Lai-lai',\n",
    "                   'Palava',    'Suo',    'Totori',    'Zobo'])\n",
    "def sent_to_words(sentences):\n",
    "    for sentence in sentences:\n",
    "        # deacc=True removes punctuations\n",
    "        yield(gensim.utils.simple_preprocess(str(sentence), deacc=True))\n",
    "def remove_stopwords(texts):\n",
    "    return [[word for word in simple_preprocess(str(doc)) \n",
    "             if word not in stop_words] for doc in texts]\n",
    "data = df['New Message'].tolist()\n",
    "data_words = list(sent_to_words(data))\n",
    "# remove stop words\n",
    "data_words = remove_stopwords(data_words)\n",
    "print(data_words[:1][0][:30])"
   ]
  },
  {
   "cell_type": "code",
   "execution_count": 46,
   "id": "648867c4",
   "metadata": {},
   "outputs": [
    {
     "name": "stdout",
     "output_type": "stream",
     "text": [
      "[(0, 1), (1, 1), (2, 1), (3, 1), (4, 3), (5, 1), (6, 1), (7, 1), (8, 1), (9, 1), (10, 2), (11, 1), (12, 2), (13, 1), (14, 1), (15, 1), (16, 1), (17, 1), (18, 1), (19, 1)]\n"
     ]
    }
   ],
   "source": [
    "import gensim.corpora as corpora\n",
    "# Create Dictionary\n",
    "id2word = corpora.Dictionary(data_words)\n",
    "# Create Corpus\n",
    "texts = data_words\n",
    "# Term Document Frequency\n",
    "corpus = [id2word.doc2bow(text) for text in texts]\n",
    "# View\n",
    "print(corpus[:1][0][:30])"
   ]
  },
  {
   "cell_type": "code",
   "execution_count": 69,
   "id": "d3434d37",
   "metadata": {},
   "outputs": [
    {
     "name": "stdout",
     "output_type": "stream",
     "text": [
      "[(0,\n",
      "  '0.018*\"enough\" + 0.014*\"grammar\" + 0.011*\"interest\" + 0.009*\"government\" + '\n",
      "  '0.009*\"believe\" + 0.009*\"senate\" + 0.009*\"country\" + 0.009*\"comprehensive\" '\n",
      "  '+ 0.009*\"purpose\" + 0.009*\"nigerians\"'),\n",
      " (1,\n",
      "  '0.028*\"tinubu\" + 0.026*\"country\" + 0.013*\"system\" + 0.012*\"buhari\" + '\n",
      "  '0.011*\"individual\" + 0.010*\"corruption\" + 0.008*\"except\" + '\n",
      "  '0.008*\"judgement\" + 0.008*\"politics\" + 0.008*\"leaders\"'),\n",
      " (2,\n",
      "  '0.022*\"buhari\" + 0.019*\"nigeria\" + 0.016*\"nobody\" + 0.015*\"sacked\" + '\n",
      "  '0.010*\"president\" + 0.010*\"senior\" + 0.010*\"manifesto\" + 0.010*\"commission\" '\n",
      "  '+ 0.010*\"paying\" + 0.010*\"tinubu\"'),\n",
      " (3,\n",
      "  '0.013*\"president\" + 0.011*\"buhari\" + 0.011*\"friend\" + 0.010*\"transfers\" + '\n",
      "  '0.009*\"general\" + 0.009*\"better\" + 0.009*\"anything\" + 0.009*\"surveillance\" '\n",
      "  '+ 0.009*\"savings\" + 0.009*\"ikiootnomk\"'),\n",
      " (4,\n",
      "  '0.012*\"business\" + 0.012*\"shepherd\" + 0.012*\"counterfeit\" + '\n",
      "  '0.012*\"governor\" + 0.006*\"hiding\" + 0.006*\"million\" + 0.006*\"culture\" + '\n",
      "  '0.006*\"almost\" + 0.006*\"amount\" + 0.006*\"custody\"'),\n",
      " (5,\n",
      "  '0.022*\"tinubu\" + 0.017*\"protest\" + 0.016*\"election\" + 0.011*\"considered\" + '\n",
      "  '0.011*\"arrested\" + 0.011*\"change\" + 0.011*\"transactions\" + 0.011*\"matter\" + '\n",
      "  '0.006*\"calling\" + 0.006*\"service\"'),\n",
      " (6,\n",
      "  '0.021*\"governor\" + 0.015*\"actually\" + 0.013*\"buhari\" + 0.011*\"record\" + '\n",
      "  '0.009*\"mistake\" + 0.007*\"online\" + 0.007*\"ticket\" + 0.007*\"samris\" + '\n",
      "  '0.007*\"research\" + 0.007*\"anambra\"'),\n",
      " (7,\n",
      "  '0.028*\"government\" + 0.014*\"buhari\" + 0.013*\"tinubu\" + 0.012*\"nirsal\" + '\n",
      "  '0.011*\"president\" + 0.010*\"corruption\" + 0.010*\"killed\" + 0.009*\"saying\" + '\n",
      "  '0.009*\"nigeria\" + 0.008*\"candidate\"'),\n",
      " (8,\n",
      "  '0.017*\"country\" + 0.012*\"someone\" + 0.011*\"tinubu\" + 0.010*\"asiwaju\" + '\n",
      "  '0.010*\"nigeria\" + 0.010*\"america\" + 0.010*\"president\" + 0.010*\"studies\" + '\n",
      "  '0.009*\"structure\" + 0.009*\"anyone\"'),\n",
      " (9,\n",
      "  '0.049*\"country\" + 0.018*\"believe\" + 0.014*\"prayer\" + 0.011*\"nigeria\" + '\n",
      "  '0.011*\"concerned\" + 0.008*\"international\" + 0.007*\"support\" + '\n",
      "  '0.007*\"system\" + 0.007*\"towards\" + 0.007*\"asiwaju\"')]\n"
     ]
    }
   ],
   "source": [
    "from pprint import pprint\n",
    "# number of topics\n",
    "num_topics = 10\n",
    "# Build LDA model\n",
    "lda_model = gensim.models.LdaMulticore(corpus=corpus,\n",
    "                                       id2word=id2word,\n",
    "                                       num_topics=num_topics)\n",
    "# Print the Keyword in the 10 topics\n",
    "pprint(lda_model.print_topics())\n",
    "\n",
    "doc_lda = lda_model[corpus]\n",
    "\n",
    "def get_topic_keywords(lda_model):\n",
    "    topic_keywords = {}\n",
    "    for topic_id in range(lda_model.num_topics):\n",
    "        topic_keywords[topic_id] = [word for word, prob in lda_model.show_topic(topic_id)]\n",
    "    print(topic_keywords)\n",
    "    return topic_keywords\n",
    "\n",
    "# Visualize the topics\n"
   ]
  },
  {
   "cell_type": "code",
   "execution_count": 48,
   "id": "391d745d",
   "metadata": {},
   "outputs": [
    {
     "name": "stderr",
     "output_type": "stream",
     "text": [
      "C:\\Users\\Dee\\anaconda3\\lib\\site-packages\\pyLDAvis\\_prepare.py:243: FutureWarning:\n",
      "\n",
      "In a future version of pandas all arguments of DataFrame.drop except for the argument 'labels' will be keyword-only.\n",
      "\n"
     ]
    },
    {
     "data": {
      "text/html": [
       "\n",
       "<link rel=\"stylesheet\" type=\"text/css\" href=\"https://cdn.jsdelivr.net/gh/bmabey/pyLDAvis@3.4.0/pyLDAvis/js/ldavis.v1.0.0.css\">\n",
       "\n",
       "\n",
       "<div id=\"ldavis_el327617434793757929747590996\" style=\"background-color:white;\"></div>\n",
       "<script type=\"text/javascript\">\n",
       "\n",
       "var ldavis_el327617434793757929747590996_data = {\"mdsDat\": {\"x\": [-0.08653948700975565, 0.09088291548581, 0.13220789971785557, -0.017996848361586052, 0.028230007582421904, -0.05314921703961826, -0.040448687248752495, 0.044701387514634906, -0.08656841442417829, -0.01131955621683178], \"y\": [0.015762869693397536, 0.06521481166751096, -0.1126874954837808, 0.0063256596077557875, 0.1411037453935115, -0.04650563855245107, 0.01004228854278178, -0.01460692654456943, -0.05742897935074441, -0.007220334973412065], \"topics\": [1, 2, 3, 4, 5, 6, 7, 8, 9, 10], \"cluster\": [1, 1, 1, 1, 1, 1, 1, 1, 1, 1], \"Freq\": [15.498903510217076, 14.966420204472147, 13.308656965286175, 10.743259902740856, 10.320421436520746, 8.755952754875516, 7.9837712491760024, 7.3685573649342, 6.749504570496574, 4.3045520412807035]}, \"tinfo\": {\"Term\": [\"country\", \"actually\", \"tinubu\", \"system\", \"prayer\", \"better\", \"buhari\", \"nobody\", \"killed\", \"america\", \"individual\", \"sacked\", \"nirsal\", \"issues\", \"islamic\", \"elections\", \"killing\", \"believe\", \"judgement\", \"service\", \"corruption\", \"towards\", \"government\", \"ambition\", \"science\", \"enough\", \"concerned\", \"positive\", \"interest\", \"anything\", \"grammar\", \"affairs\", \"engineering\", \"shareeha\", \"finished\", \"presidency\", \"leaders\", \"favors\", \"constituency\", \"islamically\", \"economic\", \"english\", \"impacted\", \"technical\", \"showed\", \"professor\", \"rumour\", \"bqththocwdgqavd\", \"discussion\", \"chooses\", \"captured\", \"mature\", \"gsrjrpyb\", \"google\", \"invest\", \"choices\", \"terrorism\", \"rulings\", \"offngefd\", \"courses\", \"statistics\", \"studies\", \"tinubu\", \"understand\", \"country\", \"brought\", \"ticket\", \"something\", \"parents\", \"nigerians\", \"anambra\", \"enough\", \"nothing\", \"support\", \"senate\", \"almost\", \"nigeria\", \"government\", \"impact\", \"believe\", \"matter\", \"campaign\", \"things\", \"someone\", \"president\", \"buhari\", \"politics\", \"saying\", \"counterfeit\", \"useless\", \"entire\", \"checks\", \"fulani\", \"jonathan\", \"nonsense\", \"loaned\", \"setting\", \"amount\", \"latter\", \"emphasizing\", \"enacted\", \"advisable\", \"custody\", \"evening\", \"appointment\", \"confusing\", \"acknowledge\", \"offices\", \"england\", \"promote\", \"proper\", \"policy\", \"omooooo\", \"sensitization\", \"supposed\", \"minority\", \"refuses\", \"dysfunctional\", \"domination\", \"system\", \"corrupt\", \"candidates\", \"entered\", \"become\", \"corruption\", \"collect\", \"buhari\", \"believe\", \"present\", \"either\", \"reason\", \"difficult\", \"government\", \"southeast\", \"sacked\", \"social\", \"governor\", \"opposition\", \"tinubu\", \"senate\", \"almost\", \"happened\", \"president\", \"nigeria\", \"country\", \"candidate\", \"structure\", \"nirsal\", \"governors\", \"federal\", \"running\", \"collaboration\", \"microfinance\", \"enterprises\", \"students\", \"lunched\", \"research\", \"trained\", \"secure\", \"families\", \"volumes\", \"skelter\", \"physically\", \"sentimental\", \"mentally\", \"loyalist\", \"critic\", \"easier\", \"opponent\", \"accomplished\", \"voluntarily\", \"requires\", \"outdated\", \"helter\", \"consider\", \"within\", \"factual\", \"asiwaju\", \"covetousness\", \"medium\", \"available\", \"owners\", \"traders\", \"enough\", \"nigeria\", \"impact\", \"intelligent\", \"business\", \"million\", \"governor\", \"candidate\", \"government\", \"someone\", \"tinubu\", \"corruption\", \"general\", \"actually\", \"buhari\", \"shepherd\", \"educated\", \"military\", \"samris\", \"minepi\", \"invitation\", \"digital\", \"stanford\", \"worldwide\", \"username\", \"members\", \"adeniyanisrael\", \"beyond\", \"testament\", \"creative\", \"vehemently\", \"presidents\", \"aspiring\", \"tenure\", \"coming\", \"generation\", \"importantly\", \"terrible\", \"enable\", \"faithful\", \"income\", \"everyday\", \"addition\", \"gibberish\", \"whoever\", \"actually\", \"developed\", \"currency\", \"follow\", \"record\", \"governor\", \"matter\", \"president\", \"tinubu\", \"leader\", \"nigeria\", \"million\", \"corruption\", \"paying\", \"buhari\", \"election\", \"country\", \"senior\", \"someone\", \"prayer\", \"victim\", \"register\", \"narrative\", \"tribal\", \"officials\", \"manifesto\", \"towards\", \"interest\", \"actual\", \"overseas\", \"obviously\", \"cleansing\", \"besides\", \"declare\", \"pressure\", \"enslaved\", \"relying\", \"stubbornness\", \"anyhow\", \"solution\", \"pandora\", \"trying\", \"biafra\", \"aggressive\", \"comments\", \"thought\", \"praying\", \"instruments\", \"created\", \"particular\", \"landing\", \"wanted\", \"always\", \"happened\", \"saying\", \"someone\", \"happen\", \"politics\", \"government\", \"yoruba\", \"president\", \"presidential\", \"falling\", \"country\", \"islamic\", \"ignorance\", \"opposition\", \"nothing\", \"buhari\", \"election\", \"affect\", \"concern\", \"democratic\", \"recieve\", \"cadres\", \"seamlessly\", \"crippling\", \"trillion\", \"realise\", \"heavily\", \"abroad\", \"schooling\", \"destiny\", \"political\", \"disbursement\", \"process\", \"across\", \"comfortable\", \"unemployment\", \"policies\", \"realised\", \"faster\", \"waiting\", \"processes\", \"freeman\", \"transfer\", \"irritating\", \"creator\", \"period\", \"suffering\", \"anything\", \"killed\", \"better\", \"remember\", \"account\", \"transfers\", \"government\", \"election\", \"structure\", \"tinubu\", \"actually\", \"lecturing\", \"studies\", \"economy\", \"nigeria\", \"change\", \"especially\", \"protest\", \"sister\", \"charges\", \"poverty\", \"activated\", \"career\", \"graduates\", \"retained\", \"delivery\", \"computer\", \"antibodies\", \"contact\", \"experiences\", \"exchange\", \"education\", \"afternoon\", \"flexiblehr\", \"intentionally\", \"corpers\", \"children\", \"antibiotics\", \"tatters\", \"afresh\", \"educational\", \"connectivity\", \"chance\", \"academics\", \"inherit\", \"satisfactory\", \"childbirth\", \"cybersecurity\", \"bearing\", \"cultural\", \"pregnant\", \"negative\", \"forget\", \"positive\", \"choice\", \"candidate\", \"favorite\", \"structure\", \"country\", \"buhari\", \"tinubu\", \"crypto\", \"performance\", \"social\", \"kindly\", \"citizen\", \"individuals\", \"surveillance\", \"proxies\", \"interviews\", \"nobody\", \"product\", \"straight\", \"granting\", \"nostalgic\", \"destroyed\", \"continue\", \"unprecedented\", \"standpoint\", \"tomorrow\", \"dozens\", \"layoffs\", \"stories\", \"changes\", \"preparing\", \"invested\", \"ignoring\", \"rarely\", \"constantly\", \"transformative\", \"difference\", \"transform\", \"directly\", \"offering\", \"guarantee\", \"kudossss\", \"wisely\", \"ambition\", \"science\", \"sacked\", \"buhari\", \"system\", \"tinubu\", \"months\", \"mistake\", \"corrupt\", \"leader\", \"longer\", \"corruption\", \"president\", \"record\", \"question\", \"commission\", \"comprehensive\", \"appreciate\", \"service\", \"concerned\", \"commissioned\", \"treating\", \"africa\", \"involved\", \"animal\", \"govern\", \"related\", \"skyrocketing\", \"meanwhile\", \"studied\", \"spenders\", \"combatants\", \"department\", \"supply\", \"lastly\", \"direct\", \"regular\", \"access\", \"ability\", \"official\", \"governmental\", \"reduce\", \"details\", \"determine\", \"consist\", \"transactions\", \"dollars\", \"protest\", \"arrested\", \"started\", \"country\", \"campaign\", \"anyone\", \"believe\", \"memory\", \"saying\", \"statement\", \"issues\", \"please\", \"looking\", \"better\", \"something\", \"individual\", \"america\", \"considered\", \"commits\", \"married\", \"unjustly\", \"authority\", \"blasphemy\", \"murderer\", \"laundry\", \"adultery\", \"discussing\", \"several\", \"permanently\", \"discussions\", \"committed\", \"prominent\", \"migrate\", \"instances\", \"outcome\", \"public\", \"counts\", \"scandal\", \"apostasy\", \"allowed\", \"possibility\", \"entertaining\", \"speculations\", \"future\", \"elections\", \"islamic\", \"killing\", \"judgement\", \"issues\", \"country\", \"election\", \"tinubu\", \"president\", \"anybody\", \"except\", \"passed\", \"believe\", \"carried\", \"normal\", \"charges\"], \"Freq\": [19.0, 6.0, 19.0, 7.0, 3.0, 4.0, 13.0, 3.0, 4.0, 1.0, 1.0, 3.0, 3.0, 3.0, 2.0, 2.0, 2.0, 8.0, 2.0, 2.0, 6.0, 3.0, 10.0, 2.0, 2.0, 6.0, 1.0, 2.0, 3.0, 2.0, 2.114531942771257, 2.044754718776135, 1.4324438297984838, 1.4324482398204244, 1.4323743139263152, 1.273889382543317, 1.2802605876621496, 0.7503669739869802, 0.7503601268476513, 0.7503623318586217, 0.750363956603547, 0.7503530476019046, 0.7503429509727249, 0.7503493338992178, 0.7503459103295534, 0.7503451559836952, 0.7503467807286206, 0.7503432991323518, 0.750344169531419, 0.7503431250525383, 0.7503417324140308, 0.7503400496425008, 0.750338250817762, 0.7503359877801872, 0.7503392952966426, 0.7503374384452992, 0.7503326222371273, 0.7503323321041048, 0.7503282702417912, 0.7503275739225373, 2.1144437423324454, 2.1144193711585633, 8.33525527556389, 1.4324692454512467, 8.482347611582666, 1.9611975688552234, 1.018429925538417, 1.4323181441731774, 1.0409401862148284, 1.4323555133064634, 1.231384778707592, 2.3381692617190124, 1.4555586116403811, 1.6218945426096925, 1.4734245389473224, 1.4325012761369202, 2.8647683568981543, 2.5745937874430918, 1.4323916058544506, 2.068584620491659, 1.4324078533037055, 1.3914317862832255, 1.3721796033952272, 1.4729721635387865, 1.4648386904418584, 1.4977678600592965, 1.3181172604789264, 1.2965249806854082, 1.627413611707222, 1.6273931036177613, 1.5244189606526153, 1.4135884263670737, 2.2015662650675396, 1.7506017827845943, 0.8524625562585268, 0.852462051961245, 0.8524599787390864, 0.85245756931874, 0.8524614355979006, 0.852454879733237, 0.8524531427092663, 0.8524509013880137, 0.852449164364043, 0.8524449058536633, 0.8524535909735168, 0.8524470911418844, 0.8524433929618178, 0.8524456342830703, 0.852445746349133, 0.852441095607534, 0.8524390784184067, 0.8524305613976472, 0.8524288804067077, 0.852432858751931, 0.8524263028872674, 0.8524305053646158, 0.8524233891696391, 0.8524245658632966, 1.2473450343591082, 3.9662734669566797, 1.8744229029836783, 1.535029487528107, 1.1809722277779244, 1.1758495759892276, 2.8051455613503786, 1.440990147604006, 4.084363752845196, 2.8604676455620757, 1.0904868388978814, 1.43317768618016, 1.4427314300850886, 1.204255857411539, 2.5873998568753227, 1.233281640028047, 1.2479503031633512, 1.3765352396186035, 1.6274400592980018, 1.434957183188598, 2.3405391651979084, 1.2161000075044177, 1.1915783840769736, 1.1744906629138248, 1.6543972144644965, 1.7579630662403078, 1.837736732590308, 1.4708381589220008, 1.2650039562434616, 2.812117785435307, 1.4404311084128183, 1.4404425685086812, 1.440417356297783, 1.44040948371019, 1.4404018104286123, 1.4404030062647022, 1.4403223869816317, 1.440310528273739, 1.4403246790008044, 1.4964895126419133, 0.7545300209837256, 0.754530519248763, 0.7545216003045915, 0.7545130301459462, 0.7545165678277125, 0.75451547164463, 0.7545154218181263, 0.754510239861736, 0.7545104889942548, 0.754509442637676, 0.7545093429846685, 0.754516069562675, 0.7545147242470737, 0.7545112363918111, 0.7545122329218861, 0.7545038620692558, 0.7545075492305334, 0.7545108876062848, 0.7545115353508336, 2.1263819226926555, 1.440341819318095, 1.4403643408977909, 1.44040868648613, 1.440365337427866, 1.4403496919056877, 2.126309773915223, 2.9256257498782485, 1.440436987940261, 1.1499200699598704, 1.4404158615026703, 1.4404008138985371, 1.44040788926207, 1.5658711253622213, 1.6526345146103454, 1.4404183528278578, 1.4403524821898979, 1.1091757420058974, 0.8864086187479419, 1.0875302118990287, 1.1752843513477542, 1.354083274838897, 1.3540649336658508, 1.3540687949654395, 1.3540303428570357, 1.3137098481148217, 1.3050561930741835, 1.3049632805528315, 1.3031014101574239, 1.3012356784624277, 1.3010958672398216, 1.299960242942048, 1.258447571951835, 0.7093155055938583, 0.7093087483195781, 0.709300864832918, 0.7092980493019679, 0.7092987732956407, 0.7092955555459836, 0.7092933031212235, 0.7092982101894507, 0.7092979688582265, 0.7092929813462577, 0.7092933031212235, 0.709294509777345, 0.7092855805220462, 0.7092889591591862, 0.7092862240719776, 0.7092861436282362, 0.7092820409974232, 0.7092785014728002, 3.2886025740197535, 1.30292966276947, 1.3001247503932734, 1.2982645693164359, 1.998904217397021, 1.9988149248440332, 1.5340150090460203, 2.151179232412876, 2.802767424275095, 0.9987291607942752, 2.0761031800731233, 1.3026939626070788, 1.5524300294467939, 0.8286244340402945, 1.5729066620529466, 0.9706609718655902, 1.2629553174466313, 0.7567605002958592, 0.8868501771938373, 2.5421054518952886, 1.302055338859259, 1.302022418602768, 1.3020057266417304, 1.3019431317878392, 1.3019363313592682, 1.30046419312886, 1.922002345003903, 1.7055309481793755, 0.6820415648704644, 0.6820409466496853, 0.6820284276789069, 0.6820214726951412, 0.6820200044207907, 0.6820234046350762, 0.6820158314305312, 0.6820174542600766, 0.6820151359321547, 0.6820116584402719, 0.6820181497584532, 0.6820101128883239, 0.6820119675506614, 0.6820064808412463, 0.6820042397909217, 0.6820034670149479, 0.6820003759110519, 0.6820020760181946, 0.6819993713022858, 0.6820053989548828, 0.6820011486870259, 1.3020432835540652, 1.3019649240703048, 1.3020030992034188, 1.458635670370137, 1.3020095905216003, 1.921452901286412, 1.7512514659031884, 0.8400302033163008, 1.30126509814828, 1.621705929065589, 0.8243032076372961, 1.48119918325804, 0.8167112246362473, 0.8164014960258811, 1.8796328930136028, 0.845038332570792, 0.7604940135804366, 0.8330653280181266, 0.7881569205653562, 0.9291913950855276, 0.8222796164718649, 1.4639454509527943, 0.7668519100161358, 0.7668483040447345, 0.7668470583455231, 0.7668414199175138, 0.7668391252084402, 0.7668358470526208, 0.7668313887607064, 0.7668283728573525, 0.766820833098968, 0.7668218165457138, 0.7668201774678041, 0.766819325147291, 0.7668205708465023, 0.7668226688662267, 0.7668168993119846, 0.7668156536127733, 0.766815260234075, 0.7668125065831867, 0.7668124410200703, 0.7668108675052769, 0.7668081138543886, 0.7668085727962034, 0.7668062780871298, 0.766807327096992, 0.7668023443001465, 0.7668035899993578, 0.7667967058721371, 0.7668013608534007, 0.7667928376482702, 1.4639179144439112, 2.161056300552179, 2.1611518915758725, 1.4639708894419527, 0.9472205670546637, 1.213234191904655, 1.4639117515109707, 0.9423097585109668, 0.8064477051488302, 0.7668763650585486, 0.7668562371818175, 0.7668515166374376, 0.7668496808701787, 0.7668462715881265, 0.7668425344904923, 0.7668335523435472, 0.7668332900910817, 0.7668327000230342, 0.766832175518103, 0.7668292251778656, 0.7668291596147492, 1.2676623909625504, 1.2675951969501311, 0.6640415995525751, 0.6640310780702033, 0.6640286868242098, 0.6640265347028156, 0.6640191816213853, 0.6640194207459847, 0.6640212739616297, 0.6640213935239294, 0.6640209152747307, 0.6640176870926393, 0.6640164316884928, 0.6640176870926393, 0.6640136219744502, 0.6640116491965056, 0.6640106329169583, 0.6640130241629519, 0.6640112307284567, 0.6640080623275152, 0.6640078829840658, 0.6640043558962252, 0.6640047145831243, 0.6640020842125313, 0.6640011277141339, 0.6640008885895345, 0.663999991872287, 0.6640084210144143, 0.6640004701214857, 0.6639961060975473, 1.2676401523748102, 1.183467217340352, 1.26761050092449, 1.2675980664453235, 1.6312788436142145, 0.9800445184786158, 1.1398952480307656, 1.4164583902864134, 1.2695151283583708, 1.2434251998208956, 0.6744781329103735, 0.6655070746597361, 0.6654999607029053, 0.6640280292315616, 0.6640232467395745, 0.6640184044664375, 1.22356606249022, 1.223541123602341, 1.2235176192522605, 1.75692798835685, 0.6409323979111543, 0.6409241769060793, 0.6409241769060793, 0.6409182732312938, 0.6409194870709692, 0.640915790377412, 0.6409187698020701, 0.6409143006650829, 0.6409120936838547, 0.640912424731039, 0.6409102729243414, 0.6409089487356046, 0.6409091142591966, 0.6409059693109465, 0.6409049209948631, 0.6409073486742141, 0.6409043140750252, 0.6409038726787797, 0.6409013346503672, 0.6409011691267751, 0.6408995690653846, 0.6409003415088145, 0.640899127669139, 0.6408941067868448, 0.6408912377112481, 0.640890685965941, 1.2235592208484125, 1.2234690656652398, 1.5087188513838734, 2.609530852375682, 1.2234959908362242, 1.223521260771287, 0.75785274592902, 0.7566581069901861, 0.7320536871164705, 0.6409278184251058, 0.640920480212522, 0.6409204250379913, 0.640915238632105, 0.6409132523489995, 0.6409093349573195, 1.0296767899307961, 1.029571567386245, 1.0295456913330219, 1.3608127441037268, 1.0296254421376818, 0.5393560564725136, 0.5393455948650582, 0.5393452916300595, 0.5393410463400776, 0.5393376602159253, 0.5393371042850944, 0.5393337687001086, 0.5393339708567745, 0.539332353603448, 0.5393314944376183, 0.5393269964518042, 0.5393271480693035, 0.5393277040001345, 0.5393246716501474, 0.5393198704293346, 0.5393241662584829, 0.5393218414568262, 0.5393192639593372, 0.5393160799918507, 0.5393099142135437, 0.5393088528910482, 0.5393095099002121, 0.5393097625960444, 0.5393063764718921, 0.5392985429010921, 0.9913885195840695, 1.0296083598994212, 1.0196372855936078, 0.6783037405708296, 0.8701829636425954, 2.113083384969138, 1.02963757153763, 0.8233602453355957, 1.0296509138775731, 0.5874230490575406, 0.5829448745966369, 0.539343674376733, 0.5393431184459021, 0.5393373569809267, 0.539335941884266, 0.5393356891884338, 0.5393334149259434, 1.2310573484012295, 1.231068307202686, 0.8339042595802472, 0.43684851070161396, 0.43684780160269615, 0.43684560984240484, 0.43684119409005323, 0.4368413552488982, 0.43683745520485046, 0.43683903456153095, 0.43683655271531874, 0.43683903456153095, 0.43683813207199923, 0.43683700396008457, 0.43683684280123963, 0.43683287829365386, 0.43683397417379954, 0.43683297498896084, 0.4368277212106155, 0.4368344898821034, 0.43683342623372673, 0.4368321047311981, 0.4368290749449131, 0.4368250137420204, 0.43682478811963743, 0.4368238856301057, 0.43682217734634926, 0.43681785828930464, 0.43681195987557947, 0.8339776835500059, 0.8339208267095078, 0.83397755462293, 0.8339811001175188, 0.8339375227658445, 1.2892956425181623, 0.672964784050929, 0.4554398272867068, 0.436860984396213, 0.43684680241785745, 0.4368448685117181, 0.43684022713698356, 0.4368382609990752, 0.43683784198607833, 0.4368378097543093, 0.4368376163636954], \"Total\": [19.0, 6.0, 19.0, 7.0, 3.0, 4.0, 13.0, 3.0, 4.0, 1.0, 1.0, 3.0, 3.0, 3.0, 2.0, 2.0, 2.0, 8.0, 2.0, 2.0, 6.0, 3.0, 10.0, 2.0, 2.0, 6.0, 1.0, 2.0, 3.0, 2.0, 2.6643006684427673, 2.662315023562365, 1.9822117618698647, 1.9822237433588819, 1.9821564925350046, 1.9639666102383733, 1.9753056690037152, 1.3001207451153534, 1.3001139545980038, 1.3001192483060153, 1.300122367892081, 1.3001077048208831, 1.3000982373693328, 1.3001098754118472, 1.3001043619685617, 1.3001037368695536, 1.3001070479410994, 1.3001013113053013, 1.3001031503052207, 1.300101817730869, 1.3001001211367935, 1.3000983838200078, 1.3000961915836728, 1.3000941661433312, 1.3000999706826484, 1.3000981254861566, 1.3000909351531205, 1.300093919161744, 1.3000869844528204, 1.3000866408840193, 3.8669146421117633, 3.883276217414678, 19.06558980877406, 2.6681501022137413, 19.861112813283253, 3.9773344790584453, 1.9345662372954522, 3.117187971495763, 2.0354390660726454, 3.2195819597845166, 2.6039112854023734, 6.539454522498157, 3.3470346963510087, 3.9692727896824693, 3.466065398934692, 3.452470826707926, 12.010569690476201, 10.338125913771414, 3.918814228170342, 8.31100481713257, 4.269616295226751, 4.3435264491554255, 4.732507967834346, 7.745497089466299, 9.032046741059204, 13.994172824025826, 5.794633826755275, 6.192526699153237, 2.1678956889973957, 2.167874949076328, 2.117656212903737, 2.0636318947015226, 3.5322523237678967, 2.8212149908919804, 1.3929353496957204, 1.3929351025863965, 1.3929332662194558, 1.3929311096895107, 1.3929383871591372, 1.3929284284716776, 1.3929257447958643, 1.3929228959044655, 1.3929211172534788, 1.392917435594378, 1.3929321205117653, 1.3929216471245391, 1.3929177048626802, 1.392924339447891, 1.3929247097753767, 1.392919445365319, 1.3929173681253713, 1.392905984915419, 1.3929053288561632, 1.392912204487311, 1.3929020408071218, 1.392910015029209, 1.3928997659829097, 1.392904507992621, 2.0968969581405696, 7.563893287775266, 3.4054862738734935, 2.808739484858232, 2.0968234768069123, 2.1137269875324702, 6.852392295275904, 2.8288609742085455, 13.994172824025826, 8.31100481713257, 2.1035035451554767, 3.4268169752480726, 3.5159003197173098, 2.581184037771954, 10.338125913771414, 2.7747993948015632, 3.238891144427952, 4.092122058678329, 6.130969039810646, 4.695967020512527, 19.06558980877406, 3.466065398934692, 3.452470826707926, 3.3483432942209173, 9.032046741059204, 12.010569690476201, 19.861112813283253, 8.414987867084024, 5.84098298888095, 3.361535002206417, 1.9898088392490687, 1.989829359491496, 1.9897961068978458, 1.9897984087204503, 1.9897914004239492, 1.989796045022337, 1.9897209612879307, 1.989706271615223, 1.989725821034488, 2.5808724004966863, 1.303903068302654, 1.3039059404565096, 1.3038948893042939, 1.303886356531624, 1.3038939956412057, 1.3038923834982212, 1.3038927046329434, 1.303883780655277, 1.3038846947636327, 1.3038832045494537, 1.3038833273544799, 1.3038961330648542, 1.303893972409335, 1.303889871804156, 1.3038920496027149, 1.3038776356968125, 1.3038847031501166, 1.3038916151718576, 1.3038929603909868, 3.940951303028547, 2.6345204294594327, 2.671836291403143, 2.764751068191008, 2.7646807406737075, 2.764697714500088, 6.539454522498157, 12.010569690476201, 3.918814228170342, 2.720968183007993, 4.0916356475730264, 4.646267063827075, 6.130969039810646, 8.414987867084024, 10.338125913771414, 7.745497089466299, 19.06558980877406, 6.852392295275904, 2.612705623060031, 6.477919324292846, 13.994172824025826, 1.9075898514688936, 1.9075653273685238, 1.9075731408565035, 1.9075368433969073, 1.8979193255206115, 1.895828457495835, 1.8957675063608417, 1.895354595306957, 1.8948867606251327, 1.8948735644190613, 1.8945847791585444, 1.8846709502804992, 1.2628014878744411, 1.262796528740809, 1.2627880274931753, 1.262785540812354, 1.262787640698014, 1.2627828505212346, 1.2627800122106743, 1.2627888293505436, 1.2627898429587856, 1.2627829066336578, 1.2627838751767055, 1.2627860511754492, 1.2627736023591718, 1.262780182137896, 1.2627779351264004, 1.262778494855687, 1.2627730175005045, 1.2627667671781482, 6.477919324292846, 2.5456524742365243, 2.669532754422739, 2.669124868162087, 5.2149486754053545, 6.130969039810646, 4.269616295226751, 9.032046741059204, 19.06558980877406, 2.4765852076158845, 12.010569690476201, 4.646267063827075, 6.852392295275904, 1.9379561068807034, 13.994172824025826, 5.473396500246926, 19.861112813283253, 1.942120066530924, 7.745497089466299, 3.098103278318312, 1.858034123384452, 1.8580046780639796, 1.8579914034239262, 1.8579303645120167, 1.8579247444275966, 1.858128400115729, 3.163882055147951, 3.090215091847886, 1.2380119200291153, 1.2380120127099825, 1.238001801527727, 1.2379920661776598, 1.2379902526875814, 1.2379965654203857, 1.2379863649579863, 1.2379902905734441, 1.2379862102540236, 1.2379833981387622, 1.2379952555891112, 1.237981533294455, 1.2379859070554264, 1.2379784152476894, 1.2379763412855345, 1.2379766143281514, 1.2379713704176285, 1.2379761345662423, 1.2379716551507114, 1.2379833978158639, 1.2379764306284298, 2.461650479210626, 2.540043373225535, 2.993120492775095, 3.9161228348525707, 3.3483432942209173, 6.192526699153237, 7.745497089466299, 1.9686168328780036, 5.794633826755275, 10.338125913771414, 1.9727455013731887, 9.032046741059204, 1.9745034152716778, 1.9749314041613677, 19.861112813283253, 2.670487935274369, 1.879609311283664, 4.695967020512527, 3.3470346963510087, 13.994172824025826, 5.473396500246926, 2.012222864129385, 1.315111159123318, 1.3151073810282847, 1.3151058532753952, 1.3151016453035944, 1.315098535004451, 1.3150963979312853, 1.315092672273884, 1.3150904186298724, 1.3150824662333362, 1.3150844264120232, 1.3150823017085551, 1.3150810954008514, 1.3150842615199014, 1.3150881210131316, 1.3150792635699482, 1.3150776342007076, 1.3150781090634247, 1.3150751387071693, 1.3150763088833892, 1.3150742133316258, 1.3150707661053695, 1.3150731051554245, 1.3150691774832413, 1.3150724303692778, 1.3150657586103458, 1.3150684004813933, 1.3150623172414317, 1.315070656579437, 1.3150582842564493, 2.632183507908764, 4.010565071072811, 4.4644213501989425, 3.3797372927095, 1.9246272310955916, 3.1291494588789774, 10.338125913771414, 5.473396500246926, 5.84098298888095, 19.06558980877406, 6.477919324292846, 2.5224756580517234, 3.883276217414678, 2.6046575977053776, 12.010569690476201, 1.8169921603701766, 2.5634965429306606, 2.981703998850483, 2.5142611114249984, 1.7122165985321665, 1.9187295678525689, 1.8252742298965352, 1.825213418887319, 1.2216443457316124, 1.2216345602014054, 1.2216323960696875, 1.2216306943763957, 1.2216233307419568, 1.2216238036997282, 1.2216273692220645, 1.221627704581116, 1.2216284210947155, 1.2216228262572735, 1.2216211361242555, 1.2216249408801605, 1.2216185456586246, 1.2216170072582422, 1.221615486568406, 1.221620603532629, 1.221617958970852, 1.2216152451998854, 1.221615090369641, 1.2216097256791374, 1.2216120572882205, 1.2216084089229222, 1.2216066707901299, 1.2216072625716738, 1.2216056836343752, 1.2216217139277823, 1.221608882258812, 1.2216019323007963, 2.3875955976965852, 2.482295518288264, 2.997617621923834, 3.6037725619770287, 8.414987867084024, 3.5838747035579526, 5.84098298888095, 19.861112813283253, 13.994172824025826, 19.06558980877406, 1.8300864608613046, 1.953454531228439, 4.092122058678329, 3.131937893397491, 1.9607324966633501, 1.841616361406117, 1.7832867710252822, 1.7832607730883265, 1.7832373775763453, 3.157163624104339, 1.200638874994986, 1.2006296797220641, 1.2006306922518342, 1.200626538714647, 1.2006288216571206, 1.2006233446367431, 1.200629497123691, 1.2006227463036616, 1.2006204284788764, 1.200622565125125, 1.2006186348811596, 1.2006173927127575, 1.200618150762844, 1.2006131752837668, 1.2006118592426207, 1.200618548606565, 1.200613206500345, 1.2006141505690104, 1.2006097810419598, 1.200609814446011, 1.2006071585635922, 1.200609713470894, 1.2006085697065485, 1.2006029192534238, 1.200604375860009, 1.2006036346753433, 2.3869149446174265, 2.386835361175023, 3.238891144427952, 13.994172824025826, 7.563893287775266, 19.06558980877406, 2.4758049297037275, 3.1700270121715617, 3.4054862738734935, 2.4765852076158845, 1.8827357152674429, 6.852392295275904, 9.032046741059204, 5.2149486754053545, 2.5261693550120397, 1.5986298403489403, 1.5985427301114958, 1.598504282260132, 2.151089083209101, 1.9957038948290056, 1.1083002493759015, 1.1082869203940453, 1.1082874523595259, 1.108286982560048, 1.1082804983846726, 1.1082821991571694, 1.1082786324748968, 1.1082797373312308, 1.1082771613206266, 1.1082788339784888, 1.1082725625630852, 1.1082749182016953, 1.10827725767473, 1.1082712398527943, 1.1082637778441502, 1.1082730097665807, 1.1082703768099147, 1.1082654822125855, 1.1082640358492213, 1.1082582078799372, 1.1082565722756148, 1.108258112141882, 1.108260765061436, 1.1082553317736779, 1.1082512364649897, 2.317808625441335, 2.9665561662207645, 2.981703998850483, 1.7360540293121143, 2.888285879371266, 19.861112813283253, 4.3435264491554255, 3.67751086205859, 8.31100481713257, 1.6818680382481994, 6.192526699153237, 1.711923162411646, 3.3345899122968996, 1.711926598025415, 1.7119175948848757, 4.4644213501989425, 3.117187971495763, 1.809330192990065, 1.8093544206483319, 1.4121978605242298, 1.015107244129264, 1.0151065674091708, 1.0151047502155057, 1.015100274499499, 1.015100683711979, 1.0150977705919113, 1.01510231370633, 1.0150966712809337, 1.0151032328705116, 1.0151017822530286, 1.0151013075407629, 1.0151016990680353, 1.0150925817651373, 1.0150983520189127, 1.0150978911467883, 1.0150880396347701, 1.0151042159196002, 1.0151018072931675, 1.0151002199581125, 1.0150944143276557, 1.01508588440338, 1.0150910155434185, 1.0150940228577157, 1.0150916731398805, 1.0150905898224152, 1.0150793105644342, 2.187215892343487, 2.670487935274369, 2.7124416192204217, 2.722747172575488, 3.3345899122968996, 19.861112813283253, 5.473396500246926, 19.06558980877406, 9.032046741059204, 2.9457482758638838, 2.3274782273617047, 2.3420298064886724, 8.31100481713257, 1.6445063029467113, 2.242517592673649, 1.7122165985321665], \"Category\": [\"Default\", \"Default\", \"Default\", \"Default\", \"Default\", \"Default\", \"Default\", \"Default\", \"Default\", \"Default\", \"Default\", \"Default\", \"Default\", \"Default\", \"Default\", \"Default\", \"Default\", \"Default\", \"Default\", \"Default\", \"Default\", \"Default\", \"Default\", \"Default\", \"Default\", \"Default\", \"Default\", \"Default\", \"Default\", \"Default\", \"Topic1\", \"Topic1\", \"Topic1\", \"Topic1\", \"Topic1\", \"Topic1\", \"Topic1\", \"Topic1\", \"Topic1\", \"Topic1\", \"Topic1\", \"Topic1\", \"Topic1\", \"Topic1\", \"Topic1\", \"Topic1\", \"Topic1\", \"Topic1\", \"Topic1\", \"Topic1\", \"Topic1\", \"Topic1\", \"Topic1\", \"Topic1\", \"Topic1\", \"Topic1\", \"Topic1\", \"Topic1\", \"Topic1\", \"Topic1\", \"Topic1\", \"Topic1\", \"Topic1\", \"Topic1\", \"Topic1\", \"Topic1\", \"Topic1\", \"Topic1\", \"Topic1\", \"Topic1\", \"Topic1\", \"Topic1\", \"Topic1\", \"Topic1\", \"Topic1\", \"Topic1\", \"Topic1\", \"Topic1\", \"Topic1\", \"Topic1\", \"Topic1\", \"Topic1\", \"Topic1\", \"Topic1\", \"Topic1\", \"Topic1\", \"Topic1\", \"Topic1\", \"Topic2\", \"Topic2\", \"Topic2\", \"Topic2\", \"Topic2\", \"Topic2\", \"Topic2\", \"Topic2\", \"Topic2\", \"Topic2\", \"Topic2\", \"Topic2\", \"Topic2\", \"Topic2\", \"Topic2\", \"Topic2\", \"Topic2\", \"Topic2\", \"Topic2\", \"Topic2\", \"Topic2\", \"Topic2\", \"Topic2\", \"Topic2\", \"Topic2\", \"Topic2\", \"Topic2\", \"Topic2\", \"Topic2\", \"Topic2\", \"Topic2\", \"Topic2\", \"Topic2\", \"Topic2\", \"Topic2\", \"Topic2\", \"Topic2\", \"Topic2\", \"Topic2\", \"Topic2\", \"Topic2\", \"Topic2\", \"Topic2\", \"Topic2\", \"Topic2\", \"Topic2\", \"Topic2\", \"Topic2\", \"Topic2\", \"Topic2\", \"Topic2\", \"Topic2\", \"Topic2\", \"Topic2\", \"Topic2\", \"Topic2\", \"Topic2\", \"Topic2\", \"Topic2\", \"Topic3\", \"Topic3\", \"Topic3\", \"Topic3\", \"Topic3\", \"Topic3\", \"Topic3\", \"Topic3\", \"Topic3\", \"Topic3\", \"Topic3\", \"Topic3\", \"Topic3\", \"Topic3\", \"Topic3\", \"Topic3\", \"Topic3\", \"Topic3\", \"Topic3\", \"Topic3\", \"Topic3\", \"Topic3\", \"Topic3\", \"Topic3\", \"Topic3\", \"Topic3\", \"Topic3\", \"Topic3\", \"Topic3\", \"Topic3\", \"Topic3\", \"Topic3\", \"Topic3\", \"Topic3\", \"Topic3\", \"Topic3\", \"Topic3\", \"Topic3\", \"Topic3\", \"Topic3\", \"Topic3\", \"Topic3\", \"Topic3\", \"Topic3\", \"Topic3\", \"Topic3\", \"Topic3\", \"Topic3\", \"Topic3\", \"Topic3\", \"Topic3\", \"Topic4\", \"Topic4\", \"Topic4\", \"Topic4\", \"Topic4\", \"Topic4\", \"Topic4\", \"Topic4\", \"Topic4\", \"Topic4\", \"Topic4\", \"Topic4\", \"Topic4\", \"Topic4\", \"Topic4\", \"Topic4\", \"Topic4\", \"Topic4\", \"Topic4\", \"Topic4\", \"Topic4\", \"Topic4\", \"Topic4\", \"Topic4\", \"Topic4\", \"Topic4\", \"Topic4\", \"Topic4\", \"Topic4\", \"Topic4\", \"Topic4\", \"Topic4\", \"Topic4\", \"Topic4\", \"Topic4\", \"Topic4\", \"Topic4\", \"Topic4\", \"Topic4\", \"Topic4\", \"Topic4\", \"Topic4\", \"Topic4\", \"Topic4\", \"Topic4\", \"Topic4\", \"Topic4\", \"Topic4\", \"Topic4\", \"Topic5\", \"Topic5\", \"Topic5\", \"Topic5\", \"Topic5\", \"Topic5\", \"Topic5\", \"Topic5\", \"Topic5\", \"Topic5\", \"Topic5\", \"Topic5\", \"Topic5\", \"Topic5\", \"Topic5\", \"Topic5\", \"Topic5\", \"Topic5\", \"Topic5\", \"Topic5\", \"Topic5\", \"Topic5\", \"Topic5\", \"Topic5\", \"Topic5\", \"Topic5\", \"Topic5\", \"Topic5\", \"Topic5\", \"Topic5\", \"Topic5\", \"Topic5\", \"Topic5\", \"Topic5\", \"Topic5\", \"Topic5\", \"Topic5\", \"Topic5\", \"Topic5\", \"Topic5\", \"Topic5\", \"Topic5\", \"Topic5\", \"Topic5\", \"Topic5\", \"Topic5\", \"Topic5\", \"Topic5\", \"Topic5\", \"Topic5\", \"Topic5\", \"Topic6\", \"Topic6\", \"Topic6\", \"Topic6\", \"Topic6\", \"Topic6\", \"Topic6\", \"Topic6\", \"Topic6\", \"Topic6\", \"Topic6\", \"Topic6\", \"Topic6\", \"Topic6\", \"Topic6\", \"Topic6\", \"Topic6\", \"Topic6\", \"Topic6\", \"Topic6\", \"Topic6\", \"Topic6\", \"Topic6\", \"Topic6\", \"Topic6\", \"Topic6\", \"Topic6\", \"Topic6\", \"Topic6\", \"Topic6\", \"Topic6\", \"Topic6\", \"Topic6\", \"Topic6\", \"Topic6\", \"Topic6\", \"Topic6\", \"Topic6\", \"Topic6\", \"Topic6\", \"Topic6\", \"Topic6\", \"Topic6\", \"Topic6\", \"Topic6\", \"Topic6\", \"Topic6\", \"Topic6\", \"Topic6\", \"Topic6\", \"Topic6\", \"Topic7\", \"Topic7\", \"Topic7\", \"Topic7\", \"Topic7\", \"Topic7\", \"Topic7\", \"Topic7\", \"Topic7\", \"Topic7\", \"Topic7\", \"Topic7\", \"Topic7\", \"Topic7\", \"Topic7\", \"Topic7\", \"Topic7\", \"Topic7\", \"Topic7\", \"Topic7\", \"Topic7\", \"Topic7\", \"Topic7\", \"Topic7\", \"Topic7\", \"Topic7\", \"Topic7\", \"Topic7\", \"Topic7\", \"Topic7\", \"Topic7\", \"Topic7\", \"Topic7\", \"Topic7\", \"Topic7\", \"Topic7\", \"Topic7\", \"Topic7\", \"Topic7\", \"Topic7\", \"Topic7\", \"Topic7\", \"Topic7\", \"Topic7\", \"Topic7\", \"Topic7\", \"Topic8\", \"Topic8\", \"Topic8\", \"Topic8\", \"Topic8\", \"Topic8\", \"Topic8\", \"Topic8\", \"Topic8\", \"Topic8\", \"Topic8\", \"Topic8\", \"Topic8\", \"Topic8\", \"Topic8\", \"Topic8\", \"Topic8\", \"Topic8\", \"Topic8\", \"Topic8\", \"Topic8\", \"Topic8\", \"Topic8\", \"Topic8\", \"Topic8\", \"Topic8\", \"Topic8\", \"Topic8\", \"Topic8\", \"Topic8\", \"Topic8\", \"Topic8\", \"Topic8\", \"Topic8\", \"Topic8\", \"Topic8\", \"Topic8\", \"Topic8\", \"Topic8\", \"Topic8\", \"Topic8\", \"Topic8\", \"Topic8\", \"Topic8\", \"Topic8\", \"Topic9\", \"Topic9\", \"Topic9\", \"Topic9\", \"Topic9\", \"Topic9\", \"Topic9\", \"Topic9\", \"Topic9\", \"Topic9\", \"Topic9\", \"Topic9\", \"Topic9\", \"Topic9\", \"Topic9\", \"Topic9\", \"Topic9\", \"Topic9\", \"Topic9\", \"Topic9\", \"Topic9\", \"Topic9\", \"Topic9\", \"Topic9\", \"Topic9\", \"Topic9\", \"Topic9\", \"Topic9\", \"Topic9\", \"Topic9\", \"Topic9\", \"Topic9\", \"Topic9\", \"Topic9\", \"Topic9\", \"Topic9\", \"Topic9\", \"Topic9\", \"Topic9\", \"Topic9\", \"Topic9\", \"Topic9\", \"Topic9\", \"Topic9\", \"Topic9\", \"Topic9\", \"Topic9\", \"Topic10\", \"Topic10\", \"Topic10\", \"Topic10\", \"Topic10\", \"Topic10\", \"Topic10\", \"Topic10\", \"Topic10\", \"Topic10\", \"Topic10\", \"Topic10\", \"Topic10\", \"Topic10\", \"Topic10\", \"Topic10\", \"Topic10\", \"Topic10\", \"Topic10\", \"Topic10\", \"Topic10\", \"Topic10\", \"Topic10\", \"Topic10\", \"Topic10\", \"Topic10\", \"Topic10\", \"Topic10\", \"Topic10\", \"Topic10\", \"Topic10\", \"Topic10\", \"Topic10\", \"Topic10\", \"Topic10\", \"Topic10\", \"Topic10\", \"Topic10\", \"Topic10\", \"Topic10\", \"Topic10\", \"Topic10\", \"Topic10\", \"Topic10\", \"Topic10\"], \"logprob\": [30.0, 29.0, 28.0, 27.0, 26.0, 25.0, 24.0, 23.0, 22.0, 21.0, 20.0, 19.0, 18.0, 17.0, 16.0, 15.0, 14.0, 13.0, 12.0, 11.0, 10.0, 9.0, 8.0, 7.0, 6.0, 5.0, 4.0, 3.0, 2.0, 1.0, -4.7695, -4.8031, -5.159, -5.159, -5.159, -5.2763, -5.2713, -5.8055, -5.8055, -5.8055, -5.8055, -5.8056, -5.8056, -5.8056, -5.8056, -5.8056, -5.8056, -5.8056, -5.8056, -5.8056, -5.8056, -5.8056, -5.8056, -5.8056, -5.8056, -5.8056, -5.8056, -5.8056, -5.8056, -5.8056, -4.7696, -4.7696, -3.3979, -5.1589, -3.3804, -4.8448, -5.5001, -5.1591, -5.4782, -5.159, -5.3102, -4.669, -5.143, -5.0348, -5.1308, -5.1589, -4.4659, -4.5727, -5.159, -4.7915, -5.159, -5.188, -5.2019, -5.1311, -5.1366, -5.1144, -5.2421, -5.2587, -4.9964, -4.9964, -5.0618, -5.1373, -4.6942, -4.9234, -5.643, -5.643, -5.643, -5.643, -5.643, -5.643, -5.643, -5.643, -5.643, -5.643, -5.643, -5.643, -5.643, -5.643, -5.643, -5.643, -5.643, -5.643, -5.6431, -5.643, -5.6431, -5.643, -5.6431, -5.6431, -5.2624, -4.1056, -4.8551, -5.0548, -5.317, -5.3214, -4.4519, -5.1181, -4.0762, -4.4324, -5.3968, -5.1235, -5.1168, -5.2975, -4.5327, -5.2737, -5.2619, -5.1638, -4.9964, -5.1223, -4.633, -5.2877, -5.3081, -5.3226, -4.9799, -4.9192, -4.8749, -5.0976, -5.2483, -4.3321, -5.001, -5.001, -5.0011, -5.0011, -5.0011, -5.0011, -5.0011, -5.0011, -5.0011, -4.9629, -5.6477, -5.6477, -5.6477, -5.6477, -5.6477, -5.6477, -5.6477, -5.6477, -5.6477, -5.6477, -5.6477, -5.6477, -5.6477, -5.6477, -5.6477, -5.6477, -5.6477, -5.6477, -5.6477, -4.6116, -5.0011, -5.0011, -5.0011, -5.0011, -5.0011, -4.6116, -4.2925, -5.001, -5.2263, -5.0011, -5.0011, -5.0011, -4.9175, -4.8636, -5.0011, -5.0011, -5.2624, -5.4866, -5.2821, -5.2045, -4.8487, -4.8487, -4.8487, -4.8488, -4.879, -4.8856, -4.8857, -4.8871, -4.8885, -4.8886, -4.8895, -4.922, -5.4953, -5.4953, -5.4953, -5.4953, -5.4953, -5.4953, -5.4953, -5.4953, -5.4953, -5.4953, -5.4953, -5.4953, -5.4954, -5.4953, -5.4954, -5.4954, -5.4954, -5.4954, -3.9614, -4.8872, -4.8894, -4.8908, -4.4593, -4.4593, -4.724, -4.3858, -4.1212, -5.1531, -4.4214, -4.8874, -4.712, -5.3398, -4.6989, -5.1816, -4.9184, -5.4306, -5.2719, -4.1787, -4.8478, -4.8478, -4.8478, -4.8478, -4.8478, -4.849, -4.4583, -4.5778, -5.4944, -5.4944, -5.4944, -5.4944, -5.4944, -5.4944, -5.4944, -5.4944, -5.4944, -5.4944, -5.4944, -5.4944, -5.4944, -5.4944, -5.4944, -5.4944, -5.4944, -5.4944, -5.4944, -5.4944, -5.4944, -4.8478, -4.8478, -4.8478, -4.7342, -4.8478, -4.4586, -4.5514, -5.286, -4.8484, -4.6282, -5.3049, -4.7188, -5.3142, -5.3145, -4.4806, -5.2801, -5.3855, -5.2943, -5.3498, -5.1851, -5.3074, -4.5662, -5.2128, -5.2128, -5.2128, -5.2128, -5.2128, -5.2128, -5.2128, -5.2128, -5.2128, -5.2128, -5.2128, -5.2128, -5.2128, -5.2128, -5.2128, -5.2128, -5.2128, -5.2128, -5.2128, -5.2128, -5.2128, -5.2128, -5.2128, -5.2128, -5.2128, -5.2128, -5.2128, -5.2128, -5.2128, -4.5662, -4.1767, -4.1767, -4.5662, -5.0015, -4.754, -4.5662, -5.0067, -5.1624, -5.2127, -5.2128, -5.2128, -5.2128, -5.2128, -5.2128, -5.2128, -5.2128, -5.2128, -5.2128, -5.2128, -5.2128, -4.6178, -4.6179, -5.2644, -5.2644, -5.2644, -5.2644, -5.2644, -5.2644, -5.2644, -5.2644, -5.2644, -5.2644, -5.2644, -5.2644, -5.2644, -5.2644, -5.2644, -5.2644, -5.2644, -5.2644, -5.2644, -5.2645, -5.2645, -5.2645, -5.2645, -5.2645, -5.2645, -5.2644, -5.2645, -5.2645, -4.6178, -4.6865, -4.6179, -4.6179, -4.3656, -4.8751, -4.7241, -4.5068, -4.6164, -4.6371, -5.2488, -5.2622, -5.2622, -5.2644, -5.2644, -5.2644, -4.573, -4.573, -4.5731, -4.2112, -5.2196, -5.2196, -5.2196, -5.2197, -5.2196, -5.2197, -5.2197, -5.2197, -5.2197, -5.2197, -5.2197, -5.2197, -5.2197, -5.2197, -5.2197, -5.2197, -5.2197, -5.2197, -5.2197, -5.2197, -5.2197, -5.2197, -5.2197, -5.2197, -5.2197, -5.2197, -4.573, -4.5731, -4.3635, -3.8156, -4.5731, -4.5731, -5.0521, -5.0536, -5.0867, -5.2196, -5.2196, -5.2196, -5.2197, -5.2197, -5.2197, -4.6578, -4.6579, -4.6579, -4.379, -4.6579, -5.3044, -5.3044, -5.3044, -5.3045, -5.3045, -5.3045, -5.3045, -5.3045, -5.3045, -5.3045, -5.3045, -5.3045, -5.3045, -5.3045, -5.3045, -5.3045, -5.3045, -5.3045, -5.3045, -5.3045, -5.3045, -5.3045, -5.3045, -5.3045, -5.3045, -4.6957, -4.6579, -4.6676, -5.0752, -4.8261, -3.9389, -4.6578, -4.8814, -4.6578, -5.2191, -5.2267, -5.3044, -5.3044, -5.3045, -5.3045, -5.3045, -5.3045, -4.0294, -4.0294, -4.4189, -5.0654, -5.0654, -5.0654, -5.0654, -5.0654, -5.0654, -5.0654, -5.0654, -5.0654, -5.0654, -5.0654, -5.0654, -5.0655, -5.0655, -5.0655, -5.0655, -5.0655, -5.0655, -5.0655, -5.0655, -5.0655, -5.0655, -5.0655, -5.0655, -5.0655, -5.0655, -4.4188, -4.4189, -4.4188, -4.4188, -4.4188, -3.9832, -4.6333, -5.0237, -5.0654, -5.0654, -5.0654, -5.0654, -5.0654, -5.0654, -5.0654, -5.0654], \"loglift\": [30.0, 29.0, 28.0, 27.0, 26.0, 25.0, 24.0, 23.0, 22.0, 21.0, 20.0, 19.0, 18.0, 17.0, 16.0, 15.0, 14.0, 13.0, 12.0, 11.0, 10.0, 9.0, 8.0, 7.0, 6.0, 5.0, 4.0, 3.0, 2.0, 1.0, 1.6333, 1.6005, 1.5396, 1.5396, 1.5395, 1.4315, 1.4307, 1.3148, 1.3147, 1.3147, 1.3147, 1.3147, 1.3147, 1.3147, 1.3147, 1.3147, 1.3147, 1.3147, 1.3147, 1.3147, 1.3147, 1.3147, 1.3147, 1.3147, 1.3147, 1.3147, 1.3147, 1.3147, 1.3147, 1.3147, 1.2607, 1.2565, 1.037, 1.2424, 1.0136, 1.1573, 1.2228, 1.0868, 1.1938, 1.0545, 1.1155, 0.8359, 1.0317, 0.9694, 1.009, 0.9847, 0.4311, 0.4743, 0.858, 0.4737, 0.7722, 0.726, 0.6263, 0.2046, 0.0454, -0.3703, 0.3837, 0.3007, 1.6126, 1.6126, 1.5707, 1.521, 1.4266, 1.4222, 1.4083, 1.4083, 1.4083, 1.4083, 1.4083, 1.4083, 1.4083, 1.4083, 1.4083, 1.4083, 1.4083, 1.4083, 1.4083, 1.4083, 1.4083, 1.4083, 1.4083, 1.4083, 1.4083, 1.4083, 1.4083, 1.4083, 1.4083, 1.4083, 1.3799, 1.2538, 1.3023, 1.2952, 1.3253, 1.3129, 1.0062, 1.2248, 0.6679, 0.8328, 1.2424, 1.0276, 1.0086, 1.137, 0.5142, 1.0885, 0.9456, 0.8099, 0.573, 0.7138, -0.1981, 0.852, 0.8355, 0.8517, 0.202, -0.0223, -0.4809, 0.1552, 0.3695, 1.8383, 1.6937, 1.6937, 1.6937, 1.6936, 1.6936, 1.6936, 1.6936, 1.6936, 1.6936, 1.4718, 1.4697, 1.4697, 1.4697, 1.4697, 1.4697, 1.4697, 1.4697, 1.4697, 1.4697, 1.4697, 1.4697, 1.4697, 1.4697, 1.4697, 1.4697, 1.4697, 1.4697, 1.4697, 1.4697, 1.3998, 1.4129, 1.3989, 1.3647, 1.3647, 1.3647, 0.8933, 0.6045, 1.0159, 1.1555, 0.9727, 0.8456, 0.5683, 0.3352, 0.1833, 0.3346, -0.5662, 0.1958, 0.9358, 0.2323, -0.4604, 1.8882, 1.8882, 1.8882, 1.8882, 1.863, 1.8575, 1.8574, 1.8562, 1.855, 1.8549, 1.8542, 1.827, 1.6541, 1.6541, 1.6541, 1.6541, 1.6541, 1.6541, 1.6541, 1.6541, 1.6541, 1.6541, 1.6541, 1.6541, 1.6541, 1.6541, 1.6541, 1.6541, 1.6541, 1.6541, 1.553, 1.5611, 1.5114, 1.5102, 1.272, 1.1101, 1.2073, 0.7961, 0.3136, 1.3227, 0.4756, 0.9593, 0.7461, 1.3813, 0.0452, 0.5012, -0.5244, 1.2884, 0.0637, 2.0732, 1.9155, 1.9155, 1.9155, 1.9154, 1.9154, 1.9142, 1.7726, 1.6767, 1.6749, 1.6749, 1.6749, 1.6749, 1.6749, 1.6749, 1.6749, 1.6749, 1.6749, 1.6749, 1.6749, 1.6749, 1.6749, 1.6748, 1.6748, 1.6748, 1.6748, 1.6748, 1.6748, 1.6748, 1.6748, 1.6341, 1.6027, 1.4386, 1.2834, 1.3265, 1.1008, 0.7843, 1.4194, 0.7775, 0.4187, 1.3984, 0.4631, 1.3883, 1.3877, -0.0866, 1.1204, 1.3662, 0.5417, 0.8249, -0.441, 0.3755, 2.1173, 1.8961, 1.8961, 1.8961, 1.896, 1.896, 1.896, 1.896, 1.896, 1.896, 1.896, 1.896, 1.896, 1.896, 1.896, 1.896, 1.896, 1.896, 1.896, 1.896, 1.896, 1.896, 1.896, 1.896, 1.896, 1.896, 1.896, 1.896, 1.896, 1.896, 1.8487, 1.8171, 1.7099, 1.5988, 1.7265, 1.488, 0.4807, 0.6761, 0.4554, -0.7779, 0.3016, 1.2447, 0.8133, 1.2127, -0.3158, 1.5728, 1.2286, 1.0775, 1.248, 1.6322, 1.5183, 2.1632, 2.1632, 1.9182, 1.9181, 1.9181, 1.9181, 1.9181, 1.9181, 1.9181, 1.9181, 1.9181, 1.9181, 1.9181, 1.9181, 1.9181, 1.9181, 1.9181, 1.9181, 1.9181, 1.9181, 1.9181, 1.9181, 1.9181, 1.9181, 1.9181, 1.9181, 1.9181, 1.9181, 1.9181, 1.9181, 1.8946, 1.787, 1.6671, 1.4829, 0.8871, 1.2312, 0.8938, -0.1128, 0.1278, -0.2023, 1.5296, 1.451, 0.7115, 0.9767, 1.445, 1.5077, 2.2313, 2.2313, 2.2312, 2.0218, 1.9803, 1.9803, 1.9803, 1.9803, 1.9803, 1.9803, 1.9802, 1.9802, 1.9802, 1.9802, 1.9802, 1.9802, 1.9802, 1.9802, 1.9802, 1.9802, 1.9802, 1.9802, 1.9802, 1.9802, 1.9802, 1.9802, 1.9802, 1.9802, 1.9802, 1.9802, 1.9397, 1.9397, 1.844, 0.9285, 0.7863, -0.1382, 1.4241, 1.1754, 1.0707, 1.2562, 1.5304, 0.2385, -0.0377, 0.5116, 1.2364, 2.2558, 2.2558, 2.2558, 2.2378, 2.0339, 1.9755, 1.9755, 1.9755, 1.9755, 1.9755, 1.9755, 1.9755, 1.9755, 1.9755, 1.9755, 1.9755, 1.9755, 1.9755, 1.9755, 1.9755, 1.9755, 1.9755, 1.9755, 1.9755, 1.9754, 1.9754, 1.9754, 1.9754, 1.9754, 1.9754, 1.8464, 1.6375, 1.6227, 1.7559, 1.496, 0.4551, 1.2562, 1.1991, 0.6073, 1.6438, 0.3327, 1.5407, 0.8739, 1.5407, 1.5407, 0.5821, 0.9413, 2.7604, 2.7604, 2.6187, 2.3023, 2.3023, 2.3023, 2.3023, 2.3023, 2.3023, 2.3023, 2.3023, 2.3023, 2.3023, 2.3023, 2.3023, 2.3023, 2.3023, 2.3023, 2.3023, 2.3023, 2.3023, 2.3023, 2.3023, 2.3023, 2.3023, 2.3023, 2.3023, 2.3023, 2.3023, 2.1813, 1.9816, 1.9661, 1.9623, 1.7596, 0.4108, 1.0495, -0.5889, 0.1166, 1.237, 1.4725, 1.4663, 0.1997, 1.8199, 1.5097, 1.7795]}, \"token.table\": {\"Topic\": [9, 6, 7, 9, 3, 6, 2, 6, 7, 5, 3, 4, 5, 6, 4, 4, 2, 1, 6, 7, 9, 7, 5, 1, 2, 1, 2, 4, 5, 7, 8, 10, 2, 1, 4, 9, 7, 7, 6, 7, 5, 1, 3, 6, 9, 5, 6, 2, 9, 1, 9, 2, 3, 9, 4, 2, 3, 7, 2, 1, 2, 4, 8, 9, 5, 1, 6, 8, 9, 4, 5, 1, 1, 5, 6, 1, 2, 3, 4, 5, 6, 7, 8, 1, 2, 3, 4, 6, 1, 2, 4, 9, 1, 2, 3, 5, 6, 7, 8, 2, 3, 1, 7, 7, 6, 9, 8, 6, 2, 7, 7, 3, 5, 7, 1, 1, 2, 7, 5, 3, 2, 3, 9, 6, 4, 5, 9, 9, 9, 7, 6, 9, 2, 7, 3, 10, 9, 8, 1, 7, 8, 7, 2, 8, 2, 3, 4, 8, 2, 1, 2, 3, 4, 5, 6, 7, 9, 10, 1, 3, 4, 5, 4, 6, 6, 3, 7, 7, 2, 4, 2, 7, 5, 7, 6, 9, 6, 8, 9, 9, 3, 4, 8, 2, 4, 9, 8, 6, 1, 1, 3, 9, 2, 8, 2, 3, 1, 3, 6, 7, 4, 7, 7, 1, 2, 7, 1, 2, 4, 5, 6, 10, 2, 10, 2, 4, 2, 1, 2, 1, 1, 2, 3, 8, 9, 5, 2, 3, 2, 4, 6, 7, 2, 4, 1, 7, 7, 3, 4, 2, 5, 3, 6, 5, 7, 8, 1, 3, 1, 7, 2, 4, 1, 7, 6, 2, 5, 2, 3, 4, 4, 1, 9, 1, 2, 3, 5, 6, 9, 1, 2, 3, 4, 3, 7, 1, 8, 1, 8, 2, 5, 2, 5, 6, 3, 4, 5, 8, 1, 3, 4, 1, 4, 4, 10, 5, 7, 7, 5, 2, 3, 7, 5, 7, 8, 1, 8, 4, 9, 6, 4, 5, 10, 1, 2, 3, 9, 10, 2, 1, 10, 2, 6, 8, 1, 4, 10, 1, 6, 7, 8, 1, 5, 9, 2, 8, 4, 8, 1, 1, 6, 2, 1, 8, 7, 9, 3, 3, 5, 1, 4, 1, 9, 1, 3, 4, 8, 9, 3, 3, 4, 1, 3, 4, 6, 4, 2, 2, 3, 8, 3, 8, 5, 7, 1, 2, 3, 4, 6, 8, 9, 1, 4, 5, 3, 2, 8, 2, 4, 8, 8, 1, 2, 5, 5, 8, 2, 9, 5, 1, 2, 3, 1, 2, 3, 5, 8, 3, 5, 2, 3, 5, 1, 2, 5, 7, 1, 4, 1, 4, 2, 7, 6, 3, 7, 9, 6, 2, 6, 1, 2, 3, 4, 5, 8, 1, 7, 9, 6, 7, 5, 5, 7, 8, 1, 2, 1, 1, 2, 3, 4, 5, 8, 2, 5, 4, 5, 6, 6, 8, 1, 2, 2, 1, 6, 9, 8, 1, 4, 8, 8, 6, 6, 2, 3, 6, 6, 1, 3, 4, 8, 9, 2, 5, 9, 9, 5, 2, 5, 6, 3, 3, 7, 1, 1, 3, 2, 8, 4, 7, 1, 2, 4, 5, 9, 6, 7, 8, 6, 3, 1, 2, 1, 4, 2, 3, 9, 2, 1, 4, 1, 1, 6, 3, 9, 1, 2, 3, 7, 5, 1, 2, 3, 4, 5, 1, 4, 9, 1, 2, 9, 8, 4, 1, 9, 7, 9, 1, 5, 8, 8, 8, 1, 2, 5, 6, 7, 9, 5, 3, 9, 1, 6, 6, 9, 1, 2, 4, 5, 2, 8, 1, 2, 4, 7, 8, 7, 1, 4, 4, 1, 4, 1, 2, 3, 5, 6, 5, 1, 1, 2, 3, 4, 6, 7, 8, 8, 3, 5, 2, 3, 3, 8, 6, 9, 6, 3, 6, 8, 8, 9, 5, 6, 5, 1, 3, 6, 8, 2, 4, 4, 5, 3, 3, 6, 4, 5, 9, 4, 8, 3, 4, 2, 5], \"Freq\": [0.9023120552980296, 0.7604074536327103, 0.8185904797140239, 0.90231087771818, 0.7669322537597105, 0.5195811343845277, 0.7179175025983207, 0.7604113810419953, 0.5478628819827717, 0.8077466652958254, 0.15437055479371284, 0.4631116643811385, 0.15437055479371284, 0.15437055479371284, 0.7919045217144611, 0.5305966008820627, 0.7179148271165942, 0.7512259001280244, 0.49696284533207674, 0.8185865250724103, 0.9022929907498424, 0.818583263595142, 0.8077697013224268, 0.289647632143366, 0.289647632143366, 0.25535460509569197, 0.25535460509569197, 0.25535460509569197, 0.25535460509569197, 0.41895083117856113, 0.41895083117856113, 0.5526833154345061, 0.71791059374279, 0.3840376611930055, 0.3840376611930055, 0.9022986522432793, 0.8185881817928343, 0.8185829255509117, 0.33947231954391466, 0.33947231954391466, 0.8077575382339741, 0.27192305815249773, 0.27192305815249773, 0.27192305815249773, 0.27192305815249773, 0.37991272150872457, 0.37991272150872457, 0.7179100727698049, 0.625584811437662, 0.5760189389936413, 0.5760189389936413, 0.2537458403080289, 0.5074916806160578, 0.2537458403080289, 0.7919017902303894, 0.3616962161639766, 0.3616962161639766, 0.8185840089439637, 0.47309799510455386, 0.24064478892818547, 0.3609671833922782, 0.12032239446409274, 0.12032239446409274, 0.12032239446409274, 0.8077608025015359, 0.2239931945391844, 0.4479863890783688, 0.2239931945391844, 0.2239931945391844, 0.7918901027612891, 0.8077698794805593, 0.7691708263842918, 0.502849335536261, 0.2514246677681305, 0.2514246677681305, 0.07145831429801659, 0.28583325719206637, 0.07145831429801659, 0.14291662859603319, 0.07145831429801659, 0.07145831429801659, 0.07145831429801659, 0.2143749428940498, 0.2444010381503922, 0.2444010381503922, 0.2444010381503922, 0.2444010381503922, 0.7603974974642721, 0.23022767599226762, 0.23022767599226762, 0.23022767599226762, 0.23022767599226762, 0.1188355842925917, 0.1188355842925917, 0.2376711685851834, 0.1188355842925917, 0.1188355842925917, 0.2376711685851834, 0.1188355842925917, 0.7120631909017892, 0.3560315954508946, 0.7691715305169042, 0.5478811352425936, 0.8185920421058072, 0.5503601071103519, 0.5503601071103519, 0.8329042829850807, 0.5840382582771776, 0.4845825471914587, 0.8185936926200357, 0.8185871628002035, 0.2774869897592539, 0.2774869897592539, 0.2774869897592539, 0.769172711195212, 0.7691705267710099, 0.5100134779740411, 0.5100134779740411, 0.8077596192417711, 0.50256347357472, 0.35349916772766765, 0.35349916772766765, 0.9023031953322701, 0.7604111064643775, 0.7918980408737882, 0.8077731229460104, 0.6255356773408692, 0.9022825724013986, 0.6255697649885478, 0.8185779913711719, 0.7603919965720783, 0.5010763383240685, 0.7179154707404669, 0.8185884472804082, 0.7669389767239794, 0.7081160706678769, 0.902322476255221, 0.8329070580469731, 0.7691633463846642, 0.818582608632434, 0.8329006798568929, 0.8185861319425689, 0.5872876409292189, 0.29364382046460946, 0.43780330587147276, 0.1459344352904909, 0.2918688705809818, 0.1459344352904909, 0.9225536127732032, 0.40279716827596607, 0.10069929206899152, 0.05034964603449576, 0.05034964603449576, 0.10069929206899152, 0.05034964603449576, 0.05034964603449576, 0.10069929206899152, 0.05034964603449576, 0.7691795058520334, 0.3795757242259026, 0.3795757242259026, 0.8077698211850232, 0.7918985437208735, 0.7604202378011037, 0.7604005315298953, 0.7669389816568706, 0.5464222709616484, 0.8185926072761956, 0.3745973891285857, 0.3745973891285857, 0.7179157438375052, 0.8185947506603928, 0.8077566836063318, 0.8185768511192588, 0.7603941810577463, 0.9023012906518484, 0.7604093796931883, 0.832896880336247, 0.9023147182735152, 0.9023191419251523, 0.3928265975503642, 0.3928265975503642, 0.8329100661745158, 0.38741910122115414, 0.5274908429671435, 0.9023047490894102, 0.8329101362249163, 0.760405317348323, 0.7691697383897835, 0.33709120743665105, 0.33709120743665105, 0.33709120743665105, 0.4768951550612927, 0.8329012206228051, 0.7179243044027089, 0.7669398581949999, 0.769158369009006, 0.3839276229171039, 0.3839276229171039, 0.3839276229171039, 0.5242284422203746, 0.8185795146316982, 0.8185883435306802, 0.2918159934490252, 0.2918159934490252, 0.2918159934490252, 0.18270191095326022, 0.18270191095326022, 0.18270191095326022, 0.18270191095326022, 0.18270191095326022, 0.18270191095326022, 0.45720223755714967, 0.45720223755714967, 0.717911975633379, 0.7918997830781882, 0.71791335879613, 0.5044869671526304, 0.7179138922456622, 0.7691670438471641, 0.3058359062088827, 0.15291795310444134, 0.3058359062088827, 0.15291795310444134, 0.15291795310444134, 0.8077607777818632, 0.4769118674323608, 0.5025640705747679, 0.9444403618553332, 0.3900921976109912, 0.3900921976109912, 0.3900921976109912, 0.7179176413807222, 0.791904872728001, 0.42964956159162115, 0.8185799947479827, 0.8185802194631597, 0.7669341198836896, 0.7919075898733977, 0.506346700393191, 0.506346700393191, 0.7669264852416353, 0.7604153523703798, 0.279027611932759, 0.279027611932759, 0.279027611932759, 0.7691593290523757, 0.5025556564586783, 0.5045010339829866, 0.8185843961186068, 0.37465463378211394, 0.37465463378211394, 0.40285292086801083, 0.40285292086801083, 0.7604143900417681, 0.5662109658877867, 0.28310548294389337, 0.3827449947571163, 0.3827449947571163, 0.7918974052380287, 0.7919079566487494, 0.769175053655116, 0.9022972675736232, 0.2901879920038216, 0.2901879920038216, 0.19345866133588108, 0.19345866133588108, 0.09672933066794054, 0.9023181319346218, 0.1631063529283268, 0.3262127058566536, 0.1631063529283268, 0.3262127058566536, 0.5025608391494475, 0.8185688441107832, 0.7506660279333119, 0.8328955826745169, 0.7691738553451805, 0.8329148496672275, 0.5079708673109627, 0.5079708673109627, 0.2986551593219109, 0.2986551593219109, 0.7604085870479312, 0.7669431337899928, 0.5320254555012063, 0.5320254555012063, 0.8329040069892286, 0.25517923069981574, 0.25517923069981574, 0.25517923069981574, 0.7691726450021479, 0.7919017550418166, 0.7919034635996527, 0.552690716086166, 0.5430012574586798, 0.5430012574586798, 0.8185929244557905, 0.807765275175959, 0.3675162415513855, 0.3675162415513855, 0.8185818466341368, 0.6472041396976159, 0.32360206984880796, 0.5607778373057275, 0.7691716195293246, 0.8329086476214118, 0.527473884066959, 0.9022933732290941, 0.7604167202511599, 0.37446340303247194, 0.37446340303247194, 0.37446340303247194, 0.7691602145748905, 0.29988695050996234, 0.29988695050996234, 0.29988695050996234, 0.29988695050996234, 0.7089144239119693, 0.3672761136518176, 0.3672761136518176, 0.24934142253737418, 0.49868284507474836, 0.24934142253737418, 0.3686715293387248, 0.3686715293387248, 0.3686715293387248, 0.3192911334889886, 0.3192911334889886, 0.3192911334889886, 0.8329138391517911, 0.39369406465296924, 0.39369406465296924, 0.9023122653573048, 0.7179068429864115, 0.8329039471380374, 0.40378178668145337, 0.40378178668145337, 0.5062507619412493, 0.39643593658000525, 0.39643593658000525, 0.7179085358271207, 0.5311419929471884, 0.5311419929471884, 0.5841402664403649, 0.5841402664403649, 0.7669395193315789, 0.5025867457251418, 0.5381759408756238, 0.2342130839995991, 0.4684261679991982, 0.7691725583580489, 0.902301369098319, 0.3742744281218066, 0.3742744281218066, 0.5278201382173762, 0.5945769687386296, 0.5945769687386296, 0.7669342703175169, 0.502565243666717, 0.5242262949618793, 0.2152265434299663, 0.2152265434299663, 0.2152265434299663, 0.2152265434299663, 0.5268927854589887, 0.717921466002978, 0.315454725199635, 0.315454725199635, 0.315454725199635, 0.40390904307621167, 0.40390904307621167, 0.5382156226111646, 0.4188313971447855, 0.24977999189987254, 0.166519994599915, 0.24977999189987254, 0.166519994599915, 0.0832599972999575, 0.0832599972999575, 0.0832599972999575, 0.3105993301276073, 0.3105993301276073, 0.3105993301276073, 0.8924494309983041, 0.3167399980049155, 0.633479996009831, 0.71790840846881, 0.4459273823612446, 0.4459273823612446, 0.8328984640557492, 0.29877192521792983, 0.29877192521792983, 0.29877192521792983, 0.807753267213322, 0.8329109296999428, 0.7179140831126312, 0.9023168002635128, 0.5382349328191371, 0.7691793025840338, 0.7179238813173238, 0.7669397859614898, 0.2129486846121117, 0.2129486846121117, 0.2129486846121117, 0.2129486846121117, 0.2129486846121117, 0.7669346555987451, 0.8077466048257649, 0.3617054169358869, 0.3617054169358869, 0.8077636379387545, 0.4912944910355325, 0.4912944910355325, 0.40623151354966874, 0.40623151354966874, 0.42698004834501524, 0.42698004834501524, 0.5160075589171008, 0.5160075589171008, 0.5119136299380079, 0.5119136299380079, 0.7604154157017303, 0.7669335109624751, 0.5841371944062488, 0.5841371944062488, 0.7604121473749949, 0.7179235431748989, 0.7604075489765617, 0.17257345846130082, 0.17257345846130082, 0.17257345846130082, 0.17257345846130082, 0.17257345846130082, 0.17257345846130082, 0.33359825238757845, 0.33359825238757845, 0.33359825238757845, 0.5211781882942442, 0.5211781882942442, 0.968334406730442, 0.8077729371584517, 0.8185972644268615, 0.832907734636219, 0.47539734473139994, 0.47539734473139994, 0.509173625858449, 0.11071687610451053, 0.22143375220902106, 0.11071687610451053, 0.22143375220902106, 0.11071687610451053, 0.11071687610451053, 0.506456454957515, 0.506456454957515, 0.7918987862814713, 0.8077633391656435, 0.7604104389003703, 0.7604162709628586, 0.832889906221116, 0.7691693913655256, 0.7179166055347381, 0.7179176761546373, 0.3353786963379073, 0.3353786963379073, 0.3353786963379073, 0.5607704801738882, 0.3958562786045807, 0.3958562786045807, 0.3958562786045807, 0.8329077129801776, 0.7604039888313159, 0.760413359080768, 0.2844221704443553, 0.2844221704443553, 0.2844221704443553, 0.7603950644044399, 0.19175644138477943, 0.19175644138477943, 0.38351288276955886, 0.19175644138477943, 0.902316878211109, 0.7179267485154202, 0.5382117772932569, 0.9023068927263362, 0.9023001713629543, 0.8077634401071471, 0.2958809852343022, 0.2958809852343022, 0.2958809852343022, 0.7669359365575315, 0.502581807718656, 0.8185754010062833, 0.7691751997769252, 0.7691674324692257, 0.5025640549468313, 0.30874764090801776, 0.6174952818160355, 0.5242362701730143, 0.8185940891704565, 0.16148497189955427, 0.16148497189955427, 0.16148497189955427, 0.32296994379910854, 0.16148497189955427, 0.7604086821796627, 0.41896480011411713, 0.41896480011411713, 0.7603992958570328, 0.7669281745779941, 0.28851157866419763, 0.28851157866419763, 0.5149012243028988, 0.5149012243028988, 0.7179203375334555, 0.7669344592052095, 0.46488079355047, 0.7179094822784213, 0.5044839177970385, 0.524221702705104, 0.7691690215436577, 0.39773116461767716, 0.39773116461767716, 0.7669380042138253, 0.902299271849929, 0.24437198736026447, 0.24437198736026447, 0.24437198736026447, 0.24437198736026447, 0.8077664917495575, 0.12910727206391664, 0.12910727206391664, 0.12910727206391664, 0.12910727206391664, 0.2582145441278333, 0.3208019564890584, 0.3208019564890584, 0.3208019564890584, 0.36038641275237626, 0.36038641275237626, 0.9023051131820092, 0.8329010949348447, 0.5276057590891311, 0.34622611533789177, 0.34622611533789177, 0.584138366695889, 0.584138366695889, 0.517208209930328, 0.258604104965164, 0.258604104965164, 0.832904808867154, 0.832896285082251, 0.1712040596426366, 0.1712040596426366, 0.1712040596426366, 0.1712040596426366, 0.1712040596426366, 0.1712040596426366, 0.8077652749652727, 0.5025830352376184, 0.9023000073097215, 0.5150290342548736, 0.2575145171274368, 0.7604225698372089, 0.9023061900738528, 0.5038706347416335, 0.25193531737081676, 0.25193531737081676, 0.25193531737081676, 0.7179255760301325, 0.5607623048900096, 0.13220704760816707, 0.5288281904326683, 0.13220704760816707, 0.13220704760816707, 0.13220704760816707, 0.8185847529979797, 0.7691657596887503, 0.7919035701629131, 0.7919011476608114, 0.7691769652114552, 0.7918932125962881, 0.2113044514233776, 0.2113044514233776, 0.2113044514233776, 0.2113044514233776, 0.2113044514233776, 0.8077700143633031, 0.5169117400694496, 0.4196041182171227, 0.10490102955428067, 0.052450514777140335, 0.157351544331421, 0.052450514777140335, 0.052450514777140335, 0.052450514777140335, 0.8329027028691723, 0.3160674078772628, 0.6321348157545256, 0.3617031962500898, 0.3617031962500898, 0.38746588161722023, 0.38746588161722023, 0.43144200475550026, 0.43144200475550026, 0.7604182478728048, 0.3195756588623451, 0.3195756588623451, 0.8329119086682785, 0.8329100893482153, 0.9022934238405119, 0.5382333047033487, 0.7604026857445205, 0.8077685262387425, 0.3747915078579382, 0.3747915078579382, 0.7604128240026536, 0.8328964117537236, 0.9225624387846472, 0.5277396966095648, 0.7919001031297023, 0.5382032479459941, 0.7669329853218153, 0.7669335246271598, 0.7604139998603446, 0.33409947992866873, 0.33409947992866873, 0.33409947992866873, 0.7919118763591301, 0.8329143533456079, 0.7669349111261801, 0.5277360213705303, 0.5069077584026526, 0.5069077584026526], \"Term\": [\"ability\", \"abroad\", \"academics\", \"access\", \"accomplished\", \"account\", \"acknowledge\", \"across\", \"activated\", \"actual\", \"actually\", \"actually\", \"actually\", \"actually\", \"addition\", \"adeniyanisrael\", \"advisable\", \"affairs\", \"affect\", \"afresh\", \"africa\", \"afternoon\", \"aggressive\", \"almost\", \"almost\", \"always\", \"always\", \"always\", \"always\", \"ambition\", \"ambition\", \"america\", \"amount\", \"anambra\", \"anambra\", \"animal\", \"antibiotics\", \"antibodies\", \"anybody\", \"anybody\", \"anyhow\", \"anyone\", \"anyone\", \"anyone\", \"anyone\", \"anything\", \"anything\", \"appointment\", \"appreciate\", \"arrested\", \"arrested\", \"asiwaju\", \"asiwaju\", \"asiwaju\", \"aspiring\", \"available\", \"available\", \"bearing\", \"become\", \"believe\", \"believe\", \"believe\", \"believe\", \"believe\", \"besides\", \"better\", \"better\", \"better\", \"better\", \"beyond\", \"biafra\", \"bqththocwdgqavd\", \"brought\", \"brought\", \"brought\", \"buhari\", \"buhari\", \"buhari\", \"buhari\", \"buhari\", \"buhari\", \"buhari\", \"buhari\", \"business\", \"business\", \"business\", \"business\", \"cadres\", \"campaign\", \"campaign\", \"campaign\", \"campaign\", \"candidate\", \"candidate\", \"candidate\", \"candidate\", \"candidate\", \"candidate\", \"candidate\", \"candidates\", \"candidates\", \"captured\", \"career\", \"chance\", \"change\", \"change\", \"changes\", \"charges\", \"checks\", \"childbirth\", \"children\", \"choice\", \"choice\", \"choice\", \"choices\", \"chooses\", \"citizen\", \"citizen\", \"cleansing\", \"collaboration\", \"collect\", \"collect\", \"combatants\", \"comfortable\", \"coming\", \"comments\", \"commission\", \"commissioned\", \"comprehensive\", \"computer\", \"concern\", \"concerned\", \"confusing\", \"connectivity\", \"consider\", \"considered\", \"consist\", \"constantly\", \"constituency\", \"contact\", \"continue\", \"corpers\", \"corrupt\", \"corrupt\", \"corruption\", \"corruption\", \"corruption\", \"corruption\", \"counterfeit\", \"country\", \"country\", \"country\", \"country\", \"country\", \"country\", \"country\", \"country\", \"country\", \"courses\", \"covetousness\", \"covetousness\", \"created\", \"creative\", \"creator\", \"crippling\", \"critic\", \"crypto\", \"cultural\", \"currency\", \"currency\", \"custody\", \"cybersecurity\", \"declare\", \"delivery\", \"democratic\", \"department\", \"destiny\", \"destroyed\", \"details\", \"determine\", \"developed\", \"developed\", \"difference\", \"difficult\", \"digital\", \"direct\", \"directly\", \"disbursement\", \"discussion\", \"dollars\", \"dollars\", \"dollars\", \"domination\", \"dozens\", \"dysfunctional\", \"easier\", \"economic\", \"economy\", \"economy\", \"economy\", \"educated\", \"education\", \"educational\", \"either\", \"either\", \"either\", \"election\", \"election\", \"election\", \"election\", \"election\", \"election\", \"elections\", \"elections\", \"emphasizing\", \"enable\", \"enacted\", \"engineering\", \"england\", \"english\", \"enough\", \"enough\", \"enough\", \"enough\", \"enough\", \"enslaved\", \"entered\", \"enterprises\", \"entire\", \"especially\", \"especially\", \"especially\", \"evening\", \"everyday\", \"except\", \"exchange\", \"experiences\", \"factual\", \"faithful\", \"falling\", \"falling\", \"families\", \"faster\", \"favorite\", \"favorite\", \"favorite\", \"favors\", \"federal\", \"finished\", \"flexiblehr\", \"follow\", \"follow\", \"forget\", \"forget\", \"freeman\", \"fulani\", \"fulani\", \"general\", \"general\", \"generation\", \"gibberish\", \"google\", \"govern\", \"government\", \"government\", \"government\", \"government\", \"government\", \"governmental\", \"governor\", \"governor\", \"governor\", \"governor\", \"governors\", \"graduates\", \"grammar\", \"granting\", \"gsrjrpyb\", \"guarantee\", \"happen\", \"happen\", \"happened\", \"happened\", \"heavily\", \"helter\", \"ignorance\", \"ignorance\", \"ignoring\", \"impact\", \"impact\", \"impact\", \"impacted\", \"importantly\", \"income\", \"individual\", \"individuals\", \"individuals\", \"inherit\", \"instruments\", \"intelligent\", \"intelligent\", \"intentionally\", \"interest\", \"interest\", \"interviews\", \"invest\", \"invested\", \"invitation\", \"involved\", \"irritating\", \"islamic\", \"islamic\", \"islamic\", \"islamically\", \"issues\", \"issues\", \"issues\", \"issues\", \"jonathan\", \"judgement\", \"judgement\", \"killed\", \"killed\", \"killed\", \"killing\", \"killing\", \"killing\", \"kindly\", \"kindly\", \"kindly\", \"kudossss\", \"landing\", \"landing\", \"lastly\", \"latter\", \"layoffs\", \"leader\", \"leader\", \"leaders\", \"lecturing\", \"lecturing\", \"loaned\", \"longer\", \"longer\", \"looking\", \"looking\", \"loyalist\", \"lunched\", \"manifesto\", \"matter\", \"matter\", \"mature\", \"meanwhile\", \"medium\", \"medium\", \"members\", \"memory\", \"memory\", \"mentally\", \"microfinance\", \"military\", \"million\", \"million\", \"million\", \"million\", \"minepi\", \"minority\", \"mistake\", \"mistake\", \"mistake\", \"months\", \"months\", \"narrative\", \"negative\", \"nigeria\", \"nigeria\", \"nigeria\", \"nigeria\", \"nigeria\", \"nigeria\", \"nigeria\", \"nigerians\", \"nigerians\", \"nigerians\", \"nirsal\", \"nobody\", \"nobody\", \"nonsense\", \"normal\", \"normal\", \"nostalgic\", \"nothing\", \"nothing\", \"nothing\", \"obviously\", \"offering\", \"offices\", \"official\", \"officials\", \"offngefd\", \"omooooo\", \"opponent\", \"opposition\", \"opposition\", \"opposition\", \"opposition\", \"opposition\", \"outdated\", \"overseas\", \"owners\", \"owners\", \"pandora\", \"parents\", \"parents\", \"particular\", \"particular\", \"passed\", \"passed\", \"paying\", \"paying\", \"performance\", \"performance\", \"period\", \"physically\", \"please\", \"please\", \"policies\", \"policy\", \"political\", \"politics\", \"politics\", \"politics\", \"politics\", \"politics\", \"politics\", \"positive\", \"positive\", \"positive\", \"poverty\", \"poverty\", \"prayer\", \"praying\", \"pregnant\", \"preparing\", \"present\", \"present\", \"presidency\", \"president\", \"president\", \"president\", \"president\", \"president\", \"president\", \"presidential\", \"presidential\", \"presidents\", \"pressure\", \"process\", \"processes\", \"product\", \"professor\", \"promote\", \"proper\", \"protest\", \"protest\", \"protest\", \"proxies\", \"question\", \"question\", \"question\", \"rarely\", \"realise\", \"realised\", \"reason\", \"reason\", \"reason\", \"recieve\", \"record\", \"record\", \"record\", \"record\", \"reduce\", \"refuses\", \"register\", \"regular\", \"related\", \"relying\", \"remember\", \"remember\", \"remember\", \"requires\", \"research\", \"retained\", \"rulings\", \"rumour\", \"running\", \"sacked\", \"sacked\", \"samris\", \"satisfactory\", \"saying\", \"saying\", \"saying\", \"saying\", \"saying\", \"schooling\", \"science\", \"science\", \"seamlessly\", \"secure\", \"senate\", \"senate\", \"senior\", \"senior\", \"sensitization\", \"sentimental\", \"service\", \"setting\", \"shareeha\", \"shepherd\", \"showed\", \"sister\", \"sister\", \"skelter\", \"skyrocketing\", \"social\", \"social\", \"social\", \"social\", \"solution\", \"someone\", \"someone\", \"someone\", \"someone\", \"someone\", \"something\", \"something\", \"something\", \"southeast\", \"southeast\", \"spenders\", \"standpoint\", \"stanford\", \"started\", \"started\", \"statement\", \"statement\", \"statistics\", \"statistics\", \"statistics\", \"stories\", \"straight\", \"structure\", \"structure\", \"structure\", \"structure\", \"structure\", \"structure\", \"stubbornness\", \"students\", \"studied\", \"studies\", \"studies\", \"suffering\", \"supply\", \"support\", \"support\", \"support\", \"support\", \"supposed\", \"surveillance\", \"system\", \"system\", \"system\", \"system\", \"system\", \"tatters\", \"technical\", \"tenure\", \"terrible\", \"terrorism\", \"testament\", \"things\", \"things\", \"things\", \"things\", \"things\", \"thought\", \"ticket\", \"tinubu\", \"tinubu\", \"tinubu\", \"tinubu\", \"tinubu\", \"tinubu\", \"tinubu\", \"tomorrow\", \"towards\", \"towards\", \"traders\", \"traders\", \"trained\", \"trained\", \"transactions\", \"transactions\", \"transfer\", \"transfers\", \"transfers\", \"transform\", \"transformative\", \"treating\", \"tribal\", \"trillion\", \"trying\", \"understand\", \"understand\", \"unemployment\", \"unprecedented\", \"useless\", \"username\", \"vehemently\", \"victim\", \"volumes\", \"voluntarily\", \"waiting\", \"wanted\", \"wanted\", \"wanted\", \"whoever\", \"wisely\", \"within\", \"worldwide\", \"yoruba\", \"yoruba\"]}, \"R\": 30, \"lambda.step\": 0.01, \"plot.opts\": {\"xlab\": \"PC1\", \"ylab\": \"PC2\"}, \"topic.order\": [9, 4, 8, 2, 6, 10, 7, 5, 1, 3]};\n",
       "\n",
       "function LDAvis_load_lib(url, callback){\n",
       "  var s = document.createElement('script');\n",
       "  s.src = url;\n",
       "  s.async = true;\n",
       "  s.onreadystatechange = s.onload = callback;\n",
       "  s.onerror = function(){console.warn(\"failed to load library \" + url);};\n",
       "  document.getElementsByTagName(\"head\")[0].appendChild(s);\n",
       "}\n",
       "\n",
       "if(typeof(LDAvis) !== \"undefined\"){\n",
       "   // already loaded: just create the visualization\n",
       "   !function(LDAvis){\n",
       "       new LDAvis(\"#\" + \"ldavis_el327617434793757929747590996\", ldavis_el327617434793757929747590996_data);\n",
       "   }(LDAvis);\n",
       "}else if(typeof define === \"function\" && define.amd){\n",
       "   // require.js is available: use it to load d3/LDAvis\n",
       "   require.config({paths: {d3: \"https://d3js.org/d3.v5\"}});\n",
       "   require([\"d3\"], function(d3){\n",
       "      window.d3 = d3;\n",
       "      LDAvis_load_lib(\"https://cdn.jsdelivr.net/gh/bmabey/pyLDAvis@3.4.0/pyLDAvis/js/ldavis.v3.0.0.js\", function(){\n",
       "        new LDAvis(\"#\" + \"ldavis_el327617434793757929747590996\", ldavis_el327617434793757929747590996_data);\n",
       "      });\n",
       "    });\n",
       "}else{\n",
       "    // require.js not available: dynamically load d3 & LDAvis\n",
       "    LDAvis_load_lib(\"https://d3js.org/d3.v5.js\", function(){\n",
       "         LDAvis_load_lib(\"https://cdn.jsdelivr.net/gh/bmabey/pyLDAvis@3.4.0/pyLDAvis/js/ldavis.v3.0.0.js\", function(){\n",
       "                 new LDAvis(\"#\" + \"ldavis_el327617434793757929747590996\", ldavis_el327617434793757929747590996_data);\n",
       "            })\n",
       "         });\n",
       "}\n",
       "</script>"
      ],
      "text/plain": [
       "PreparedData(topic_coordinates=              x         y  topics  cluster       Freq\n",
       "topic                                                \n",
       "8     -0.086539  0.015763       1        1  15.498904\n",
       "3      0.090883  0.065215       2        1  14.966420\n",
       "7      0.132208 -0.112687       3        1  13.308657\n",
       "1     -0.017997  0.006326       4        1  10.743260\n",
       "5      0.028230  0.141104       5        1  10.320421\n",
       "9     -0.053149 -0.046506       6        1   8.755953\n",
       "6     -0.040449  0.010042       7        1   7.983771\n",
       "4      0.044701 -0.014607       8        1   7.368557\n",
       "0     -0.086568 -0.057429       9        1   6.749505\n",
       "2     -0.011320 -0.007220      10        1   4.304552, topic_info=         Term       Freq      Total Category  logprob  loglift\n",
       "4     country  19.000000  19.000000  Default  30.0000  30.0000\n",
       "397  actually   6.000000   6.000000  Default  29.0000  29.0000\n",
       "179    tinubu  19.000000  19.000000  Default  28.0000  28.0000\n",
       "90     system   7.000000   7.000000  Default  27.0000  27.0000\n",
       "920    prayer   3.000000   3.000000  Default  26.0000  26.0000\n",
       "..        ...        ...        ...      ...      ...      ...\n",
       "21     passed   0.436840   2.342030  Topic10  -5.0654   1.4663\n",
       "121   believe   0.436838   8.311005  Topic10  -5.0654   0.1997\n",
       "3     carried   0.436838   1.644506  Topic10  -5.0654   1.8199\n",
       "404    normal   0.436838   2.242518  Topic10  -5.0654   1.5097\n",
       "419   charges   0.436838   1.712217  Topic10  -5.0654   1.7795\n",
       "\n",
       "[532 rows x 6 columns], token_table=      Topic      Freq          Term\n",
       "term                               \n",
       "694       9  0.902312       ability\n",
       "787       6  0.760407        abroad\n",
       "281       7  0.818590     academics\n",
       "337       9  0.902311        access\n",
       "609       3  0.766932  accomplished\n",
       "...     ...       ...           ...\n",
       "181       8  0.832914        wisely\n",
       "375       3  0.766935        within\n",
       "314       4  0.527736     worldwide\n",
       "170       2  0.506908        yoruba\n",
       "170       5  0.506908        yoruba\n",
       "\n",
       "[634 rows x 3 columns], R=30, lambda_step=0.01, plot_opts={'xlab': 'PC1', 'ylab': 'PC2'}, topic_order=[9, 4, 8, 2, 6, 10, 7, 5, 1, 3])"
      ]
     },
     "execution_count": 48,
     "metadata": {},
     "output_type": "execute_result"
    }
   ],
   "source": [
    "import pyLDAvis.gensim_models\n",
    "import pickle \n",
    "import pyLDAvis\n",
    "import os\n",
    "# Visualize the topics\n",
    "pyLDAvis.enable_notebook()\n",
    "LDAvis_prepared = pyLDAvis.gensim_models.prepare(lda_model, corpus, id2word)\n",
    "LDAvis_prepared"
   ]
  },
  {
   "cell_type": "raw",
   "id": "4193a5e2",
   "metadata": {},
   "source": [
    "import gensim\n",
    "from gensim import corpora\n",
    "from gensim.models import LdaModel\n",
    "\n",
    "# Create a dictionary from the text data\n",
    "dictionary = corpora.Dictionary(df['Message'])\n",
    "\n",
    "# Create a corpus from the text data\n",
    "corpus = [dictionary.doc2bow(text) for text in text_data]\n",
    "\n",
    "# Train the LDA model\n",
    "lda_model = LdaModel(corpus=corpus,\n",
    "                     id2word=dictionary,\n",
    "                     num_topics=num_topics,\n",
    "                     random_state=100,\n",
    "                     update_every=1,\n",
    "                     chunksize=100,\n",
    "                     passes=10,\n",
    "                     alpha='auto',\n",
    "                     per_word_topics=True)\n",
    "\n",
    "# Print the most probable words in each topic\n",
    "for idx, topic in lda_model.print_topics(-1):\n",
    "    print('Topic: {} \\nWords: {}'.format(idx, topic))\n"
   ]
  },
  {
   "cell_type": "code",
   "execution_count": null,
   "id": "86d17847",
   "metadata": {},
   "outputs": [],
   "source": [
    "import numpy\n",
    "print(numpy.__version__)"
   ]
  },
  {
   "cell_type": "code",
   "execution_count": null,
   "id": "0217e61b",
   "metadata": {},
   "outputs": [],
   "source": [
    "df.describe()"
   ]
  },
  {
   "cell_type": "raw",
   "id": "cc331d76",
   "metadata": {},
   "source": [
    "#split into date and time\n",
    "\n",
    "df['DateTime'] = pd.to_datetime(df['DateTime'], format='%m/%d/%y, %I:%M:%S %p')\n",
    "\n",
    "# extract the date and time components into separate columns\n",
    "df['date'] = df['datetime'].dt.date\n",
    "df['time'] = df['datetime'].dt.time\n"
   ]
  },
  {
   "cell_type": "raw",
   "id": "fabca990",
   "metadata": {},
   "source": [
    "for i, row in df.iterrows():\n",
    "    try:\n",
    "        date_time = pd.to_datetime(row['DateTime'], format='%m/%d/%y, %I:%M:%S %p')\n",
    "        row['Date'] = date_time.date()\n",
    "        row['Time'] = date_time.time()\n",
    "    except ValueError as e:\n",
    "        print(f\"Error on row {i}: {e}\")\n"
   ]
  },
  {
   "cell_type": "raw",
   "id": "9249015f",
   "metadata": {},
   "source": [
    "df.iloc[12670]"
   ]
  },
  {
   "cell_type": "raw",
   "id": "0287ecc0",
   "metadata": {},
   "source": [
    "df.dtypes"
   ]
  },
  {
   "cell_type": "code",
   "execution_count": null,
   "id": "9c60290d",
   "metadata": {},
   "outputs": [],
   "source": []
  },
  {
   "cell_type": "code",
   "execution_count": null,
   "id": "9e603719",
   "metadata": {},
   "outputs": [],
   "source": []
  }
 ],
 "metadata": {
  "kernelspec": {
   "display_name": "Python 3 (ipykernel)",
   "language": "python",
   "name": "python3"
  },
  "language_info": {
   "codemirror_mode": {
    "name": "ipython",
    "version": 3
   },
   "file_extension": ".py",
   "mimetype": "text/x-python",
   "name": "python",
   "nbconvert_exporter": "python",
   "pygments_lexer": "ipython3",
   "version": "3.8.16"
  }
 },
 "nbformat": 4,
 "nbformat_minor": 5
}
